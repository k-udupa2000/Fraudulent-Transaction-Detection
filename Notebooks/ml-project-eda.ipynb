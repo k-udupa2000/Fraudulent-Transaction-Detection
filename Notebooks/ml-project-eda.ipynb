{
 "cells": [
  {
   "cell_type": "markdown",
   "metadata": {
    "heading_collapsed": true,
    "papermill": {
     "duration": 0.030572,
     "end_time": "2020-12-20T15:43:38.299350",
     "exception": false,
     "start_time": "2020-12-20T15:43:38.268778",
     "status": "completed"
    },
    "tags": []
   },
   "source": [
    "## This notebook contains all the EDA we have done on the given competition data.\n",
    "\n",
    "Each section contains plots and a following explanation\n",
    "    \n",
    "    These plots, dataframes and tables helped understand the meaning and distribution of data provided"
   ]
  },
  {
   "cell_type": "code",
   "execution_count": 1,
   "metadata": {
    "_cell_guid": "b1076dfc-b9ad-4769-8c92-a6c4dae69d19",
    "_uuid": "8f2839f25d086af736a60e9eeb907d3b93b6e0e5",
    "execution": {
     "iopub.execute_input": "2020-12-20T15:43:38.363860Z",
     "iopub.status.busy": "2020-12-20T15:43:38.363083Z",
     "iopub.status.idle": "2020-12-20T15:43:39.360150Z",
     "shell.execute_reply": "2020-12-20T15:43:39.359548Z"
    },
    "hidden": true,
    "papermill": {
     "duration": 1.032037,
     "end_time": "2020-12-20T15:43:39.360266",
     "exception": false,
     "start_time": "2020-12-20T15:43:38.328229",
     "status": "completed"
    },
    "tags": []
   },
   "outputs": [],
   "source": [
    "import numpy as np # linear algebra\n",
    "import pandas as pd # data processing, CSV file I/O (e.g. pd.read_csv)\n",
    "\n",
    "# Plotting\n",
    "import matplotlib.pyplot as plt\n",
    "import seaborn as sns\n"
   ]
  },
  {
   "cell_type": "code",
   "execution_count": 2,
   "metadata": {
    "execution": {
     "iopub.execute_input": "2020-12-20T15:43:39.432820Z",
     "iopub.status.busy": "2020-12-20T15:43:39.427618Z",
     "iopub.status.idle": "2020-12-20T15:43:39.444210Z",
     "shell.execute_reply": "2020-12-20T15:43:39.443667Z"
    },
    "hidden": true,
    "papermill": {
     "duration": 0.054525,
     "end_time": "2020-12-20T15:43:39.444348",
     "exception": false,
     "start_time": "2020-12-20T15:43:39.389823",
     "status": "completed"
    },
    "tags": []
   },
   "outputs": [],
   "source": [
    "def reduce_mem_usage(df, verbose=True):\n",
    "    numerics = ['int16', 'int32', 'int64', 'float16', 'float32', 'float64']\n",
    "    start_mem = df.memory_usage().sum() / 1024**2    \n",
    "    for col in df.columns:\n",
    "        col_type = df[col].dtypes\n",
    "        if col_type in numerics:\n",
    "            c_min = df[col].min()\n",
    "            c_max = df[col].max()\n",
    "            if str(col_type)[:3] == 'int':\n",
    "                if c_min > np.iinfo(np.int8).min and c_max < np.iinfo(np.int8).max:\n",
    "                    df[col] = df[col].astype(np.int8)\n",
    "                elif c_min > np.iinfo(np.int16).min and c_max < np.iinfo(np.int16).max:\n",
    "                    df[col] = df[col].astype(np.int16)\n",
    "                elif c_min > np.iinfo(np.int32).min and c_max < np.iinfo(np.int32).max:\n",
    "                    df[col] = df[col].astype(np.int32)\n",
    "                elif c_min > np.iinfo(np.int64).min and c_max < np.iinfo(np.int64).max:\n",
    "                    df[col] = df[col].astype(np.int64)  \n",
    "            else:\n",
    "                if c_min > np.finfo(np.float16).min and c_max < np.finfo(np.float16).max:\n",
    "                    df[col] = df[col].astype(np.float16)\n",
    "                elif c_min > np.finfo(np.float32).min and c_max < np.finfo(np.float32).max:\n",
    "                    df[col] = df[col].astype(np.float32)\n",
    "                else:\n",
    "                    df[col] = df[col].astype(np.float64)    \n",
    "    end_mem = df.memory_usage().sum() / 1024**2\n",
    "    if verbose: print('Mem. usage decreased to {:5.2f} Mb ({:.1f}% reduction)'.format(end_mem, 100 * (start_mem - end_mem) / start_mem))\n",
    "    return df"
   ]
  },
  {
   "cell_type": "markdown",
   "metadata": {
    "heading_collapsed": true,
    "papermill": {
     "duration": 0.028902,
     "end_time": "2020-12-20T15:43:39.502809",
     "exception": false,
     "start_time": "2020-12-20T15:43:39.473907",
     "status": "completed"
    },
    "tags": []
   },
   "source": [
    "# Important Plotting Functions"
   ]
  },
  {
   "cell_type": "code",
   "execution_count": 3,
   "metadata": {
    "execution": {
     "iopub.execute_input": "2020-12-20T15:43:39.570495Z",
     "iopub.status.busy": "2020-12-20T15:43:39.569787Z",
     "iopub.status.idle": "2020-12-20T15:43:39.573314Z",
     "shell.execute_reply": "2020-12-20T15:43:39.572739Z"
    },
    "hidden": true,
    "papermill": {
     "duration": 0.041537,
     "end_time": "2020-12-20T15:43:39.573444",
     "exception": false,
     "start_time": "2020-12-20T15:43:39.531907",
     "status": "completed"
    },
    "tags": []
   },
   "outputs": [],
   "source": [
    "def facetGridPlotter(data, x, col):\n",
    "    sns.set(font_scale=1)\n",
    "    sns.set_style(\"white\")\n",
    "    p = sns.catplot(\n",
    "    data=data,\n",
    "    x=x,\n",
    "    col= col,\n",
    "    col_wrap=2,\n",
    "    kind=\"count\",\n",
    "    # hue=\"var\",\n",
    "    sharex=False,\n",
    "    dodge=False,\n",
    "    sharey=False,\n",
    "    )\n",
    "    for axes in p.axes.flat:\n",
    "        axes.set_xticklabels(\n",
    "            axes.get_xticklabels(), rotation=65, horizontalalignment=\"right\"\n",
    "        )"
   ]
  },
  {
   "cell_type": "code",
   "execution_count": 4,
   "metadata": {
    "execution": {
     "iopub.execute_input": "2020-12-20T15:43:39.643498Z",
     "iopub.status.busy": "2020-12-20T15:43:39.642795Z",
     "iopub.status.idle": "2020-12-20T15:46:03.252522Z",
     "shell.execute_reply": "2020-12-20T15:46:03.253088Z"
    },
    "hidden": true,
    "papermill": {
     "duration": 143.65033,
     "end_time": "2020-12-20T15:46:03.253258",
     "exception": false,
     "start_time": "2020-12-20T15:43:39.602928",
     "status": "completed"
    },
    "tags": []
   },
   "outputs": [
    {
     "name": "stdout",
     "output_type": "stream",
     "text": [
      "Mem. usage decreased to 318.65 Mb (70.1% reduction)\n",
      "Mem. usage decreased to 215.36 Mb (69.6% reduction)\n",
      "Mem. usage decreased to 15.59 Mb (42.7% reduction)\n",
      "Mem. usage decreased to 10.27 Mb (42.7% reduction)\n",
      "CPU times: user 1min 12s, sys: 1min 2s, total: 2min 15s\n",
      "Wall time: 2min 23s\n"
     ]
    }
   ],
   "source": [
    "%%time\n",
    "train_tran_full = pd.read_csv('../input/frauddetect/train_transaction.csv')\n",
    "test_tran_full = pd.read_csv('../input/frauddetect/test_transaction.csv')\n",
    "train_id_full = pd.read_csv('../input/frauddetect/train_identity.csv')\n",
    "test_id_full = pd.read_csv('../input/frauddetect/test_identity.csv')\n",
    "train_tran = reduce_mem_usage(train_tran_full)\n",
    "del train_tran_full\n",
    "test_tran = reduce_mem_usage(test_tran_full)\n",
    "del test_tran_full\n",
    "train_id = reduce_mem_usage(train_id_full)\n",
    "del train_id_full\n",
    "test_id = reduce_mem_usage(test_id_full)\n",
    "del test_id_full\n",
    "train =  pd.merge(train_tran, train_id, on = 'TransactionID', how = 'left', suffixes = (\"\", \"\"));\n",
    "test = pd.merge(test_tran, test_id, on = 'TransactionID', how = 'left', suffixes = (\"\", \"\"))\n",
    "adversarial_features = [\"TransactionID\"]\n",
    "train = train.drop(adversarial_features, axis = 1)\n",
    "test = test.drop(adversarial_features, axis = 1)\n",
    "del train_tran\n",
    "del test_tran\n",
    "del train_id\n",
    "del test_id"
   ]
  },
  {
   "cell_type": "markdown",
   "metadata": {
    "heading_collapsed": true,
    "papermill": {
     "duration": 0.030091,
     "end_time": "2020-12-20T15:46:03.313885",
     "exception": false,
     "start_time": "2020-12-20T15:46:03.283794",
     "status": "completed"
    },
    "tags": []
   },
   "source": [
    "# EDA on Categorical Columns"
   ]
  },
  {
   "cell_type": "markdown",
   "metadata": {
    "hidden": true,
    "papermill": {
     "duration": 0.029794,
     "end_time": "2020-12-20T15:46:03.373901",
     "exception": false,
     "start_time": "2020-12-20T15:46:03.344107",
     "status": "completed"
    },
    "tags": []
   },
   "source": [
    "1. DeviceType"
   ]
  },
  {
   "cell_type": "code",
   "execution_count": 5,
   "metadata": {
    "execution": {
     "iopub.execute_input": "2020-12-20T15:46:03.437368Z",
     "iopub.status.busy": "2020-12-20T15:46:03.436721Z",
     "iopub.status.idle": "2020-12-20T15:46:18.800430Z",
     "shell.execute_reply": "2020-12-20T15:46:18.800950Z"
    },
    "hidden": true,
    "papermill": {
     "duration": 15.397342,
     "end_time": "2020-12-20T15:46:18.801112",
     "exception": false,
     "start_time": "2020-12-20T15:46:03.403770",
     "status": "completed"
    },
    "tags": []
   },
   "outputs": [
    {
     "data": {
      "image/png": "[encoded data removed]",
      "text/plain": [
       "<Figure size 720x360 with 2 Axes>"
      ]
     },
     "metadata": {},
     "output_type": "display_data"
    }
   ],
   "source": [
    "facetGridPlotter(train, \"DeviceType\", \"isFraud\")"
   ]
  },
  {
   "cell_type": "markdown",
   "metadata": {
    "hidden": true,
    "papermill": {
     "duration": 0.031368,
     "end_time": "2020-12-20T15:46:18.864723",
     "exception": false,
     "start_time": "2020-12-20T15:46:18.833355",
     "status": "completed"
    },
    "tags": []
   },
   "source": [
    "The plots illustrates that the fraud rate is higher in mobile phones. But does this mean phones are unsafe or whether desktops are ultra safe?\n",
    "\n",
    "    Desktops are usually present in establishments like stores and hence might be harder to cheat. This calls for a stronger and secure phone transaction amendments."
   ]
  },
  {
   "cell_type": "markdown",
   "metadata": {
    "hidden": true,
    "papermill": {
     "duration": 0.030872,
     "end_time": "2020-12-20T15:46:18.927020",
     "exception": false,
     "start_time": "2020-12-20T15:46:18.896148",
     "status": "completed"
    },
    "tags": []
   },
   "source": [
    "2. R_emaildomain"
   ]
  },
  {
   "cell_type": "code",
   "execution_count": 6,
   "metadata": {
    "execution": {
     "iopub.execute_input": "2020-12-20T15:46:18.999997Z",
     "iopub.status.busy": "2020-12-20T15:46:18.998964Z",
     "iopub.status.idle": "2020-12-20T15:46:21.198344Z",
     "shell.execute_reply": "2020-12-20T15:46:21.197787Z"
    },
    "hidden": true,
    "papermill": {
     "duration": 2.239067,
     "end_time": "2020-12-20T15:46:21.198472",
     "exception": false,
     "start_time": "2020-12-20T15:46:18.959405",
     "status": "completed"
    },
    "tags": []
   },
   "outputs": [
    {
     "data": {
      "text/plain": [
       "<matplotlib.axes._subplots.AxesSubplot at 0x7f3af2e5f790>"
      ]
     },
     "execution_count": 6,
     "metadata": {},
     "output_type": "execute_result"
    },
    {
     "data": {
      "image/png": "[encoded data removed]",
      "text/plain": [
       "<Figure size 1152x576 with 1 Axes>"
      ]
     },
     "metadata": {},
     "output_type": "display_data"
    }
   ],
   "source": [
    "groupedData = train[['R_emaildomain', 'isFraud']].groupby(by = 'R_emaildomain', as_index = False).mean().sort_values(by = 'isFraud', ascending = True)\n",
    "plt.figure(figsize = (16, 8))\n",
    "plt.xticks(rotation = 90)\n",
    "sns.barplot(x = groupedData['R_emaildomain'], y = groupedData['isFraud'])"
   ]
  },
  {
   "cell_type": "code",
   "execution_count": 7,
   "metadata": {
    "execution": {
     "iopub.execute_input": "2020-12-20T15:46:21.277766Z",
     "iopub.status.busy": "2020-12-20T15:46:21.276877Z",
     "iopub.status.idle": "2020-12-20T15:46:21.291806Z",
     "shell.execute_reply": "2020-12-20T15:46:21.291290Z"
    },
    "hidden": true,
    "papermill": {
     "duration": 0.059208,
     "end_time": "2020-12-20T15:46:21.291934",
     "exception": false,
     "start_time": "2020-12-20T15:46:21.232726",
     "status": "completed"
    },
    "tags": []
   },
   "outputs": [
    {
     "data": {
      "text/html": [
       "<div>\n",
       "<style scoped>\n",
       "    .dataframe tbody tr th:only-of-type {\n",
       "        vertical-align: middle;\n",
       "    }\n",
       "\n",
       "    .dataframe tbody tr th {\n",
       "        vertical-align: top;\n",
       "    }\n",
       "\n",
       "    .dataframe thead th {\n",
       "        text-align: right;\n",
       "    }\n",
       "</style>\n",
       "<table border=\"1\" class=\"dataframe\">\n",
       "  <thead>\n",
       "    <tr style=\"text-align: right;\">\n",
       "      <th></th>\n",
       "      <th>R_emaildomain</th>\n",
       "      <th>isFraud</th>\n",
       "    </tr>\n",
       "  </thead>\n",
       "  <tbody>\n",
       "    <tr>\n",
       "      <th>22</th>\n",
       "      <td>hotmail.fr</td>\n",
       "      <td>0.000000</td>\n",
       "    </tr>\n",
       "    <tr>\n",
       "      <th>43</th>\n",
       "      <td>sbcglobal.net</td>\n",
       "      <td>0.000000</td>\n",
       "    </tr>\n",
       "    <tr>\n",
       "      <th>52</th>\n",
       "      <td>yahoo.co.jp</td>\n",
       "      <td>0.000000</td>\n",
       "    </tr>\n",
       "    <tr>\n",
       "      <th>24</th>\n",
       "      <td>juno.com</td>\n",
       "      <td>0.000000</td>\n",
       "    </tr>\n",
       "    <tr>\n",
       "      <th>51</th>\n",
       "      <td>windstream.net</td>\n",
       "      <td>0.000000</td>\n",
       "    </tr>\n",
       "    <tr>\n",
       "      <th>50</th>\n",
       "      <td>web.de</td>\n",
       "      <td>0.000000</td>\n",
       "    </tr>\n",
       "    <tr>\n",
       "      <th>27</th>\n",
       "      <td>live.fr</td>\n",
       "      <td>0.000000</td>\n",
       "    </tr>\n",
       "    <tr>\n",
       "      <th>31</th>\n",
       "      <td>msn.com</td>\n",
       "      <td>0.000000</td>\n",
       "    </tr>\n",
       "    <tr>\n",
       "      <th>53</th>\n",
       "      <td>yahoo.co.uk</td>\n",
       "      <td>0.000000</td>\n",
       "    </tr>\n",
       "    <tr>\n",
       "      <th>32</th>\n",
       "      <td>netzero.com</td>\n",
       "      <td>0.000000</td>\n",
       "    </tr>\n",
       "    <tr>\n",
       "      <th>48</th>\n",
       "      <td>twc.com</td>\n",
       "      <td>0.000000</td>\n",
       "    </tr>\n",
       "    <tr>\n",
       "      <th>46</th>\n",
       "      <td>servicios-ta.com</td>\n",
       "      <td>0.000000</td>\n",
       "    </tr>\n",
       "    <tr>\n",
       "      <th>37</th>\n",
       "      <td>prodigy.net.mx</td>\n",
       "      <td>0.000000</td>\n",
       "    </tr>\n",
       "    <tr>\n",
       "      <th>45</th>\n",
       "      <td>scranton.edu</td>\n",
       "      <td>0.000000</td>\n",
       "    </tr>\n",
       "    <tr>\n",
       "      <th>39</th>\n",
       "      <td>ptd.net</td>\n",
       "      <td>0.000000</td>\n",
       "    </tr>\n",
       "    <tr>\n",
       "      <th>40</th>\n",
       "      <td>q.com</td>\n",
       "      <td>0.000000</td>\n",
       "    </tr>\n",
       "    <tr>\n",
       "      <th>41</th>\n",
       "      <td>roadrunner.com</td>\n",
       "      <td>0.000000</td>\n",
       "    </tr>\n",
       "    <tr>\n",
       "      <th>49</th>\n",
       "      <td>verizon.net</td>\n",
       "      <td>0.000000</td>\n",
       "    </tr>\n",
       "    <tr>\n",
       "      <th>20</th>\n",
       "      <td>hotmail.de</td>\n",
       "      <td>0.000000</td>\n",
       "    </tr>\n",
       "    <tr>\n",
       "      <th>44</th>\n",
       "      <td>sc.rr.com</td>\n",
       "      <td>0.000000</td>\n",
       "    </tr>\n",
       "    <tr>\n",
       "      <th>18</th>\n",
       "      <td>hotmail.co.uk</td>\n",
       "      <td>0.000000</td>\n",
       "    </tr>\n",
       "    <tr>\n",
       "      <th>17</th>\n",
       "      <td>gmx.de</td>\n",
       "      <td>0.000000</td>\n",
       "    </tr>\n",
       "    <tr>\n",
       "      <th>3</th>\n",
       "      <td>att.net</td>\n",
       "      <td>0.000000</td>\n",
       "    </tr>\n",
       "    <tr>\n",
       "      <th>15</th>\n",
       "      <td>gmail</td>\n",
       "      <td>0.000000</td>\n",
       "    </tr>\n",
       "    <tr>\n",
       "      <th>14</th>\n",
       "      <td>frontiernet.net</td>\n",
       "      <td>0.000000</td>\n",
       "    </tr>\n",
       "    <tr>\n",
       "      <th>13</th>\n",
       "      <td>frontier.com</td>\n",
       "      <td>0.000000</td>\n",
       "    </tr>\n",
       "    <tr>\n",
       "      <th>12</th>\n",
       "      <td>embarqmail.com</td>\n",
       "      <td>0.000000</td>\n",
       "    </tr>\n",
       "    <tr>\n",
       "      <th>5</th>\n",
       "      <td>cableone.net</td>\n",
       "      <td>0.000000</td>\n",
       "    </tr>\n",
       "    <tr>\n",
       "      <th>6</th>\n",
       "      <td>centurylink.net</td>\n",
       "      <td>0.000000</td>\n",
       "    </tr>\n",
       "    <tr>\n",
       "      <th>7</th>\n",
       "      <td>cfl.rr.com</td>\n",
       "      <td>0.000000</td>\n",
       "    </tr>\n",
       "    <tr>\n",
       "      <th>56</th>\n",
       "      <td>yahoo.de</td>\n",
       "      <td>0.000000</td>\n",
       "    </tr>\n",
       "    <tr>\n",
       "      <th>4</th>\n",
       "      <td>bellsouth.net</td>\n",
       "      <td>0.003968</td>\n",
       "    </tr>\n",
       "    <tr>\n",
       "      <th>34</th>\n",
       "      <td>optonline.net</td>\n",
       "      <td>0.009259</td>\n",
       "    </tr>\n",
       "    <tr>\n",
       "      <th>9</th>\n",
       "      <td>comcast.net</td>\n",
       "      <td>0.011786</td>\n",
       "    </tr>\n",
       "    <tr>\n",
       "      <th>55</th>\n",
       "      <td>yahoo.com.mx</td>\n",
       "      <td>0.013655</td>\n",
       "    </tr>\n",
       "    <tr>\n",
       "      <th>28</th>\n",
       "      <td>mac.com</td>\n",
       "      <td>0.015504</td>\n",
       "    </tr>\n",
       "    <tr>\n",
       "      <th>30</th>\n",
       "      <td>me.com</td>\n",
       "      <td>0.020290</td>\n",
       "    </tr>\n",
       "    <tr>\n",
       "      <th>1</th>\n",
       "      <td>anonymous.com</td>\n",
       "      <td>0.029466</td>\n",
       "    </tr>\n",
       "    <tr>\n",
       "      <th>2</th>\n",
       "      <td>aol.com</td>\n",
       "      <td>0.033304</td>\n",
       "    </tr>\n",
       "    <tr>\n",
       "      <th>10</th>\n",
       "      <td>cox.net</td>\n",
       "      <td>0.033835</td>\n",
       "    </tr>\n",
       "    <tr>\n",
       "      <th>58</th>\n",
       "      <td>yahoo.fr</td>\n",
       "      <td>0.041667</td>\n",
       "    </tr>\n",
       "    <tr>\n",
       "      <th>11</th>\n",
       "      <td>earthlink.net</td>\n",
       "      <td>0.043478</td>\n",
       "    </tr>\n",
       "    <tr>\n",
       "      <th>0</th>\n",
       "      <td>aim.com</td>\n",
       "      <td>0.047619</td>\n",
       "    </tr>\n",
       "    <tr>\n",
       "      <th>42</th>\n",
       "      <td>rocketmail.com</td>\n",
       "      <td>0.048780</td>\n",
       "    </tr>\n",
       "    <tr>\n",
       "      <th>54</th>\n",
       "      <td>yahoo.com</td>\n",
       "      <td>0.050346</td>\n",
       "    </tr>\n",
       "    <tr>\n",
       "      <th>59</th>\n",
       "      <td>ymail.com</td>\n",
       "      <td>0.050725</td>\n",
       "    </tr>\n",
       "    <tr>\n",
       "      <th>8</th>\n",
       "      <td>charter.net</td>\n",
       "      <td>0.051282</td>\n",
       "    </tr>\n",
       "    <tr>\n",
       "      <th>25</th>\n",
       "      <td>live.com</td>\n",
       "      <td>0.053419</td>\n",
       "    </tr>\n",
       "    <tr>\n",
       "      <th>26</th>\n",
       "      <td>live.com.mx</td>\n",
       "      <td>0.064516</td>\n",
       "    </tr>\n",
       "    <tr>\n",
       "      <th>57</th>\n",
       "      <td>yahoo.es</td>\n",
       "      <td>0.066667</td>\n",
       "    </tr>\n",
       "    <tr>\n",
       "      <th>47</th>\n",
       "      <td>suddenlink.net</td>\n",
       "      <td>0.071429</td>\n",
       "    </tr>\n",
       "    <tr>\n",
       "      <th>21</th>\n",
       "      <td>hotmail.es</td>\n",
       "      <td>0.074286</td>\n",
       "    </tr>\n",
       "    <tr>\n",
       "      <th>19</th>\n",
       "      <td>hotmail.com</td>\n",
       "      <td>0.078705</td>\n",
       "    </tr>\n",
       "    <tr>\n",
       "      <th>16</th>\n",
       "      <td>gmail.com</td>\n",
       "      <td>0.120174</td>\n",
       "    </tr>\n",
       "    <tr>\n",
       "      <th>23</th>\n",
       "      <td>icloud.com</td>\n",
       "      <td>0.121749</td>\n",
       "    </tr>\n",
       "    <tr>\n",
       "      <th>36</th>\n",
       "      <td>outlook.es</td>\n",
       "      <td>0.121951</td>\n",
       "    </tr>\n",
       "    <tr>\n",
       "      <th>33</th>\n",
       "      <td>netzero.net</td>\n",
       "      <td>0.166667</td>\n",
       "    </tr>\n",
       "    <tr>\n",
       "      <th>35</th>\n",
       "      <td>outlook.com</td>\n",
       "      <td>0.174849</td>\n",
       "    </tr>\n",
       "    <tr>\n",
       "      <th>29</th>\n",
       "      <td>mail.com</td>\n",
       "      <td>0.426471</td>\n",
       "    </tr>\n",
       "    <tr>\n",
       "      <th>38</th>\n",
       "      <td>protonmail.com</td>\n",
       "      <td>0.923077</td>\n",
       "    </tr>\n",
       "  </tbody>\n",
       "</table>\n",
       "</div>"
      ],
      "text/plain": [
       "       R_emaildomain   isFraud\n",
       "22        hotmail.fr  0.000000\n",
       "43     sbcglobal.net  0.000000\n",
       "52       yahoo.co.jp  0.000000\n",
       "24          juno.com  0.000000\n",
       "51    windstream.net  0.000000\n",
       "50            web.de  0.000000\n",
       "27           live.fr  0.000000\n",
       "31           msn.com  0.000000\n",
       "53       yahoo.co.uk  0.000000\n",
       "32       netzero.com  0.000000\n",
       "48           twc.com  0.000000\n",
       "46  servicios-ta.com  0.000000\n",
       "37    prodigy.net.mx  0.000000\n",
       "45      scranton.edu  0.000000\n",
       "39           ptd.net  0.000000\n",
       "40             q.com  0.000000\n",
       "41    roadrunner.com  0.000000\n",
       "49       verizon.net  0.000000\n",
       "20        hotmail.de  0.000000\n",
       "44         sc.rr.com  0.000000\n",
       "18     hotmail.co.uk  0.000000\n",
       "17            gmx.de  0.000000\n",
       "3            att.net  0.000000\n",
       "15             gmail  0.000000\n",
       "14   frontiernet.net  0.000000\n",
       "13      frontier.com  0.000000\n",
       "12    embarqmail.com  0.000000\n",
       "5       cableone.net  0.000000\n",
       "6    centurylink.net  0.000000\n",
       "7         cfl.rr.com  0.000000\n",
       "56          yahoo.de  0.000000\n",
       "4      bellsouth.net  0.003968\n",
       "34     optonline.net  0.009259\n",
       "9        comcast.net  0.011786\n",
       "55      yahoo.com.mx  0.013655\n",
       "28           mac.com  0.015504\n",
       "30            me.com  0.020290\n",
       "1      anonymous.com  0.029466\n",
       "2            aol.com  0.033304\n",
       "10           cox.net  0.033835\n",
       "58          yahoo.fr  0.041667\n",
       "11     earthlink.net  0.043478\n",
       "0            aim.com  0.047619\n",
       "42    rocketmail.com  0.048780\n",
       "54         yahoo.com  0.050346\n",
       "59         ymail.com  0.050725\n",
       "8        charter.net  0.051282\n",
       "25          live.com  0.053419\n",
       "26       live.com.mx  0.064516\n",
       "57          yahoo.es  0.066667\n",
       "47    suddenlink.net  0.071429\n",
       "21        hotmail.es  0.074286\n",
       "19       hotmail.com  0.078705\n",
       "16         gmail.com  0.120174\n",
       "23        icloud.com  0.121749\n",
       "36        outlook.es  0.121951\n",
       "33       netzero.net  0.166667\n",
       "35       outlook.com  0.174849\n",
       "29          mail.com  0.426471\n",
       "38    protonmail.com  0.923077"
      ]
     },
     "execution_count": 7,
     "metadata": {},
     "output_type": "execute_result"
    }
   ],
   "source": [
    "groupedData"
   ]
  },
  {
   "cell_type": "markdown",
   "metadata": {
    "hidden": true
   },
   "source": [
    "It is clearly visible that many R_emaildomain categories have 0 fraud rate, these have been looked at cardinality reduction section in the main notebook"
   ]
  },
  {
   "cell_type": "markdown",
   "metadata": {
    "heading_collapsed": true,
    "papermill": {
     "duration": 0.033965,
     "end_time": "2020-12-20T15:46:21.507036",
     "exception": false,
     "start_time": "2020-12-20T15:46:21.473071",
     "status": "completed"
    },
    "tags": []
   },
   "source": [
    "# EDA on Numerical Columns"
   ]
  },
  {
   "cell_type": "markdown",
   "metadata": {
    "hidden": true,
    "papermill": {
     "duration": 0.0343,
     "end_time": "2020-12-20T15:46:21.576023",
     "exception": false,
     "start_time": "2020-12-20T15:46:21.541723",
     "status": "completed"
    },
    "tags": []
   },
   "source": [
    "1. TransactionAmt\n",
    "        \n",
    "        The values are right skewed. This is a natural phenomenon as few transactions have high denominations.\n",
    "        When training a simple linear models, this skew can be removed using techniues like 1.5 IQR."
   ]
  },
  {
   "cell_type": "code",
   "execution_count": 9,
   "metadata": {
    "execution": {
     "iopub.execute_input": "2020-12-20T15:46:21.653238Z",
     "iopub.status.busy": "2020-12-20T15:46:21.652583Z",
     "iopub.status.idle": "2020-12-20T15:46:22.007572Z",
     "shell.execute_reply": "2020-12-20T15:46:22.006993Z"
    },
    "hidden": true,
    "papermill": {
     "duration": 0.392357,
     "end_time": "2020-12-20T15:46:22.007702",
     "exception": false,
     "start_time": "2020-12-20T15:46:21.615345",
     "status": "completed"
    },
    "tags": []
   },
   "outputs": [
    {
     "data": {
      "text/plain": [
       "<matplotlib.axes._subplots.AxesSubplot at 0x7f3af2992910>"
      ]
     },
     "execution_count": 9,
     "metadata": {},
     "output_type": "execute_result"
    },
    {
     "data": {
      "image/png": "[encoded data removed]",
      "text/plain": [
       "<Figure size 432x288 with 1 Axes>"
      ]
     },
     "metadata": {},
     "output_type": "display_data"
    }
   ],
   "source": [
    "sns.boxplot(train['TransactionAmt'])"
   ]
  },
  {
   "cell_type": "markdown",
   "metadata": {
    "hidden": true,
    "papermill": {
     "duration": 0.035506,
     "end_time": "2020-12-20T15:46:22.079240",
     "exception": false,
     "start_time": "2020-12-20T15:46:22.043734",
     "status": "completed"
    },
    "tags": []
   },
   "source": [
    "## Finding relation between addr1 & addr2"
   ]
  },
  {
   "cell_type": "code",
   "execution_count": 10,
   "metadata": {
    "execution": {
     "iopub.execute_input": "2020-12-20T15:46:22.157261Z",
     "iopub.status.busy": "2020-12-20T15:46:22.156453Z",
     "iopub.status.idle": "2020-12-20T15:46:22.172739Z",
     "shell.execute_reply": "2020-12-20T15:46:22.173402Z"
    },
    "hidden": true,
    "papermill": {
     "duration": 0.058361,
     "end_time": "2020-12-20T15:46:22.173555",
     "exception": false,
     "start_time": "2020-12-20T15:46:22.115194",
     "status": "completed"
    },
    "tags": []
   },
   "outputs": [
    {
     "name": "stdout",
     "output_type": "stream",
     "text": [
      "False    314842\n",
      "True      39482\n",
      "Name: addr1, dtype: int64\n",
      "False    314842\n",
      "True      39482\n",
      "Name: addr2, dtype: int64\n"
     ]
    }
   ],
   "source": [
    "print(train['addr1'].isnull().value_counts())\n",
    "print(train['addr2'].isnull().value_counts())"
   ]
  },
  {
   "cell_type": "code",
   "execution_count": 11,
   "metadata": {
    "execution": {
     "iopub.execute_input": "2020-12-20T15:46:22.249515Z",
     "iopub.status.busy": "2020-12-20T15:46:22.248874Z",
     "iopub.status.idle": "2020-12-20T15:46:27.573618Z",
     "shell.execute_reply": "2020-12-20T15:46:27.573043Z"
    },
    "hidden": true,
    "papermill": {
     "duration": 5.363842,
     "end_time": "2020-12-20T15:46:27.573741",
     "exception": false,
     "start_time": "2020-12-20T15:46:22.209899",
     "status": "completed"
    },
    "tags": []
   },
   "outputs": [
    {
     "data": {
      "text/plain": [
       "0.9730994085484485"
      ]
     },
     "execution_count": 11,
     "metadata": {},
     "output_type": "execute_result"
    }
   ],
   "source": [
    "train.fillna(-999).corrwith(train['addr2'].fillna(-999))['addr1']"
   ]
  },
  {
   "cell_type": "code",
   "execution_count": 12,
   "metadata": {
    "execution": {
     "iopub.execute_input": "2020-12-20T15:46:27.656091Z",
     "iopub.status.busy": "2020-12-20T15:46:27.655023Z",
     "iopub.status.idle": "2020-12-20T15:46:27.679954Z",
     "shell.execute_reply": "2020-12-20T15:46:27.679304Z"
    },
    "hidden": true,
    "papermill": {
     "duration": 0.068184,
     "end_time": "2020-12-20T15:46:27.680095",
     "exception": false,
     "start_time": "2020-12-20T15:46:27.611911",
     "status": "completed"
    },
    "tags": []
   },
   "outputs": [
    {
     "data": {
      "text/plain": [
       "299.0    27616\n",
       "325.0    25577\n",
       "204.0    25119\n",
       "264.0    23887\n",
       "330.0    15836\n",
       "         ...  \n",
       "326.0        1\n",
       "237.0        1\n",
       "328.0        1\n",
       "329.0        1\n",
       "206.0        1\n",
       "Name: addr1, Length: 271, dtype: int64"
      ]
     },
     "metadata": {},
     "output_type": "display_data"
    },
    {
     "data": {
      "text/plain": [
       "87.0     312252\n",
       "60.0       1796\n",
       "96.0        407\n",
       "32.0         54\n",
       "65.0         51\n",
       "          ...  \n",
       "18.0          1\n",
       "100.0         1\n",
       "101.0         1\n",
       "94.0          1\n",
       "89.0          1\n",
       "Name: addr2, Length: 64, dtype: int64"
      ]
     },
     "metadata": {},
     "output_type": "display_data"
    }
   ],
   "source": [
    "display(train['addr1'].value_counts())\n",
    "display(train['addr2'].value_counts())"
   ]
  },
  {
   "cell_type": "code",
   "execution_count": 13,
   "metadata": {
    "execution": {
     "iopub.execute_input": "2020-12-20T15:46:27.763412Z",
     "iopub.status.busy": "2020-12-20T15:46:27.762380Z",
     "iopub.status.idle": "2020-12-20T15:46:27.778363Z",
     "shell.execute_reply": "2020-12-20T15:46:27.777801Z"
    },
    "hidden": true,
    "papermill": {
     "duration": 0.058787,
     "end_time": "2020-12-20T15:46:27.778490",
     "exception": false,
     "start_time": "2020-12-20T15:46:27.719703",
     "status": "completed"
    },
    "tags": []
   },
   "outputs": [
    {
     "data": {
      "text/plain": [
       "272"
      ]
     },
     "metadata": {},
     "output_type": "display_data"
    },
    {
     "data": {
      "text/plain": [
       "65"
      ]
     },
     "metadata": {},
     "output_type": "display_data"
    }
   ],
   "source": [
    "display(np.count_nonzero(train['addr1'].unique()))\n",
    "display(np.count_nonzero(train['addr2'].unique()))"
   ]
  },
  {
   "cell_type": "code",
   "execution_count": 14,
   "metadata": {
    "execution": {
     "iopub.execute_input": "2020-12-20T15:46:27.862356Z",
     "iopub.status.busy": "2020-12-20T15:46:27.861456Z",
     "iopub.status.idle": "2020-12-20T15:46:28.471746Z",
     "shell.execute_reply": "2020-12-20T15:46:28.472229Z"
    },
    "hidden": true,
    "papermill": {
     "duration": 0.654864,
     "end_time": "2020-12-20T15:46:28.472399",
     "exception": false,
     "start_time": "2020-12-20T15:46:27.817535",
     "status": "completed"
    },
    "tags": []
   },
   "outputs": [
    {
     "data": {
      "image/png": "[encoded data removed]",
      "text/plain": [
       "<Figure size 432x288 with 1 Axes>"
      ]
     },
     "metadata": {},
     "output_type": "display_data"
    },
    {
     "data": {
      "image/png": "[encoded data removed]",
      "text/plain": [
       "<Figure size 432x288 with 1 Axes>"
      ]
     },
     "metadata": {},
     "output_type": "display_data"
    }
   ],
   "source": [
    "train['addr1'].hist()\n",
    "plt.show()\n",
    "\n",
    "train['addr2'].hist()\n",
    "plt.show()"
   ]
  },
  {
   "cell_type": "code",
   "execution_count": 15,
   "metadata": {
    "execution": {
     "iopub.execute_input": "2020-12-20T15:46:28.560769Z",
     "iopub.status.busy": "2020-12-20T15:46:28.560106Z",
     "iopub.status.idle": "2020-12-20T15:46:29.904873Z",
     "shell.execute_reply": "2020-12-20T15:46:29.904292Z"
    },
    "hidden": true,
    "papermill": {
     "duration": 1.392083,
     "end_time": "2020-12-20T15:46:29.904987",
     "exception": false,
     "start_time": "2020-12-20T15:46:28.512904",
     "status": "completed"
    },
    "tags": []
   },
   "outputs": [
    {
     "data": {
      "image/png": "[encoded data removed]",
      "text/plain": [
       "<Figure size 432x288 with 1 Axes>"
      ]
     },
     "metadata": {},
     "output_type": "display_data"
    },
    {
     "data": {
      "image/png": "[encoded data removed]",
      "text/plain": [
       "<Figure size 432x288 with 1 Axes>"
      ]
     },
     "metadata": {},
     "output_type": "display_data"
    }
   ],
   "source": [
    "sns.distplot(train.loc[train['isFraud'] == 1]['addr1'], bins=50, color = 'red')\n",
    "plt.show()\n",
    "\n",
    "sns.distplot(train.loc[train['isFraud'] == 0]['addr1'], bins=50, color = 'green')\n",
    "plt.show()"
   ]
  },
  {
   "cell_type": "code",
   "execution_count": 16,
   "metadata": {
    "execution": {
     "iopub.execute_input": "2020-12-20T15:46:29.997755Z",
     "iopub.status.busy": "2020-12-20T15:46:29.996666Z",
     "iopub.status.idle": "2020-12-20T15:46:30.056920Z",
     "shell.execute_reply": "2020-12-20T15:46:30.056070Z"
    },
    "hidden": true,
    "papermill": {
     "duration": 0.109191,
     "end_time": "2020-12-20T15:46:30.057088",
     "exception": false,
     "start_time": "2020-12-20T15:46:29.947897",
     "status": "completed"
    },
    "tags": []
   },
   "outputs": [
    {
     "name": "stdout",
     "output_type": "stream",
     "text": [
      "addr2  addr1\n",
      "87.0   299.0    27607\n",
      "       325.0    25574\n",
      "       204.0    25118\n",
      "       264.0    23887\n",
      "       330.0    15835\n",
      "                ...  \n",
      "71.0   162.0        1\n",
      "70.0   296.0        1\n",
      "66.0   506.0        1\n",
      "       402.0        1\n",
      "75.0   296.0        1\n",
      "Name: addr1, Length: 358, dtype: int64\n"
     ]
    }
   ],
   "source": [
    "grp_addr = train.groupby(['addr2'])['addr1']\n",
    "print(grp_addr.value_counts().sort_values(ascending=False))"
   ]
  },
  {
   "cell_type": "markdown",
   "metadata": {
    "heading_collapsed": true,
    "hidden": true,
    "papermill": {
     "duration": 0.042572,
     "end_time": "2020-12-20T15:46:30.143039",
     "exception": false,
     "start_time": "2020-12-20T15:46:30.100467",
     "status": "completed"
    },
    "tags": []
   },
   "source": [
    "### Conclusion:\n",
    "* addr1 and addr2 are definitely related (can be inferred from the null value and correlation value)\n",
    "* addr2 is heavily concentrated for value 87.\n",
    "* Both addr1 and addr2 are categorical label encoded values\n",
    "* Since addr1 has much lesser unique values than addr2, we believe addr1 to represent something like the country and for addr2 to represent a region."
   ]
  },
  {
   "cell_type": "markdown",
   "metadata": {
    "heading_collapsed": true,
    "hidden": true,
    "papermill": {
     "duration": 0.042161,
     "end_time": "2020-12-20T15:46:30.227967",
     "exception": false,
     "start_time": "2020-12-20T15:46:30.185806",
     "status": "completed"
    },
    "tags": []
   },
   "source": [
    "## card columns"
   ]
  },
  {
   "cell_type": "code",
   "execution_count": 17,
   "metadata": {
    "execution": {
     "iopub.execute_input": "2020-12-20T15:46:30.320579Z",
     "iopub.status.busy": "2020-12-20T15:46:30.319567Z",
     "iopub.status.idle": "2020-12-20T15:46:33.920587Z",
     "shell.execute_reply": "2020-12-20T15:46:33.919935Z"
    },
    "hidden": true,
    "papermill": {
     "duration": 3.649573,
     "end_time": "2020-12-20T15:46:33.920702",
     "exception": false,
     "start_time": "2020-12-20T15:46:30.271129",
     "status": "completed"
    },
    "tags": []
   },
   "outputs": [
    {
     "data": {
      "image/png": "[encoded data removed]",
      "text/plain": [
       "<Figure size 432x288 with 1 Axes>"
      ]
     },
     "metadata": {},
     "output_type": "display_data"
    }
   ],
   "source": [
    "# for i in train.columns:\n",
    "#     if i in ['card1', 'card2', 'card3', 'card5']:\n",
    "sns.countplot(x= 'card5', hue = \"isFraud\", data=train)\n",
    "plt.xticks(rotation = 90)\n",
    "plt.show()"
   ]
  },
  {
   "cell_type": "code",
   "execution_count": 18,
   "metadata": {
    "execution": {
     "iopub.execute_input": "2020-12-20T15:46:34.012377Z",
     "iopub.status.busy": "2020-12-20T15:46:34.011726Z",
     "iopub.status.idle": "2020-12-20T15:46:38.571322Z",
     "shell.execute_reply": "2020-12-20T15:46:38.571864Z"
    },
    "hidden": true,
    "papermill": {
     "duration": 4.607547,
     "end_time": "2020-12-20T15:46:38.572013",
     "exception": false,
     "start_time": "2020-12-20T15:46:33.964466",
     "status": "completed"
    },
    "tags": []
   },
   "outputs": [
    {
     "data": {
      "image/png": "[encoded data removed]",
      "text/plain": [
       "<Figure size 432x288 with 1 Axes>"
      ]
     },
     "metadata": {},
     "output_type": "display_data"
    },
    {
     "data": {
      "image/png": "[encoded data removed]",
      "text/plain": [
       "<Figure size 432x288 with 1 Axes>"
      ]
     },
     "metadata": {},
     "output_type": "display_data"
    },
    {
     "data": {
      "image/png": "[encoded data removed]",
      "text/plain": [
       "<Figure size 432x288 with 1 Axes>"
      ]
     },
     "metadata": {},
     "output_type": "display_data"
    },
    {
     "data": {
      "image/png": "[encoded data removed]",
      "text/plain": [
       "<Figure size 432x288 with 1 Axes>"
      ]
     },
     "metadata": {},
     "output_type": "display_data"
    },
    {
     "data": {
      "image/png": "[encoded data removed]",
      "text/plain": [
       "<Figure size 432x288 with 1 Axes>"
      ]
     },
     "metadata": {},
     "output_type": "display_data"
    },
    {
     "data": {
      "image/png": "[encoded data removed]",
      "text/plain": [
       "<Figure size 432x288 with 1 Axes>"
      ]
     },
     "metadata": {},
     "output_type": "display_data"
    },
    {
     "data": {
      "image/png": "[encoded data removed]",
      "text/plain": [
       "<Figure size 432x288 with 1 Axes>"
      ]
     },
     "metadata": {},
     "output_type": "display_data"
    }
   ],
   "source": [
    "for i in train.columns:\n",
    "    if i in ['card1', 'card2', 'card3', 'card5']:\n",
    "        sns.distplot(train.loc[train['isFraud'] == 1][i], bins=50, color = 'red')\n",
    "        plt.show()\n",
    "        \n",
    "for i in train.columns:\n",
    "    if i in ['card1', 'card2', 'card5']:\n",
    "        sns.distplot(train.loc[train['isFraud'] == 0][i], bins=50, color = 'green')\n",
    "        plt.show()\n"
   ]
  },
  {
   "cell_type": "code",
   "execution_count": 19,
   "metadata": {
    "execution": {
     "iopub.execute_input": "2020-12-20T15:46:38.681322Z",
     "iopub.status.busy": "2020-12-20T15:46:38.680640Z",
     "iopub.status.idle": "2020-12-20T15:46:39.603459Z",
     "shell.execute_reply": "2020-12-20T15:46:39.602716Z"
    },
    "hidden": true,
    "papermill": {
     "duration": 0.979188,
     "end_time": "2020-12-20T15:46:39.603587",
     "exception": false,
     "start_time": "2020-12-20T15:46:38.624399",
     "status": "completed"
    },
    "tags": []
   },
   "outputs": [
    {
     "data": {
      "image/png": "[encoded data removed]",
      "text/plain": [
       "<Figure size 432x288 with 1 Axes>"
      ]
     },
     "metadata": {},
     "output_type": "display_data"
    }
   ],
   "source": [
    "train.loc[train['isFraud'] == 0]['card3'].hist(bins=50, color = 'green')\n",
    "plt.show()"
   ]
  },
  {
   "cell_type": "markdown",
   "metadata": {
    "hidden": true,
    "papermill": {
     "duration": 0.067792,
     "end_time": "2020-12-20T15:46:39.738510",
     "exception": false,
     "start_time": "2020-12-20T15:46:39.670718",
     "status": "completed"
    },
    "tags": []
   },
   "source": [
    "### Conclusion:\n",
    "\n",
    "By looking at card1’s distplot and it’s high number of unique values, we can determine that card1 is something like the user’s/bank’s card identification number"
   ]
  },
  {
   "cell_type": "markdown",
   "metadata": {
    "heading_collapsed": true,
    "hidden": true,
    "papermill": {
     "duration": 0.050361,
     "end_time": "2020-12-20T15:46:39.840264",
     "exception": false,
     "start_time": "2020-12-20T15:46:39.789903",
     "status": "completed"
    },
    "tags": []
   },
   "source": [
    "## D columns"
   ]
  },
  {
   "cell_type": "markdown",
   "metadata": {
    "hidden": true,
    "papermill": {
     "duration": 0.049785,
     "end_time": "2020-12-20T15:46:39.941490",
     "exception": false,
     "start_time": "2020-12-20T15:46:39.891705",
     "status": "completed"
    },
    "tags": []
   },
   "source": [
    "Viewing the correlation matrix to see which D columns are redundant or might be related to one another"
   ]
  },
  {
   "cell_type": "code",
   "execution_count": 20,
   "metadata": {
    "execution": {
     "iopub.execute_input": "2020-12-20T15:46:40.052141Z",
     "iopub.status.busy": "2020-12-20T15:46:40.050747Z",
     "iopub.status.idle": "2020-12-20T15:46:40.468759Z",
     "shell.execute_reply": "2020-12-20T15:46:40.468195Z"
    },
    "hidden": true,
    "papermill": {
     "duration": 0.476641,
     "end_time": "2020-12-20T15:46:40.468880",
     "exception": false,
     "start_time": "2020-12-20T15:46:39.992239",
     "status": "completed"
    },
    "tags": []
   },
   "outputs": [
    {
     "data": {
      "text/html": [
       "<div>\n",
       "<style scoped>\n",
       "    .dataframe tbody tr th:only-of-type {\n",
       "        vertical-align: middle;\n",
       "    }\n",
       "\n",
       "    .dataframe tbody tr th {\n",
       "        vertical-align: top;\n",
       "    }\n",
       "\n",
       "    .dataframe thead th {\n",
       "        text-align: right;\n",
       "    }\n",
       "</style>\n",
       "<table border=\"1\" class=\"dataframe\">\n",
       "  <thead>\n",
       "    <tr style=\"text-align: right;\">\n",
       "      <th></th>\n",
       "      <th>D1</th>\n",
       "      <th>D2</th>\n",
       "      <th>D3</th>\n",
       "      <th>D4</th>\n",
       "      <th>D5</th>\n",
       "      <th>D6</th>\n",
       "      <th>D7</th>\n",
       "      <th>D8</th>\n",
       "      <th>D9</th>\n",
       "      <th>D10</th>\n",
       "      <th>D11</th>\n",
       "      <th>D12</th>\n",
       "      <th>D13</th>\n",
       "      <th>D14</th>\n",
       "      <th>D15</th>\n",
       "    </tr>\n",
       "  </thead>\n",
       "  <tbody>\n",
       "    <tr>\n",
       "      <th>D1</th>\n",
       "      <td>1.000000</td>\n",
       "      <td>0.981201</td>\n",
       "      <td>0.280570</td>\n",
       "      <td>0.584009</td>\n",
       "      <td>0.057736</td>\n",
       "      <td>0.524516</td>\n",
       "      <td>0.213144</td>\n",
       "      <td>0.053884</td>\n",
       "      <td>0.006171</td>\n",
       "      <td>0.561348</td>\n",
       "      <td>0.591286</td>\n",
       "      <td>0.519643</td>\n",
       "      <td>0.364354</td>\n",
       "      <td>0.154772</td>\n",
       "      <td>0.638111</td>\n",
       "    </tr>\n",
       "    <tr>\n",
       "      <th>D2</th>\n",
       "      <td>0.981201</td>\n",
       "      <td>1.000000</td>\n",
       "      <td>0.266293</td>\n",
       "      <td>0.567691</td>\n",
       "      <td>0.240680</td>\n",
       "      <td>0.603242</td>\n",
       "      <td>0.456149</td>\n",
       "      <td>0.272901</td>\n",
       "      <td>0.040145</td>\n",
       "      <td>0.524542</td>\n",
       "      <td>0.560223</td>\n",
       "      <td>0.668942</td>\n",
       "      <td>0.384475</td>\n",
       "      <td>0.194072</td>\n",
       "      <td>0.616414</td>\n",
       "    </tr>\n",
       "    <tr>\n",
       "      <th>D3</th>\n",
       "      <td>0.280570</td>\n",
       "      <td>0.266293</td>\n",
       "      <td>1.000000</td>\n",
       "      <td>0.148433</td>\n",
       "      <td>0.709437</td>\n",
       "      <td>0.312443</td>\n",
       "      <td>0.815608</td>\n",
       "      <td>0.202837</td>\n",
       "      <td>0.014368</td>\n",
       "      <td>0.089736</td>\n",
       "      <td>0.055497</td>\n",
       "      <td>0.352581</td>\n",
       "      <td>0.138047</td>\n",
       "      <td>0.032407</td>\n",
       "      <td>0.136811</td>\n",
       "    </tr>\n",
       "    <tr>\n",
       "      <th>D4</th>\n",
       "      <td>0.584009</td>\n",
       "      <td>0.567691</td>\n",
       "      <td>0.148433</td>\n",
       "      <td>1.000000</td>\n",
       "      <td>0.312779</td>\n",
       "      <td>0.959022</td>\n",
       "      <td>0.581068</td>\n",
       "      <td>0.163411</td>\n",
       "      <td>0.043194</td>\n",
       "      <td>0.635541</td>\n",
       "      <td>0.656823</td>\n",
       "      <td>1.000000</td>\n",
       "      <td>0.386854</td>\n",
       "      <td>0.141423</td>\n",
       "      <td>0.749823</td>\n",
       "    </tr>\n",
       "    <tr>\n",
       "      <th>D5</th>\n",
       "      <td>0.057736</td>\n",
       "      <td>0.240680</td>\n",
       "      <td>0.709437</td>\n",
       "      <td>0.312779</td>\n",
       "      <td>1.000000</td>\n",
       "      <td>0.557126</td>\n",
       "      <td>0.985465</td>\n",
       "      <td>0.257232</td>\n",
       "      <td>0.032492</td>\n",
       "      <td>0.115148</td>\n",
       "      <td>0.061385</td>\n",
       "      <td>0.572366</td>\n",
       "      <td>0.132763</td>\n",
       "      <td>0.064122</td>\n",
       "      <td>0.186431</td>\n",
       "    </tr>\n",
       "    <tr>\n",
       "      <th>D6</th>\n",
       "      <td>0.524516</td>\n",
       "      <td>0.603242</td>\n",
       "      <td>0.312443</td>\n",
       "      <td>0.959022</td>\n",
       "      <td>0.557126</td>\n",
       "      <td>1.000000</td>\n",
       "      <td>0.516344</td>\n",
       "      <td>0.190698</td>\n",
       "      <td>0.039383</td>\n",
       "      <td>0.464562</td>\n",
       "      <td>NaN</td>\n",
       "      <td>0.976946</td>\n",
       "      <td>0.421004</td>\n",
       "      <td>0.218203</td>\n",
       "      <td>0.694112</td>\n",
       "    </tr>\n",
       "    <tr>\n",
       "      <th>D7</th>\n",
       "      <td>0.213144</td>\n",
       "      <td>0.456149</td>\n",
       "      <td>0.815608</td>\n",
       "      <td>0.581068</td>\n",
       "      <td>0.985465</td>\n",
       "      <td>0.516344</td>\n",
       "      <td>1.000000</td>\n",
       "      <td>0.231704</td>\n",
       "      <td>0.020938</td>\n",
       "      <td>0.108284</td>\n",
       "      <td>NaN</td>\n",
       "      <td>0.561842</td>\n",
       "      <td>0.119098</td>\n",
       "      <td>0.032200</td>\n",
       "      <td>0.285453</td>\n",
       "    </tr>\n",
       "    <tr>\n",
       "      <th>D8</th>\n",
       "      <td>0.053884</td>\n",
       "      <td>0.272901</td>\n",
       "      <td>0.202837</td>\n",
       "      <td>0.163411</td>\n",
       "      <td>0.257232</td>\n",
       "      <td>0.190698</td>\n",
       "      <td>0.231704</td>\n",
       "      <td>1.000000</td>\n",
       "      <td>0.062559</td>\n",
       "      <td>0.183362</td>\n",
       "      <td>NaN</td>\n",
       "      <td>0.158572</td>\n",
       "      <td>0.527916</td>\n",
       "      <td>0.088385</td>\n",
       "      <td>0.230410</td>\n",
       "    </tr>\n",
       "    <tr>\n",
       "      <th>D9</th>\n",
       "      <td>0.006171</td>\n",
       "      <td>0.040145</td>\n",
       "      <td>0.014368</td>\n",
       "      <td>0.043194</td>\n",
       "      <td>0.032492</td>\n",
       "      <td>0.039383</td>\n",
       "      <td>0.020938</td>\n",
       "      <td>0.062559</td>\n",
       "      <td>1.000000</td>\n",
       "      <td>0.064922</td>\n",
       "      <td>NaN</td>\n",
       "      <td>0.028717</td>\n",
       "      <td>0.023409</td>\n",
       "      <td>0.040335</td>\n",
       "      <td>0.051773</td>\n",
       "    </tr>\n",
       "    <tr>\n",
       "      <th>D10</th>\n",
       "      <td>0.561348</td>\n",
       "      <td>0.524542</td>\n",
       "      <td>0.089736</td>\n",
       "      <td>0.635541</td>\n",
       "      <td>0.115148</td>\n",
       "      <td>0.464562</td>\n",
       "      <td>0.108284</td>\n",
       "      <td>0.183362</td>\n",
       "      <td>0.064922</td>\n",
       "      <td>1.000000</td>\n",
       "      <td>0.610959</td>\n",
       "      <td>0.009317</td>\n",
       "      <td>0.288901</td>\n",
       "      <td>0.344702</td>\n",
       "      <td>0.714106</td>\n",
       "    </tr>\n",
       "    <tr>\n",
       "      <th>D11</th>\n",
       "      <td>0.591286</td>\n",
       "      <td>0.560223</td>\n",
       "      <td>0.055497</td>\n",
       "      <td>0.656823</td>\n",
       "      <td>0.061385</td>\n",
       "      <td>NaN</td>\n",
       "      <td>NaN</td>\n",
       "      <td>NaN</td>\n",
       "      <td>NaN</td>\n",
       "      <td>0.610959</td>\n",
       "      <td>1.000000</td>\n",
       "      <td>NaN</td>\n",
       "      <td>NaN</td>\n",
       "      <td>NaN</td>\n",
       "      <td>0.765239</td>\n",
       "    </tr>\n",
       "    <tr>\n",
       "      <th>D12</th>\n",
       "      <td>0.519643</td>\n",
       "      <td>0.668942</td>\n",
       "      <td>0.352581</td>\n",
       "      <td>1.000000</td>\n",
       "      <td>0.572366</td>\n",
       "      <td>0.976946</td>\n",
       "      <td>0.561842</td>\n",
       "      <td>0.158572</td>\n",
       "      <td>0.028717</td>\n",
       "      <td>0.009317</td>\n",
       "      <td>NaN</td>\n",
       "      <td>1.000000</td>\n",
       "      <td>0.366981</td>\n",
       "      <td>0.062440</td>\n",
       "      <td>0.604238</td>\n",
       "    </tr>\n",
       "    <tr>\n",
       "      <th>D13</th>\n",
       "      <td>0.364354</td>\n",
       "      <td>0.384475</td>\n",
       "      <td>0.138047</td>\n",
       "      <td>0.386854</td>\n",
       "      <td>0.132763</td>\n",
       "      <td>0.421004</td>\n",
       "      <td>0.119098</td>\n",
       "      <td>0.527916</td>\n",
       "      <td>0.023409</td>\n",
       "      <td>0.288901</td>\n",
       "      <td>NaN</td>\n",
       "      <td>0.366981</td>\n",
       "      <td>1.000000</td>\n",
       "      <td>0.123054</td>\n",
       "      <td>0.433062</td>\n",
       "    </tr>\n",
       "    <tr>\n",
       "      <th>D14</th>\n",
       "      <td>0.154772</td>\n",
       "      <td>0.194072</td>\n",
       "      <td>0.032407</td>\n",
       "      <td>0.141423</td>\n",
       "      <td>0.064122</td>\n",
       "      <td>0.218203</td>\n",
       "      <td>0.032200</td>\n",
       "      <td>0.088385</td>\n",
       "      <td>0.040335</td>\n",
       "      <td>0.344702</td>\n",
       "      <td>NaN</td>\n",
       "      <td>0.062440</td>\n",
       "      <td>0.123054</td>\n",
       "      <td>1.000000</td>\n",
       "      <td>0.219021</td>\n",
       "    </tr>\n",
       "    <tr>\n",
       "      <th>D15</th>\n",
       "      <td>0.638111</td>\n",
       "      <td>0.616414</td>\n",
       "      <td>0.136811</td>\n",
       "      <td>0.749823</td>\n",
       "      <td>0.186431</td>\n",
       "      <td>0.694112</td>\n",
       "      <td>0.285453</td>\n",
       "      <td>0.230410</td>\n",
       "      <td>0.051773</td>\n",
       "      <td>0.714106</td>\n",
       "      <td>0.765239</td>\n",
       "      <td>0.604238</td>\n",
       "      <td>0.433062</td>\n",
       "      <td>0.219021</td>\n",
       "      <td>1.000000</td>\n",
       "    </tr>\n",
       "  </tbody>\n",
       "</table>\n",
       "</div>"
      ],
      "text/plain": [
       "           D1        D2        D3        D4        D5        D6        D7  \\\n",
       "D1   1.000000  0.981201  0.280570  0.584009  0.057736  0.524516  0.213144   \n",
       "D2   0.981201  1.000000  0.266293  0.567691  0.240680  0.603242  0.456149   \n",
       "D3   0.280570  0.266293  1.000000  0.148433  0.709437  0.312443  0.815608   \n",
       "D4   0.584009  0.567691  0.148433  1.000000  0.312779  0.959022  0.581068   \n",
       "D5   0.057736  0.240680  0.709437  0.312779  1.000000  0.557126  0.985465   \n",
       "D6   0.524516  0.603242  0.312443  0.959022  0.557126  1.000000  0.516344   \n",
       "D7   0.213144  0.456149  0.815608  0.581068  0.985465  0.516344  1.000000   \n",
       "D8   0.053884  0.272901  0.202837  0.163411  0.257232  0.190698  0.231704   \n",
       "D9   0.006171  0.040145  0.014368  0.043194  0.032492  0.039383  0.020938   \n",
       "D10  0.561348  0.524542  0.089736  0.635541  0.115148  0.464562  0.108284   \n",
       "D11  0.591286  0.560223  0.055497  0.656823  0.061385       NaN       NaN   \n",
       "D12  0.519643  0.668942  0.352581  1.000000  0.572366  0.976946  0.561842   \n",
       "D13  0.364354  0.384475  0.138047  0.386854  0.132763  0.421004  0.119098   \n",
       "D14  0.154772  0.194072  0.032407  0.141423  0.064122  0.218203  0.032200   \n",
       "D15  0.638111  0.616414  0.136811  0.749823  0.186431  0.694112  0.285453   \n",
       "\n",
       "           D8        D9       D10       D11       D12       D13       D14  \\\n",
       "D1   0.053884  0.006171  0.561348  0.591286  0.519643  0.364354  0.154772   \n",
       "D2   0.272901  0.040145  0.524542  0.560223  0.668942  0.384475  0.194072   \n",
       "D3   0.202837  0.014368  0.089736  0.055497  0.352581  0.138047  0.032407   \n",
       "D4   0.163411  0.043194  0.635541  0.656823  1.000000  0.386854  0.141423   \n",
       "D5   0.257232  0.032492  0.115148  0.061385  0.572366  0.132763  0.064122   \n",
       "D6   0.190698  0.039383  0.464562       NaN  0.976946  0.421004  0.218203   \n",
       "D7   0.231704  0.020938  0.108284       NaN  0.561842  0.119098  0.032200   \n",
       "D8   1.000000  0.062559  0.183362       NaN  0.158572  0.527916  0.088385   \n",
       "D9   0.062559  1.000000  0.064922       NaN  0.028717  0.023409  0.040335   \n",
       "D10  0.183362  0.064922  1.000000  0.610959  0.009317  0.288901  0.344702   \n",
       "D11       NaN       NaN  0.610959  1.000000       NaN       NaN       NaN   \n",
       "D12  0.158572  0.028717  0.009317       NaN  1.000000  0.366981  0.062440   \n",
       "D13  0.527916  0.023409  0.288901       NaN  0.366981  1.000000  0.123054   \n",
       "D14  0.088385  0.040335  0.344702       NaN  0.062440  0.123054  1.000000   \n",
       "D15  0.230410  0.051773  0.714106  0.765239  0.604238  0.433062  0.219021   \n",
       "\n",
       "          D15  \n",
       "D1   0.638111  \n",
       "D2   0.616414  \n",
       "D3   0.136811  \n",
       "D4   0.749823  \n",
       "D5   0.186431  \n",
       "D6   0.694112  \n",
       "D7   0.285453  \n",
       "D8   0.230410  \n",
       "D9   0.051773  \n",
       "D10  0.714106  \n",
       "D11  0.765239  \n",
       "D12  0.604238  \n",
       "D13  0.433062  \n",
       "D14  0.219021  \n",
       "D15  1.000000  "
      ]
     },
     "metadata": {},
     "output_type": "display_data"
    }
   ],
   "source": [
    "D_train = train.loc[:, 'D1':'D15']\n",
    "display(D_train.corr())"
   ]
  },
  {
   "cell_type": "markdown",
   "metadata": {
    "hidden": true,
    "papermill": {
     "duration": 0.051286,
     "end_time": "2020-12-20T15:46:40.571970",
     "exception": false,
     "start_time": "2020-12-20T15:46:40.520684",
     "status": "completed"
    },
    "tags": []
   },
   "source": [
    "trying to check if any visible relation exists between D1 and D2 values"
   ]
  },
  {
   "cell_type": "code",
   "execution_count": 21,
   "metadata": {
    "execution": {
     "iopub.execute_input": "2020-12-20T15:46:40.682036Z",
     "iopub.status.busy": "2020-12-20T15:46:40.681321Z",
     "iopub.status.idle": "2020-12-20T15:46:40.756579Z",
     "shell.execute_reply": "2020-12-20T15:46:40.757142Z"
    },
    "hidden": true,
    "papermill": {
     "duration": 0.133256,
     "end_time": "2020-12-20T15:46:40.757321",
     "exception": false,
     "start_time": "2020-12-20T15:46:40.624065",
     "status": "completed"
    },
    "tags": []
   },
   "outputs": [
    {
     "data": {
      "text/plain": [
       "D1     D2   \n",
       "640.0  640.0      10\n",
       "639.0  639.0      22\n",
       "       634.0       1\n",
       "       630.0       2\n",
       "638.0  638.0      23\n",
       "                ... \n",
       "2.0    1.0        37\n",
       "       0.0        24\n",
       "1.0    1.0      3645\n",
       "       0.0        77\n",
       "0.0    0.0      8555\n",
       "Name: D2, Length: 9975, dtype: int64"
      ]
     },
     "metadata": {},
     "output_type": "display_data"
    }
   ],
   "source": [
    "grp_D1 = D_train.groupby(['D1'])\n",
    "display(grp_D1['D2'].value_counts().sort_index(ascending=False))"
   ]
  },
  {
   "cell_type": "markdown",
   "metadata": {
    "hidden": true,
    "papermill": {
     "duration": 0.052892,
     "end_time": "2020-12-20T15:46:40.862704",
     "exception": false,
     "start_time": "2020-12-20T15:46:40.809812",
     "status": "completed"
    },
    "tags": []
   },
   "source": [
    "trying to check if any visible relation exists between D3,D7, and D5 values"
   ]
  },
  {
   "cell_type": "code",
   "execution_count": 22,
   "metadata": {
    "execution": {
     "iopub.execute_input": "2020-12-20T15:46:40.971121Z",
     "iopub.status.busy": "2020-12-20T15:46:40.970409Z",
     "iopub.status.idle": "2020-12-20T15:46:41.073483Z",
     "shell.execute_reply": "2020-12-20T15:46:41.072926Z"
    },
    "hidden": true,
    "papermill": {
     "duration": 0.158268,
     "end_time": "2020-12-20T15:46:41.073606",
     "exception": false,
     "start_time": "2020-12-20T15:46:40.915338",
     "status": "completed"
    },
    "tags": []
   },
   "outputs": [
    {
     "data": {
      "text/plain": [
       "D3     D7   \n",
       "691.0  52.0        1\n",
       "633.0  0.0         1\n",
       "610.0  0.0         1\n",
       "574.0  123.0       1\n",
       "565.0  565.0       1\n",
       "                ... \n",
       "0.0    4.0         7\n",
       "       3.0        11\n",
       "       2.0        13\n",
       "       1.0        17\n",
       "       0.0      7986\n",
       "Name: D7, Length: 1721, dtype: int64"
      ]
     },
     "metadata": {},
     "output_type": "display_data"
    },
    {
     "data": {
      "text/plain": [
       "D3     D5   \n",
       "731.0  731.0        1\n",
       "729.0  729.0        1\n",
       "692.0  297.0        1\n",
       "691.0  52.0         1\n",
       "651.0  0.0          1\n",
       "                ...  \n",
       "0.0    4.0         91\n",
       "       3.0        138\n",
       "       2.0        186\n",
       "       1.0        302\n",
       "       0.0      29778\n",
       "Name: D5, Length: 11304, dtype: int64"
      ]
     },
     "metadata": {},
     "output_type": "display_data"
    }
   ],
   "source": [
    "grp_D3 = D_train.groupby(['D3'])\n",
    "display(grp_D3['D7'].value_counts().sort_index(ascending=False))\n",
    "display(grp_D3['D5'].value_counts().sort_index(ascending=False))"
   ]
  },
  {
   "cell_type": "markdown",
   "metadata": {
    "hidden": true,
    "papermill": {
     "duration": 0.054687,
     "end_time": "2020-12-20T15:46:41.182183",
     "exception": false,
     "start_time": "2020-12-20T15:46:41.127496",
     "status": "completed"
    },
    "tags": []
   },
   "source": [
    "trying to check if any visible relation exists between D4, D6, and D12 values"
   ]
  },
  {
   "cell_type": "code",
   "execution_count": 23,
   "metadata": {
    "execution": {
     "iopub.execute_input": "2020-12-20T15:46:41.297164Z",
     "iopub.status.busy": "2020-12-20T15:46:41.296479Z",
     "iopub.status.idle": "2020-12-20T15:46:41.409088Z",
     "shell.execute_reply": "2020-12-20T15:46:41.408474Z"
    },
    "hidden": true,
    "papermill": {
     "duration": 0.173006,
     "end_time": "2020-12-20T15:46:41.409200",
     "exception": false,
     "start_time": "2020-12-20T15:46:41.236194",
     "status": "completed"
    },
    "tags": []
   },
   "outputs": [
    {
     "data": {
      "text/plain": [
       "D4      D6    \n",
       " 855.0   489.0        1\n",
       " 843.0   843.0        1\n",
       " 833.0   0.0          1\n",
       " 828.0   115.0        1\n",
       " 825.0   731.0        1\n",
       "                  ...  \n",
       " 0.0     3.0          1\n",
       "         1.0          1\n",
       "         0.0      26846\n",
       "-74.0   -74.0         1\n",
       "-83.0   -83.0         1\n",
       "Name: D6, Length: 1088, dtype: int64"
      ]
     },
     "metadata": {},
     "output_type": "display_data"
    },
    {
     "data": {
      "text/plain": [
       "D4      D12   \n",
       " 648.0   648.0        5\n",
       " 644.0   644.0        1\n",
       " 640.0   640.0        1\n",
       " 635.0   635.0        1\n",
       " 634.0   634.0        3\n",
       "                  ...  \n",
       " 2.0     2.0        503\n",
       " 1.0     1.0        893\n",
       " 0.0     0.0      25666\n",
       "-74.0   -74.0         1\n",
       "-83.0   -83.0         1\n",
       "Name: D12, Length: 615, dtype: int64"
      ]
     },
     "metadata": {},
     "output_type": "display_data"
    },
    {
     "data": {
      "text/plain": [
       "616"
      ]
     },
     "execution_count": 23,
     "metadata": {},
     "output_type": "execute_result"
    }
   ],
   "source": [
    "grp_D4 = D_train.groupby(['D4'])\n",
    "display(grp_D4['D6'].value_counts().sort_index(ascending=False))\n",
    "display(grp_D4['D12'].value_counts().sort_index(ascending=False))\n",
    "len(D_train['D12'].dropna().unique())"
   ]
  },
  {
   "cell_type": "markdown",
   "metadata": {
    "hidden": true,
    "papermill": {
     "duration": 0.054553,
     "end_time": "2020-12-20T15:46:41.519250",
     "exception": false,
     "start_time": "2020-12-20T15:46:41.464697",
     "status": "completed"
    },
    "tags": []
   },
   "source": [
    "trying to check if any visible relation exists between D5 and D7 values"
   ]
  },
  {
   "cell_type": "code",
   "execution_count": 24,
   "metadata": {
    "execution": {
     "iopub.execute_input": "2020-12-20T15:46:41.638314Z",
     "iopub.status.busy": "2020-12-20T15:46:41.637256Z",
     "iopub.status.idle": "2020-12-20T15:46:41.686217Z",
     "shell.execute_reply": "2020-12-20T15:46:41.685574Z"
    },
    "hidden": true,
    "papermill": {
     "duration": 0.11215,
     "end_time": "2020-12-20T15:46:41.686364",
     "exception": false,
     "start_time": "2020-12-20T15:46:41.574214",
     "status": "completed"
    },
    "tags": []
   },
   "outputs": [
    {
     "data": {
      "text/plain": [
       "D5     D7   \n",
       "801.0  801.0        1\n",
       "757.0  757.0        1\n",
       "745.0  745.0        1\n",
       "733.0  733.0        2\n",
       "731.0  731.0        1\n",
       "                ...  \n",
       "0.0    182.0        1\n",
       "       87.0         1\n",
       "       2.0          2\n",
       "       1.0          1\n",
       "       0.0      11482\n",
       "Name: D7, Length: 630, dtype: int64"
      ]
     },
     "metadata": {},
     "output_type": "display_data"
    }
   ],
   "source": [
    "grp_D5 = D_train.groupby(['D5'])\n",
    "display(grp_D5['D7'].value_counts().sort_index(ascending=False))"
   ]
  },
  {
   "cell_type": "markdown",
   "metadata": {
    "heading_collapsed": true,
    "hidden": true,
    "papermill": {
     "duration": 0.055061,
     "end_time": "2020-12-20T15:46:41.797227",
     "exception": false,
     "start_time": "2020-12-20T15:46:41.742166",
     "status": "completed"
    },
    "tags": []
   },
   "source": [
    "### Conclusion:\n",
    "1. D2 is very similar to D1 and can be removed(based on which has higher Nan values)\n",
    "1. D6 is extremely similar to D4 but some extra values can be seen at a glance\n",
    "1. D12 is almost same as D4 but with more NaNs"
   ]
  },
  {
   "cell_type": "markdown",
   "metadata": {
    "heading_collapsed": true,
    "papermill": {
     "duration": 0.055153,
     "end_time": "2020-12-20T15:46:41.907898",
     "exception": false,
     "start_time": "2020-12-20T15:46:41.852745",
     "status": "completed"
    },
    "tags": []
   },
   "source": [
    "# Columns which we thought might hold less significance"
   ]
  },
  {
   "cell_type": "markdown",
   "metadata": {
    "hidden": true,
    "papermill": {
     "duration": 0.055115,
     "end_time": "2020-12-20T15:46:42.018966",
     "exception": false,
     "start_time": "2020-12-20T15:46:41.963851",
     "status": "completed"
    },
    "tags": []
   },
   "source": [
    "getting a list of columns which have either of the following:\n",
    "1. \\>98% of its values as null\n",
    "1. \\>95% of its values being one particular entry (Very high skew)\n",
    "1. Only one unique value existing\n",
    "    \n",
    "        These are not hard thresholds but must be analysed from the data given.\n",
    "        In the highly skewed data, if the minority class has significant impact on target variable then such features must not be eliminated.\n",
    "        These points can be checked using techniques like groupby.\n",
    "   "
   ]
  },
  {
   "cell_type": "markdown",
   "metadata": {
    "hidden": true,
    "papermill": {
     "duration": 0.055397,
     "end_time": "2020-12-20T15:46:42.129919",
     "exception": false,
     "start_time": "2020-12-20T15:46:42.074522",
     "status": "completed"
    },
    "tags": []
   },
   "source": [
    "list of such columns in train"
   ]
  },
  {
   "cell_type": "code",
   "execution_count": 25,
   "metadata": {
    "execution": {
     "iopub.execute_input": "2020-12-20T15:46:42.255684Z",
     "iopub.status.busy": "2020-12-20T15:46:42.254624Z",
     "iopub.status.idle": "2020-12-20T15:46:50.484738Z",
     "shell.execute_reply": "2020-12-20T15:46:50.483921Z"
    },
    "hidden": true,
    "papermill": {
     "duration": 8.298702,
     "end_time": "2020-12-20T15:46:50.484876",
     "exception": false,
     "start_time": "2020-12-20T15:46:42.186174",
     "status": "completed"
    },
    "tags": []
   },
   "outputs": [
    {
     "name": "stdout",
     "output_type": "stream",
     "text": [
      "['id_07', 'id_08', 'id_21', 'id_22', 'id_23', 'id_24', 'id_25', 'id_26', 'id_27']\n",
      "9\n",
      "\n",
      "['isFraud', 'C3', 'V104', 'V107', 'V108', 'V109', 'V110', 'V111', 'V112', 'V113', 'V114', 'V115', 'V116', 'V117', 'V118', 'V119', 'V120', 'V121', 'V122', 'V123', 'V125', 'V135', 'V281', 'V286', 'V297', 'V300', 'V301', 'V305', 'V311', 'V319', 'id_07', 'id_08', 'id_21', 'id_22', 'id_24', 'id_25', 'id_26']\n",
      "37\n",
      "\n",
      "[]\n",
      "0\n",
      "\n",
      "['V121', 'V311', 'V281', 'id_22', 'V112', 'V123', 'V301', 'V113', 'V111', 'V305', 'V135', 'id_08', 'id_27', 'V114', 'isFraud', 'V297', 'V300', 'id_07', 'V115', 'C3', 'id_24', 'id_26', 'V119', 'id_23', 'V108', 'V120', 'V125', 'V116', 'V319', 'V117', 'id_25', 'V118', 'V109', 'V286', 'V110', 'id_21', 'V107', 'V122', 'V104']\n",
      "39\n"
     ]
    }
   ],
   "source": [
    "majority_null_columns_train = []\n",
    "huge_majority_rule_columns_train = []\n",
    "one_or_none_value_columns_train = []\n",
    "for i in train.columns:\n",
    "    if train[i].isnull().sum()/train.shape[0]>0.98:\n",
    "        majority_null_columns_train.append(i)\n",
    "    if train[i].dtype!='object':\n",
    "        if train[i].value_counts(dropna=False, normalize=True).values[0]>0.95:\n",
    "            huge_majority_rule_columns_train.append(i)\n",
    "    if train[i].nunique()<=1:\n",
    "        one_or_none_value_columns_train.append(i)\n",
    "\n",
    "print(majority_null_columns_train)\n",
    "print(len(majority_null_columns_train))\n",
    "print()\n",
    "\n",
    "print(huge_majority_rule_columns_train)\n",
    "print(len(huge_majority_rule_columns_train))\n",
    "print()\n",
    "\n",
    "print(one_or_none_value_columns_train)\n",
    "print(len(one_or_none_value_columns_train))\n",
    "print()\n",
    "\n",
    "drop_train_columns = list(set(majority_null_columns_train + huge_majority_rule_columns_train + one_or_none_value_columns_train))\n",
    "print(drop_train_columns)\n",
    "print(len(drop_train_columns))"
   ]
  },
  {
   "cell_type": "markdown",
   "metadata": {
    "hidden": true,
    "papermill": {
     "duration": 0.061,
     "end_time": "2020-12-20T15:46:50.602261",
     "exception": false,
     "start_time": "2020-12-20T15:46:50.541261",
     "status": "completed"
    },
    "tags": []
   },
   "source": [
    "list of such columns in test"
   ]
  },
  {
   "cell_type": "code",
   "execution_count": 26,
   "metadata": {
    "execution": {
     "iopub.execute_input": "2020-12-20T15:46:50.747779Z",
     "iopub.status.busy": "2020-12-20T15:46:50.747056Z",
     "iopub.status.idle": "2020-12-20T15:46:56.461388Z",
     "shell.execute_reply": "2020-12-20T15:46:56.461937Z"
    },
    "hidden": true,
    "papermill": {
     "duration": 5.794263,
     "end_time": "2020-12-20T15:46:56.462084",
     "exception": false,
     "start_time": "2020-12-20T15:46:50.667821",
     "status": "completed"
    },
    "tags": []
   },
   "outputs": [
    {
     "name": "stdout",
     "output_type": "stream",
     "text": [
      "['dist2', 'D7', 'id_07', 'id_08', 'id_18', 'id_21', 'id_22', 'id_23', 'id_24', 'id_25', 'id_26', 'id_27']\n",
      "12\n",
      "\n",
      "['dist2', 'C3', 'D7', 'V98', 'V101', 'V103', 'V104', 'V105', 'V106', 'V107', 'V108', 'V109', 'V110', 'V111', 'V112', 'V113', 'V114', 'V115', 'V116', 'V117', 'V118', 'V119', 'V120', 'V121', 'V122', 'V123', 'V124', 'V125', 'V129', 'V132', 'V134', 'V135', 'V136', 'V137', 'V281', 'V284', 'V286', 'V290', 'V293', 'V297', 'V298', 'V299', 'V300', 'V301', 'V305', 'V309', 'V311', 'V316', 'V319', 'V320', 'V321', 'id_07', 'id_08', 'id_18', 'id_21', 'id_22', 'id_24', 'id_25', 'id_26']\n",
      "59\n",
      "\n",
      "['V305']\n",
      "1\n",
      "\n",
      "['V121', 'V311', 'V281', 'id_22', 'V112', 'V123', 'V316', 'V301', 'V106', 'V113', 'V320', 'V111', 'V305', 'V135', 'V299', 'id_08', 'V309', 'V298', 'dist2', 'id_27', 'V124', 'V136', 'V114', 'V101', 'V297', 'V300', 'id_07', 'V115', 'C3', 'V103', 'id_24', 'id_26', 'V134', 'V321', 'V119', 'id_23', 'V132', 'id_18', 'V108', 'V120', 'V137', 'V125', 'V116', 'V319', 'V117', 'D7', 'id_25', 'V293', 'V118', 'V109', 'V286', 'V290', 'id_21', 'V110', 'V107', 'V284', 'V122', 'V98', 'V129', 'V105', 'V104']\n",
      "61\n"
     ]
    }
   ],
   "source": [
    "majority_null_columns_test = []\n",
    "huge_majority_rule_columns_test = []\n",
    "one_or_none_value_columns_test = []\n",
    "for i in test.columns:\n",
    "    if test[i].isnull().sum()/test.shape[0]>0.9:\n",
    "        majority_null_columns_test.append(i)\n",
    "    if test[i].dtype!='object':\n",
    "        if test[i].value_counts(dropna=False, normalize=True).values[0]>0.91:\n",
    "            huge_majority_rule_columns_test.append(i)\n",
    "    if test[i].nunique()<=1:\n",
    "        one_or_none_value_columns_test.append(i)\n",
    "\n",
    "print(majority_null_columns_test)\n",
    "print(len(majority_null_columns_test))\n",
    "print()\n",
    "\n",
    "print(huge_majority_rule_columns_test)\n",
    "print(len(huge_majority_rule_columns_test))\n",
    "print()\n",
    "\n",
    "print(one_or_none_value_columns_test)\n",
    "print(len(one_or_none_value_columns_test))\n",
    "print()\n",
    "\n",
    "drop_test_columns = list(set(majority_null_columns_test + huge_majority_rule_columns_test + one_or_none_value_columns_test))\n",
    "print(drop_test_columns)\n",
    "print(len(drop_test_columns))"
   ]
  },
  {
   "cell_type": "markdown",
   "metadata": {
    "hidden": true,
    "papermill": {
     "duration": 0.05701,
     "end_time": "2020-12-20T15:46:56.575797",
     "exception": false,
     "start_time": "2020-12-20T15:46:56.518787",
     "status": "completed"
    },
    "tags": []
   },
   "source": [
    "union of the two lists from train and test"
   ]
  },
  {
   "cell_type": "code",
   "execution_count": 27,
   "metadata": {
    "execution": {
     "iopub.execute_input": "2020-12-20T15:46:56.696144Z",
     "iopub.status.busy": "2020-12-20T15:46:56.695205Z",
     "iopub.status.idle": "2020-12-20T15:46:56.698722Z",
     "shell.execute_reply": "2020-12-20T15:46:56.699341Z"
    },
    "hidden": true,
    "papermill": {
     "duration": 0.066852,
     "end_time": "2020-12-20T15:46:56.699503",
     "exception": false,
     "start_time": "2020-12-20T15:46:56.632651",
     "status": "completed"
    },
    "tags": []
   },
   "outputs": [
    {
     "name": "stdout",
     "output_type": "stream",
     "text": [
      "['V121', 'V311', 'V281', 'id_22', 'V112', 'V123', 'V316', 'V301', 'V113', 'V106', 'V320', 'V111', 'V305', 'V135', 'V299', 'id_08', 'V309', 'V298', 'dist2', 'id_27', 'V124', 'V136', 'V114', 'isFraud', 'V297', 'V300', 'id_07', 'V115', 'C3', 'V101', 'id_24', 'V103', 'id_26', 'V134', 'V321', 'V119', 'id_23', 'V132', 'V108', 'id_18', 'V104', 'V120', 'V137', 'V125', 'V319', 'V117', 'D7', 'id_25', 'V293', 'V118', 'V109', 'V286', 'V290', 'V110', 'id_21', 'V107', 'V284', 'V122', 'V98', 'V129', 'V105', 'V116']\n",
      "62\n"
     ]
    }
   ],
   "source": [
    "drop_columns = list(set(drop_train_columns + drop_test_columns))\n",
    "print(drop_columns)\n",
    "print(len(drop_columns))"
   ]
  },
  {
   "cell_type": "markdown",
   "metadata": {
    "hidden": true,
    "papermill": {
     "duration": 0.056925,
     "end_time": "2020-12-20T15:46:56.815241",
     "exception": false,
     "start_time": "2020-12-20T15:46:56.758316",
     "status": "completed"
    },
    "tags": []
   },
   "source": [
    "## Conclusion:\n",
    "The following columns might hold less importance since, they are either heavily imbalanced or have majority (>95%) null values.\n",
    "However, it needs to be cross-verified before confirming."
   ]
  }
 ],
 "metadata": {
  "kernelspec": {
   "display_name": "Python 3",
   "language": "python",
   "name": "python3"
  },
  "language_info": {
   "codemirror_mode": {
    "name": "ipython",
    "version": 3
   },
   "file_extension": ".py",
   "mimetype": "text/x-python",
   "name": "python",
   "nbconvert_exporter": "python",
   "pygments_lexer": "ipython3",
   "version": "3.7.6"
  },
  "papermill": {
   "duration": 203.7031,
   "end_time": "2020-12-20T15:46:56.981125",
   "environment_variables": {},
   "exception": null,
   "input_path": "__notebook__.ipynb",
   "output_path": "__notebook__.ipynb",
   "parameters": {},
   "start_time": "2020-12-20T15:43:33.278025",
   "version": "2.1.0"
  }
 },
 "nbformat": 4,
 "nbformat_minor": 4
}
