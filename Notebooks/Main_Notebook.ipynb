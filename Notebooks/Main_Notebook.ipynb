{
 "cells": [
  {
   "cell_type": "markdown",
   "metadata": {
    "papermill": {
     "duration": 0.039748,
     "end_time": "2020-12-20T11:39:04.352256",
     "exception": false,
     "start_time": "2020-12-20T11:39:04.312508",
     "status": "completed"
    },
    "tags": []
   },
   "source": [
    "**Please enable GPU accelerator to run this notebook**"
   ]
  },
  {
   "cell_type": "code",
   "execution_count": 1,
   "metadata": {
    "execution": {
     "iopub.execute_input": "2020-12-20T11:39:04.447336Z",
     "iopub.status.busy": "2020-12-20T11:39:04.446607Z",
     "iopub.status.idle": "2020-12-20T11:39:10.119608Z",
     "shell.execute_reply": "2020-12-20T11:39:10.120420Z"
    },
    "papermill": {
     "duration": 5.730235,
     "end_time": "2020-12-20T11:39:10.120709",
     "exception": false,
     "start_time": "2020-12-20T11:39:04.390474",
     "status": "completed"
    },
    "tags": []
   },
   "outputs": [
    {
     "data": {
      "text/html": [
       "<style type='text/css'>\n",
       ".datatable table.frame { margin-bottom: 0; }\n",
       ".datatable table.frame thead { border-bottom: none; }\n",
       ".datatable table.frame tr.coltypes td {  color: #FFFFFF;  line-height: 6px;  padding: 0 0.5em;}\n",
       ".datatable .bool    { background: #DDDD99; }\n",
       ".datatable .object  { background: #565656; }\n",
       ".datatable .int     { background: #5D9E5D; }\n",
       ".datatable .float   { background: #4040CC; }\n",
       ".datatable .str     { background: #CC4040; }\n",
       ".datatable .row_index {  background: var(--jp-border-color3);  border-right: 1px solid var(--jp-border-color0);  color: var(--jp-ui-font-color3);  font-size: 9px;}\n",
       ".datatable .frame tr.coltypes .row_index {  background: var(--jp-border-color0);}\n",
       ".datatable th:nth-child(2) { padding-left: 12px; }\n",
       ".datatable .hellipsis {  color: var(--jp-cell-editor-border-color);}\n",
       ".datatable .vellipsis {  background: var(--jp-layout-color0);  color: var(--jp-cell-editor-border-color);}\n",
       ".datatable .na {  color: var(--jp-cell-editor-border-color);  font-size: 80%;}\n",
       ".datatable .footer { font-size: 9px; }\n",
       ".datatable .frame_dimensions {  background: var(--jp-border-color3);  border-top: 1px solid var(--jp-border-color0);  color: var(--jp-ui-font-color3);  display: inline-block;  opacity: 0.6;  padding: 1px 10px 1px 5px;}\n",
       ".datatable .frame thead tr.colnames {  background-image: url('data:image/png;base64,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');  background-repeat: repeat-x;  background-size: 14px;  height: 28px;}\n",
       "</style>\n"
      ],
      "text/plain": [
       "<IPython.core.display.HTML object>"
      ]
     },
     "metadata": {},
     "output_type": "display_data"
    }
   ],
   "source": [
    "# Basic packages\n",
    "import numpy as np\n",
    "import pandas as pd\n",
    "\n",
    "# Evaluation Metricas\n",
    "from sklearn.metrics import roc_curve, f1_score, recall_score, precision_score, plot_confusion_matrix, confusion_matrix, plot_roc_curve, auc, accuracy_score\n",
    "\n",
    "from sklearn.metrics import ConfusionMatrixDisplay as cmd\n",
    "\n",
    "from sklearn.metrics import precision_recall_curve\n",
    "from sklearn.metrics import PrecisionRecallDisplay\n",
    "\n",
    "# Models\n",
    "import xgboost as xgb\n",
    "import lightgbm as lgb\n",
    "from xgboost import XGBClassifier\n",
    "from lightgbm import LGBMClassifier\n",
    "\n",
    "# Hyperparameter Tuning\n",
    "from bayes_opt import BayesianOptimization\n",
    "from skopt  import BayesSearchCV\n",
    "# Saving work of hyperparameter tuning\n",
    "from bayes_opt.logger import JSONLogger\n",
    "from bayes_opt.event import Events\n",
    "\n",
    "\n",
    "#Optuna for CatBoost Hyperparameter tuning\n",
    "import optuna \n",
    "from optuna import Trial, visualization\n",
    "from optuna.samplers import TPESampler\n",
    "from catboost import CatBoostClassifier\n",
    "from sklearn.model_selection import cross_val_score\n",
    "import joblib\n",
    "\n",
    "\n",
    "# Plotting\n",
    "import matplotlib.pyplot as plt\n",
    "import seaborn as sns\n",
    "\n",
    "# Validation\n",
    "from sklearn.model_selection import RepeatedKFold\n",
    "from sklearn.model_selection import StratifiedKFold, TimeSeriesSplit\n",
    "\n",
    "# Encoders and Scaling\n",
    "from sklearn.preprocessing import LabelEncoder\n",
    "from sklearn.preprocessing import StandardScaler\n",
    "from sklearn.utils import shuffle\n",
    "from sklearn.pipeline import Pipeline\n",
    "from sklearn.pipeline import FeatureUnion\n",
    "import pandas as pd\n",
    "import numpy as np\n",
    "from sklearn.ensemble import RandomForestClassifier\n",
    "from sklearn.svm import SVC\n",
    "from sklearn.metrics import plot_roc_curve, plot_confusion_matrix\n",
    "from sklearn import svm\n",
    "from sklearn.linear_model import LogisticRegression\n",
    "import seaborn as sns\n",
    "\n",
    "from imblearn.over_sampling import SMOTE\n",
    "from imblearn.over_sampling import RandomOverSampler\n",
    "from sklearn.model_selection import train_test_split\n",
    "\n",
    "#Models\n",
    "import xgboost as xgb\n",
    "import lightgbm as lgb\n",
    "from xgboost import XGBClassifier\n",
    "from catboost import CatBoostClassifier\n",
    "from sklearn.ensemble import AdaBoostClassifier\n",
    "\n",
    "from scipy.sparse import vstack, csr_matrix, save_npz, load_npz\n",
    "from sklearn.decomposition import PCA\n",
    "from sklearn.preprocessing import StandardScaler\n",
    "\n",
    "# Encodings.\n",
    "from sklearn.preprocessing import OneHotEncoder, LabelEncoder\n",
    "\n",
    "# Ensembling techniques\n",
    "from sklearn.ensemble import StackingClassifier\n",
    "from sklearn.model_selection import GridSearchCV, RandomizedSearchCV\n",
    "\n",
    "# Validations\n",
    "from sklearn.model_selection import RepeatedKFold\n",
    "from sklearn.model_selection import StratifiedKFold, KFold\n",
    "\n",
    "from sklearn import feature_selection\n",
    "from sklearn import model_selection\n",
    "from sklearn import metrics\n",
    "from sklearn.base import BaseEstimator, TransformerMixin\n",
    "from sklearn.utils import check_array\n",
    "from scipy import sparse\n",
    "\n",
    "# Evaluation metrics\n",
    "from sklearn.metrics import roc_auc_score\n",
    "from sklearn.metrics import auc\n",
    "\n",
    "# Scalers\n",
    "from sklearn.preprocessing import StandardScaler\n",
    "from sklearn.utils import shuffle\n",
    "from sklearn.pipeline import Pipeline\n",
    "from sklearn.pipeline import FeatureUnion\n",
    "import gc\n",
    "\n",
    "from scipy import interp\n",
    "import itertools\n",
    "gc.enable()"
   ]
  },
  {
   "cell_type": "markdown",
   "metadata": {
    "heading_collapsed": true,
    "papermill": {
     "duration": 0.03907,
     "end_time": "2020-12-20T11:39:10.211529",
     "exception": false,
     "start_time": "2020-12-20T11:39:10.172459",
     "status": "completed"
    },
    "tags": []
   },
   "source": [
    "## Commonly used functions"
   ]
  },
  {
   "cell_type": "code",
   "execution_count": 2,
   "metadata": {
    "execution": {
     "iopub.execute_input": "2020-12-20T11:39:10.350032Z",
     "iopub.status.busy": "2020-12-20T11:39:10.334514Z",
     "iopub.status.idle": "2020-12-20T11:39:10.369430Z",
     "shell.execute_reply": "2020-12-20T11:39:10.368960Z"
    },
    "hidden": true,
    "papermill": {
     "duration": 0.087559,
     "end_time": "2020-12-20T11:39:10.369518",
     "exception": false,
     "start_time": "2020-12-20T11:39:10.281959",
     "status": "completed"
    },
    "tags": []
   },
   "outputs": [],
   "source": [
    "#Used to drop columns from the given list if they are present in the df.(inplace removal)\n",
    "def dropCol(df, cols):\n",
    "    for col in cols:\n",
    "        if col in df.columns:\n",
    "            df.drop(col, axis = 1, inplace = True)\n",
    "\n",
    "# Removes column with Nan values greater than the threshold(given in the range of 0 to 1)\n",
    "def removeColWithNan(df, threshold):\n",
    "    removedCol = []\n",
    "    for col in df:\n",
    "        l1 = df[col].isna().sum()\n",
    "        l2 = len(df)\n",
    "        nanPercentage = (l1/l2)\n",
    "        if nanPercentage >= threshold:\n",
    "            if col in df.columns:\n",
    "                df = df.drop(col, axis = 1)\n",
    "                removedCol.append(col)\n",
    "    return df, removedCol\n",
    "\n",
    "# Return categorical and numerical columns in the dataframe.\n",
    "def cat_and_num_colNames(df):\n",
    "    categoricalCol = df.select_dtypes(include=['O', 'category']).columns\n",
    "    numCol = df.select_dtypes(include=[np.number]).columns\n",
    "    return categoricalCol, numCol\n",
    "\n",
    "\n",
    "# Frequency encoding of the columns that are passed.\n",
    "def frequencyEncoder(train, test, cols):\n",
    "    for variable in cols:\n",
    "        t = pd.concat([train[variable], test[variable]]).value_counts().reset_index()\n",
    "        t = t.reset_index()\n",
    "        t.loc[t[variable] == 1, 'level_0'] = np.nan\n",
    "        t.set_index('index', inplace=True)\n",
    "        max_label = t['level_0'].max() + 1\n",
    "        t.fillna(max_label, inplace=True)\n",
    "        frequency_encoder = t.to_dict()['level_0']\n",
    "        train[variable] = train[variable].map(lambda x : frequency_encoder.get(x, np.nan))\n",
    "        test[variable] = test[variable].map(lambda x : frequency_encoder.get(x, np.nan))\n",
    "    return train, test\n",
    "\n",
    "def labelEncoder(train, test, labelCol):\n",
    "    enc = LabelEncoder()\n",
    "    for col in labelCol:\n",
    "        train[col] = train[col].astype(str)\n",
    "        test[col] = test[col].astype(str)\n",
    "        col_values = list(set(train[col].unique()) | set(test[col].unique()))\n",
    "        enc.fit(col_values)\n",
    "        train[col] = enc.transform(train[col])\n",
    "        test[col] = enc.transform(test[col])\n",
    "    return train, test\n",
    "\n",
    "\n",
    "\n",
    "def reduce_mem_usage(df, verbose=True):\n",
    "    numerics = ['int16', 'int32', 'int64', 'float16', 'float32', 'float64']\n",
    "    start_mem = df.memory_usage().sum() / 1024**2    \n",
    "    for col in df.columns:\n",
    "        col_type = df[col].dtypes\n",
    "        if col_type in numerics:\n",
    "            c_min = df[col].min()\n",
    "            c_max = df[col].max()\n",
    "            if str(col_type)[:3] == 'int':\n",
    "                if c_min > np.iinfo(np.int8).min and c_max < np.iinfo(np.int8).max:\n",
    "                    df[col] = df[col].astype(np.int8)\n",
    "                elif c_min > np.iinfo(np.int16).min and c_max < np.iinfo(np.int16).max:\n",
    "                    df[col] = df[col].astype(np.int16)\n",
    "                elif c_min > np.iinfo(np.int32).min and c_max < np.iinfo(np.int32).max:\n",
    "                    df[col] = df[col].astype(np.int32)\n",
    "                elif c_min > np.iinfo(np.int64).min and c_max < np.iinfo(np.int64).max:\n",
    "                    df[col] = df[col].astype(np.int64)  \n",
    "            else:\n",
    "                if c_min > np.finfo(np.float16).min and c_max < np.finfo(np.float16).max:\n",
    "                    df[col] = df[col].astype(np.float16)\n",
    "                elif c_min > np.finfo(np.float32).min and c_max < np.finfo(np.float32).max:\n",
    "                    df[col] = df[col].astype(np.float32)\n",
    "                else:\n",
    "                    df[col] = df[col].astype(np.float64)    \n",
    "    end_mem = df.memory_usage().sum() / 1024**2\n",
    "    if verbose: print('Mem. usage decreased to {:5.2f} Mb ({:.1f}% reduction)'.format(end_mem, 100 * (start_mem - end_mem) / start_mem))\n",
    "    return df\n",
    "\n",
    "def plot_confusion_matrix(cm, classes,\n",
    "                          normalize = False,\n",
    "                          title = 'Confusion matrix\"',\n",
    "                          cmap = plt.cm.Blues) :\n",
    "    plt.imshow(cm, interpolation = 'nearest', cmap = cmap)\n",
    "    plt.title(title)\n",
    "    plt.colorbar()\n",
    "    tick_marks = np.arange(len(classes))\n",
    "    plt.xticks(tick_marks, classes, rotation = 0)\n",
    "    plt.yticks(tick_marks, classes)\n",
    "\n",
    "    thresh = cm.max() / 2.\n",
    "    for i, j in itertools.product(range(cm.shape[0]), range(cm.shape[1])) :\n",
    "        plt.text(j, i, cm[i, j],\n",
    "                 horizontalalignment = 'center',\n",
    "                 color = 'white' if cm[i, j] > thresh else 'black')\n",
    "\n",
    "    plt.tight_layout()\n",
    "    plt.ylabel('True label')\n",
    "    plt.xlabel('Predicted label')\n",
    "\n",
    "\n",
    "def uncorrelated_features(df, threshold=0.9):\n",
    "    \"\"\"\n",
    "    Returns a subset of df columns with Pearson correlations\n",
    "    below threshold.\n",
    "    \"\"\"\n",
    "\n",
    "    corr = df.corr().abs()\n",
    "    keep = []\n",
    "    for i in range(len(corr.iloc[:,0])):\n",
    "        above = corr.iloc[:i,i]\n",
    "        if len(keep) > 0: above = above[keep]\n",
    "        if len(above[above < threshold]) == len(above):\n",
    "            keep.append(corr.columns.values[i])\n",
    "\n",
    "    return df[keep]"
   ]
  },
  {
   "cell_type": "markdown",
   "metadata": {
    "heading_collapsed": true,
    "papermill": {
     "duration": 0.038807,
     "end_time": "2020-12-20T11:39:10.447261",
     "exception": false,
     "start_time": "2020-12-20T11:39:10.408454",
     "status": "completed"
    },
    "tags": []
   },
   "source": [
    "# Data and Memory \n",
    "    This sections contains:\n",
    "    1. Get the data as pandas DataFrame.\n",
    "    2. Observe each column and choose the optimal datatype to reduce memory consumption.\n",
    "    3. Merge the 2 tables provided on TransactionID."
   ]
  },
  {
   "cell_type": "code",
   "execution_count": 3,
   "metadata": {
    "execution": {
     "iopub.execute_input": "2020-12-20T11:39:10.532456Z",
     "iopub.status.busy": "2020-12-20T11:39:10.531902Z",
     "iopub.status.idle": "2020-12-20T11:39:39.476521Z",
     "shell.execute_reply": "2020-12-20T11:39:39.475667Z"
    },
    "hidden": true,
    "papermill": {
     "duration": 28.990696,
     "end_time": "2020-12-20T11:39:39.476638",
     "exception": false,
     "start_time": "2020-12-20T11:39:10.485942",
     "status": "completed"
    },
    "tags": []
   },
   "outputs": [],
   "source": [
    "train_tran_full = pd.read_csv('../input/frauddetect/train_transaction.csv')\n",
    "test_tran_full = pd.read_csv('../input/frauddetect/test_transaction.csv')\n",
    "train_id_full = pd.read_csv('../input/frauddetect/train_identity.csv')\n",
    "test_id_full = pd.read_csv('../input/frauddetect/test_identity.csv')"
   ]
  },
  {
   "cell_type": "code",
   "execution_count": 4,
   "metadata": {
    "execution": {
     "iopub.execute_input": "2020-12-20T11:39:39.577640Z",
     "iopub.status.busy": "2020-12-20T11:39:39.572488Z",
     "iopub.status.idle": "2020-12-20T11:41:19.911542Z",
     "shell.execute_reply": "2020-12-20T11:41:19.912268Z"
    },
    "hidden": true,
    "papermill": {
     "duration": 100.396436,
     "end_time": "2020-12-20T11:41:19.912465",
     "exception": false,
     "start_time": "2020-12-20T11:39:39.516029",
     "status": "completed"
    },
    "tags": []
   },
   "outputs": [
    {
     "name": "stdout",
     "output_type": "stream",
     "text": [
      "Mem. usage decreased to 318.65 Mb (70.1% reduction)\n",
      "Mem. usage decreased to 215.36 Mb (69.6% reduction)\n",
      "Mem. usage decreased to 15.59 Mb (42.7% reduction)\n",
      "Mem. usage decreased to 10.27 Mb (42.7% reduction)\n",
      "CPU times: user 40.9 s, sys: 58.7 s, total: 1min 39s\n",
      "Wall time: 1min 40s\n"
     ]
    }
   ],
   "source": [
    "%%time\n",
    "train_tran = reduce_mem_usage(train_tran_full)\n",
    "del train_tran_full\n",
    "test_tran = reduce_mem_usage(test_tran_full)\n",
    "del test_tran_full\n",
    "train_id = reduce_mem_usage(train_id_full)\n",
    "del train_id_full\n",
    "test_id = reduce_mem_usage(test_id_full)\n",
    "del test_id_full\n"
   ]
  },
  {
   "cell_type": "code",
   "execution_count": 5,
   "metadata": {
    "execution": {
     "iopub.execute_input": "2020-12-20T11:41:20.000886Z",
     "iopub.status.busy": "2020-12-20T11:41:20.000026Z",
     "iopub.status.idle": "2020-12-20T11:41:23.844196Z",
     "shell.execute_reply": "2020-12-20T11:41:23.843664Z"
    },
    "hidden": true,
    "papermill": {
     "duration": 3.891162,
     "end_time": "2020-12-20T11:41:23.844308",
     "exception": false,
     "start_time": "2020-12-20T11:41:19.953146",
     "status": "completed"
    },
    "tags": []
   },
   "outputs": [],
   "source": [
    "train =  pd.merge(train_tran, train_id, on = 'TransactionID', how = 'left', suffixes = (\"\", \"\"));\n",
    "test = pd.merge(test_tran, test_id, on = 'TransactionID', how = 'left', suffixes = (\"\", \"\"))\n",
    "adversarial_features = [\"TransactionID\"]\n",
    "train = train.drop(adversarial_features, axis = 1)\n",
    "test = test.drop(adversarial_features, axis = 1)\n",
    "del train_tran\n",
    "del test_tran\n",
    "del train_id\n",
    "del test_id"
   ]
  },
  {
   "cell_type": "markdown",
   "metadata": {
    "heading_collapsed": true,
    "papermill": {
     "duration": 0.040395,
     "end_time": "2020-12-20T11:41:23.925363",
     "exception": false,
     "start_time": "2020-12-20T11:41:23.884968",
     "status": "completed"
    },
    "tags": []
   },
   "source": [
    "# EDA\n",
    "    This section contains EDA done which are primarily very important and finally used in the submission. All the other EDA's are present in the EDA notebook."
   ]
  },
  {
   "cell_type": "markdown",
   "metadata": {
    "hidden": true,
    "papermill": {
     "duration": 0.040323,
     "end_time": "2020-12-20T11:41:24.005796",
     "exception": false,
     "start_time": "2020-12-20T11:41:23.965473",
     "status": "completed"
    },
    "tags": []
   },
   "source": [
    "Time line distribution of train and test\n",
    "       \n",
    "       To see how the train and test is distributed across time. This diagram gives a lot of insight into whether the problem \n",
    "       can be modelled as time series, whether post processing can be used on the data."
   ]
  },
  {
   "cell_type": "code",
   "execution_count": 6,
   "metadata": {
    "execution": {
     "iopub.execute_input": "2020-12-20T11:41:24.092644Z",
     "iopub.status.busy": "2020-12-20T11:41:24.091944Z",
     "iopub.status.idle": "2020-12-20T11:41:24.851411Z",
     "shell.execute_reply": "2020-12-20T11:41:24.851960Z"
    },
    "hidden": true,
    "papermill": {
     "duration": 0.806401,
     "end_time": "2020-12-20T11:41:24.852122",
     "exception": false,
     "start_time": "2020-12-20T11:41:24.045721",
     "status": "completed"
    },
    "tags": []
   },
   "outputs": [
    {
     "data": {
      "image/png": "[encoded data removed]",
      "text/plain": [
       "<Figure size 1080x360 with 1 Axes>"
      ]
     },
     "metadata": {
      "needs_background": "light"
     },
     "output_type": "display_data"
    }
   ],
   "source": [
    "    train['TransactionDT'].plot(kind='hist', figsize=(15, 5), label='Train', bins=50,\n",
    "                                        title='Train vs Test TransactionDT distribution')\n",
    "    test['TransactionDT'].plot(kind='hist', label='Test', bins=50)\n",
    "    plt.legend()\n",
    "    plt.savefig('time_line.jpg', bbox_inches='tight') \n",
    "    plt.show()"
   ]
  },
  {
   "cell_type": "markdown",
   "metadata": {
    "hidden": true,
    "papermill": {
     "duration": 0.041336,
     "end_time": "2020-12-20T11:41:24.936548",
     "exception": false,
     "start_time": "2020-12-20T11:41:24.895212",
     "status": "completed"
    },
    "tags": []
   },
   "source": [
    "EDA 2 : \n",
    "    \n",
    "        To see the imbalance percentage in the data. "
   ]
  },
  {
   "cell_type": "code",
   "execution_count": 7,
   "metadata": {
    "execution": {
     "iopub.execute_input": "2020-12-20T11:41:25.026960Z",
     "iopub.status.busy": "2020-12-20T11:41:25.025798Z",
     "iopub.status.idle": "2020-12-20T11:41:25.687829Z",
     "shell.execute_reply": "2020-12-20T11:41:25.687321Z"
    },
    "hidden": true,
    "papermill": {
     "duration": 0.709723,
     "end_time": "2020-12-20T11:41:25.687933",
     "exception": false,
     "start_time": "2020-12-20T11:41:24.978210",
     "status": "completed"
    },
    "tags": []
   },
   "outputs": [
    {
     "name": "stdout",
     "output_type": "stream",
     "text": [
      "0.036444210433943226% minority class\n"
     ]
    },
    {
     "data": {
      "image/png": "[encoded data removed]",
      "text/plain": [
       "<Figure size 432x288 with 1 Axes>"
      ]
     },
     "metadata": {
      "needs_background": "light"
     },
     "output_type": "display_data"
    }
   ],
   "source": [
    "print(str(len(train[train['isFraud'] == 1])/len(train[train['isFraud'] == 0])) + \"% minority class\")\n",
    "plot = train['isFraud'].value_counts().plot.bar(rot = 0)\n",
    "plot.set_xlabel(\"Classes\")\n",
    "plot.set_ylabel(\"Count\")\n",
    "fig = plot.get_figure()\n",
    "fig.savefig(\"class_imb.jpg\", bbox_inches='tight') # Uncomment to save this plot as jpg image."
   ]
  },
  {
   "cell_type": "markdown",
   "metadata": {
    "heading_collapsed": true,
    "hidden": true,
    "papermill": {
     "duration": 0.042385,
     "end_time": "2020-12-20T11:41:25.773129",
     "exception": false,
     "start_time": "2020-12-20T11:41:25.730744",
     "status": "completed"
    },
    "tags": []
   },
   "source": [
    "### Cardinality Reduction of some categorical variables:\n",
    "        The theory behind Category Cardinality Reduction has been explained in the report.\n",
    "        It has been applied on these features.\n",
    "        1. R_emaildomain\n",
    "        2. P_emaildomain\n",
    "        3. Device_Info\n",
    "        Basic Algorithm is as follows:\n",
    "            Look at the categories. If many categories have very similar target distribution, merge them into a single category."
   ]
  },
  {
   "cell_type": "markdown",
   "metadata": {
    "hidden": true,
    "papermill": {
     "duration": 0.041844,
     "end_time": "2020-12-20T11:41:25.856707",
     "exception": false,
     "start_time": "2020-12-20T11:41:25.814863",
     "status": "completed"
    },
    "tags": []
   },
   "source": [
    "1. P_emaildomain"
   ]
  },
  {
   "cell_type": "code",
   "execution_count": 8,
   "metadata": {
    "execution": {
     "iopub.execute_input": "2020-12-20T11:41:25.981186Z",
     "iopub.status.busy": "2020-12-20T11:41:25.976679Z",
     "iopub.status.idle": "2020-12-20T11:41:26.700735Z",
     "shell.execute_reply": "2020-12-20T11:41:26.701166Z"
    },
    "hidden": true,
    "papermill": {
     "duration": 0.801537,
     "end_time": "2020-12-20T11:41:26.701283",
     "exception": false,
     "start_time": "2020-12-20T11:41:25.899746",
     "status": "completed"
    },
    "tags": []
   },
   "outputs": [
    {
     "data": {
      "text/plain": [
       "<matplotlib.axes._subplots.AxesSubplot at 0x7fa013543350>"
      ]
     },
     "execution_count": 8,
     "metadata": {},
     "output_type": "execute_result"
    },
    {
     "data": {
      "image/png": "[encoded data removed]",
      "text/plain": [
       "<Figure size 1152x576 with 1 Axes>"
      ]
     },
     "metadata": {
      "needs_background": "light"
     },
     "output_type": "display_data"
    }
   ],
   "source": [
    "train['P_emaildomain'].fillna('not_given', inplace = True)\n",
    "groupedData = train[['P_emaildomain', 'isFraud']].groupby(by = 'P_emaildomain', as_index = False).mean().sort_values(by = 'isFraud', ascending = True)\n",
    "plt.figure(figsize = (16, 8))\n",
    "sns.barplot(x = groupedData['P_emaildomain'], y = groupedData['isFraud'])"
   ]
  },
  {
   "cell_type": "code",
   "execution_count": 9,
   "metadata": {
    "execution": {
     "iopub.execute_input": "2020-12-20T11:41:26.820263Z",
     "iopub.status.busy": "2020-12-20T11:41:26.819487Z",
     "iopub.status.idle": "2020-12-20T11:41:27.263317Z",
     "shell.execute_reply": "2020-12-20T11:41:27.263743Z"
    },
    "hidden": true,
    "papermill": {
     "duration": 0.518023,
     "end_time": "2020-12-20T11:41:27.263859",
     "exception": false,
     "start_time": "2020-12-20T11:41:26.745836",
     "status": "completed"
    },
    "tags": []
   },
   "outputs": [
    {
     "data": {
      "text/plain": [
       "<matplotlib.axes._subplots.AxesSubplot at 0x7fa012ca1b10>"
      ]
     },
     "execution_count": 9,
     "metadata": {},
     "output_type": "execute_result"
    },
    {
     "data": {
      "image/png": "[encoded data removed]",
      "text/plain": [
       "<Figure size 1152x576 with 1 Axes>"
      ]
     },
     "metadata": {
      "needs_background": "light"
     },
     "output_type": "display_data"
    }
   ],
   "source": [
    "trusted_domains = []\n",
    "for index, row in groupedData.iterrows():\n",
    "    if(row['isFraud'] == 0):\n",
    "        trusted_domains.append(row['P_emaildomain'])\n",
    "\n",
    "mapping = {}\n",
    "for col in train['P_emaildomain'].unique():\n",
    "    if col in trusted_domains:\n",
    "        mapping[col] = \"trusted_domain.com\"\n",
    "    else:\n",
    "        mapping[col] = col\n",
    "\n",
    "train['P_emaildomain'] = train['P_emaildomain'].map(mapping)\n",
    "\n",
    "groupedData = train[['P_emaildomain', 'isFraud']].groupby(by = 'P_emaildomain', as_index = False).mean().sort_values(by = 'isFraud', ascending = True)\n",
    "plt.figure(figsize = (16, 8))\n",
    "sns.barplot(x = groupedData['P_emaildomain'], y = groupedData['isFraud'])"
   ]
  },
  {
   "cell_type": "markdown",
   "metadata": {
    "hidden": true
   },
   "source": [
    "There were many P_emaildomains with 0 fraud rate, these have been combined into a single trusted domain category"
   ]
  },
  {
   "cell_type": "markdown",
   "metadata": {
    "hidden": true,
    "papermill": {
     "duration": 0.0454,
     "end_time": "2020-12-20T11:41:27.354667",
     "exception": false,
     "start_time": "2020-12-20T11:41:27.309267",
     "status": "completed"
    },
    "tags": []
   },
   "source": [
    "2. R_emaildomain"
   ]
  },
  {
   "cell_type": "code",
   "execution_count": 10,
   "metadata": {
    "execution": {
     "iopub.execute_input": "2020-12-20T11:41:27.470201Z",
     "iopub.status.busy": "2020-12-20T11:41:27.469448Z",
     "iopub.status.idle": "2020-12-20T11:41:27.516330Z",
     "shell.execute_reply": "2020-12-20T11:41:27.516747Z"
    },
    "hidden": true,
    "papermill": {
     "duration": 0.116848,
     "end_time": "2020-12-20T11:41:27.516855",
     "exception": false,
     "start_time": "2020-12-20T11:41:27.400007",
     "status": "completed"
    },
    "tags": []
   },
   "outputs": [
    {
     "data": {
      "text/plain": [
       "<Figure size 1152x576 with 0 Axes>"
      ]
     },
     "execution_count": 10,
     "metadata": {},
     "output_type": "execute_result"
    },
    {
     "data": {
      "text/plain": [
       "<Figure size 1152x576 with 0 Axes>"
      ]
     },
     "metadata": {},
     "output_type": "display_data"
    }
   ],
   "source": [
    "train['R_emaildomain'].fillna('not_given', inplace = True)\n",
    "groupedData = train[['R_emaildomain', 'isFraud']].groupby(by = 'R_emaildomain', as_index = False).mean().sort_values(by = 'isFraud', ascending = True)\n",
    "plt.figure(figsize = (16, 8))\n",
    "# sns.barplot(x = groupedData['R_emaildomain'], y = groupedData['isFraud'])"
   ]
  },
  {
   "cell_type": "code",
   "execution_count": 11,
   "metadata": {
    "execution": {
     "iopub.execute_input": "2020-12-20T11:41:27.625668Z",
     "iopub.status.busy": "2020-12-20T11:41:27.624835Z",
     "iopub.status.idle": "2020-12-20T11:41:27.655421Z",
     "shell.execute_reply": "2020-12-20T11:41:27.654993Z"
    },
    "hidden": true,
    "papermill": {
     "duration": 0.09228,
     "end_time": "2020-12-20T11:41:27.655520",
     "exception": false,
     "start_time": "2020-12-20T11:41:27.563240",
     "status": "completed"
    },
    "tags": []
   },
   "outputs": [],
   "source": [
    "trusted_domains = []\n",
    "for index, row in groupedData.iterrows():\n",
    "    if(row['isFraud'] == 0):\n",
    "        trusted_domains.append(row['R_emaildomain'])\n",
    "mapping = {}\n",
    "for col in train['R_emaildomain'].unique():\n",
    "    if col in trusted_domains:\n",
    "        mapping[col] = \"trusted_domain.com\"\n",
    "    else:\n",
    "        mapping[col] = col"
   ]
  },
  {
   "cell_type": "code",
   "execution_count": 12,
   "metadata": {
    "execution": {
     "iopub.execute_input": "2020-12-20T11:41:27.804025Z",
     "iopub.status.busy": "2020-12-20T11:41:27.803175Z",
     "iopub.status.idle": "2020-12-20T11:41:28.142732Z",
     "shell.execute_reply": "2020-12-20T11:41:28.142226Z"
    },
    "hidden": true,
    "papermill": {
     "duration": 0.420269,
     "end_time": "2020-12-20T11:41:28.142824",
     "exception": false,
     "start_time": "2020-12-20T11:41:27.722555",
     "status": "completed"
    },
    "tags": []
   },
   "outputs": [
    {
     "data": {
      "text/plain": [
       "<matplotlib.axes._subplots.AxesSubplot at 0x7fa013460d50>"
      ]
     },
     "execution_count": 12,
     "metadata": {},
     "output_type": "execute_result"
    },
    {
     "data": {
      "image/png": "[encoded data removed]",
      "text/plain": [
       "<Figure size 1152x576 with 1 Axes>"
      ]
     },
     "metadata": {
      "needs_background": "light"
     },
     "output_type": "display_data"
    }
   ],
   "source": [
    "train['R_emaildomain'] = train['R_emaildomain'].map(mapping)\n",
    "groupedData = train[['R_emaildomain', 'isFraud']].groupby(by = 'R_emaildomain', as_index = False).mean().sort_values(by = 'isFraud', ascending = True)\n",
    "plt.figure(figsize = (16, 8))\n",
    "sns.barplot(x = groupedData['R_emaildomain'], y = groupedData['isFraud'])"
   ]
  },
  {
   "cell_type": "markdown",
   "metadata": {
    "hidden": true
   },
   "source": [
    "We see that the number of categories has decreased."
   ]
  },
  {
   "cell_type": "markdown",
   "metadata": {
    "hidden": true,
    "papermill": {
     "duration": 0.048686,
     "end_time": "2020-12-20T11:41:28.241097",
     "exception": false,
     "start_time": "2020-12-20T11:41:28.192411",
     "status": "completed"
    },
    "tags": []
   },
   "source": [
    "3. DeviceInfo"
   ]
  },
  {
   "cell_type": "code",
   "execution_count": 13,
   "metadata": {
    "execution": {
     "iopub.execute_input": "2020-12-20T11:41:28.347037Z",
     "iopub.status.busy": "2020-12-20T11:41:28.346248Z",
     "iopub.status.idle": "2020-12-20T11:41:28.643606Z",
     "shell.execute_reply": "2020-12-20T11:41:28.643143Z"
    },
    "hidden": true,
    "papermill": {
     "duration": 0.355501,
     "end_time": "2020-12-20T11:41:28.643707",
     "exception": false,
     "start_time": "2020-12-20T11:41:28.288206",
     "status": "completed"
    },
    "tags": []
   },
   "outputs": [],
   "source": [
    "groupedData = train[['DeviceInfo', 'isFraud']].groupby(by = 'DeviceInfo', as_index = False).mean().sort_values(by = 'isFraud', ascending = True)\n",
    "trusted_devices = []\n",
    "fraudulent_devices = []\n",
    "for index, row in groupedData.iterrows():\n",
    "    if(row['isFraud'] <= 0.1):\n",
    "        trusted_devices.append(row['DeviceInfo'])\n",
    "    elif row['isFraud'] >= 0.9:\n",
    "        fraudulent_devices.append(row['DeviceInfo'])\n",
    "\n",
    "mapping = {}\n",
    "for col in train['DeviceInfo'].unique():\n",
    "    if col in trusted_devices:\n",
    "        mapping[col] = \"trusted_device\"\n",
    "    elif col in fraudulent_devices:\n",
    "        mapping[col] = \"fradulent_device\"\n",
    "    else:\n",
    "        mapping[col] = col\n",
    "\n",
    "train['DeviceInfo'] = train['DeviceInfo'].map(mapping)"
   ]
  },
  {
   "cell_type": "code",
   "execution_count": 14,
   "metadata": {
    "execution": {
     "iopub.execute_input": "2020-12-20T11:41:28.746195Z",
     "iopub.status.busy": "2020-12-20T11:41:28.745214Z",
     "iopub.status.idle": "2020-12-20T11:41:29.321722Z",
     "shell.execute_reply": "2020-12-20T11:41:29.321251Z"
    },
    "hidden": true,
    "papermill": {
     "duration": 0.630225,
     "end_time": "2020-12-20T11:41:29.321827",
     "exception": false,
     "start_time": "2020-12-20T11:41:28.691602",
     "status": "completed"
    },
    "tags": []
   },
   "outputs": [],
   "source": [
    "ytrain = train['isFraud']\n",
    "train.drop('isFraud', axis = 1, inplace = True)\n",
    "xtrain = train.copy()\n",
    "del train"
   ]
  },
  {
   "cell_type": "markdown",
   "metadata": {
    "heading_collapsed": true,
    "hidden": true,
    "papermill": {
     "duration": 0.046959,
     "end_time": "2020-12-20T11:41:29.415784",
     "exception": false,
     "start_time": "2020-12-20T11:41:29.368825",
     "status": "completed"
    },
    "tags": []
   },
   "source": [
    "### Correlation Check"
   ]
  },
  {
   "cell_type": "code",
   "execution_count": 15,
   "metadata": {
    "execution": {
     "iopub.execute_input": "2020-12-20T11:41:29.519512Z",
     "iopub.status.busy": "2020-12-20T11:41:29.517110Z",
     "iopub.status.idle": "2020-12-20T11:41:29.521773Z",
     "shell.execute_reply": "2020-12-20T11:41:29.522165Z"
    },
    "hidden": true,
    "papermill": {
     "duration": 0.059635,
     "end_time": "2020-12-20T11:41:29.522275",
     "exception": false,
     "start_time": "2020-12-20T11:41:29.462640",
     "status": "completed"
    },
    "tags": []
   },
   "outputs": [],
   "source": [
    "def uncorrelated_features(df, threshold=0.9):\n",
    "    \"\"\"\n",
    "    Returns a subset of df columns with Pearson correlations\n",
    "    below threshold.\n",
    "    \"\"\"\n",
    "\n",
    "    corr = df.corr().abs()\n",
    "    keep = []\n",
    "    for i in range(len(corr.iloc[:,0])):\n",
    "        above = corr.iloc[:i,i]\n",
    "        if len(keep) > 0: above = above[keep]\n",
    "        if len(above[above < threshold]) == len(above):\n",
    "            keep.append(corr.columns.values[i])\n",
    "\n",
    "    return df[keep]\n",
    "\n",
    "def uncorr_columns(data, columns_to_check, threshold = 0.9):\n",
    "    uncorr_data = uncorrelated_features(data, threshold)\n",
    "    \n",
    "    data = data.drop(columns = columns_to_check)\n",
    "    data[uncorr_data.columns] = uncorr_data.values\n",
    "    \n",
    "    print('removed columns:'),\n",
    "    for i in columns_to_check:\n",
    "        if i not in uncorr_data.columns:\n",
    "            print(i),\n",
    "\n",
    "    return uncorr_data, uncorr_data.columns"
   ]
  },
  {
   "cell_type": "markdown",
   "metadata": {
    "heading_collapsed": true,
    "hidden": true,
    "papermill": {
     "duration": 0.046596,
     "end_time": "2020-12-20T11:41:29.615608",
     "exception": false,
     "start_time": "2020-12-20T11:41:29.569012",
     "status": "completed"
    },
    "tags": []
   },
   "source": [
    "### Principle Component Analysis"
   ]
  },
  {
   "cell_type": "code",
   "execution_count": 16,
   "metadata": {
    "execution": {
     "iopub.execute_input": "2020-12-20T11:41:29.720461Z",
     "iopub.status.busy": "2020-12-20T11:41:29.719783Z",
     "iopub.status.idle": "2020-12-20T11:41:29.723653Z",
     "shell.execute_reply": "2020-12-20T11:41:29.723216Z"
    },
    "hidden": true,
    "papermill": {
     "duration": 0.061502,
     "end_time": "2020-12-20T11:41:29.723739",
     "exception": false,
     "start_time": "2020-12-20T11:41:29.662237",
     "status": "completed"
    },
    "tags": []
   },
   "outputs": [],
   "source": [
    "def pca_columns(data, columns_to_pca, principal_components, name, plot = False):\n",
    "    data.loc[:, columns_to_pca] = data.fillna(-999)\n",
    "    data.loc[:, columns_to_pca] = StandardScaler().fit_transform(data.loc[:, columns_to_pca])\n",
    "    \n",
    "    if(plot):\n",
    "        tune_pca = PCA(n_components = len(data.loc[:, columns_to_pca].columns))\n",
    "        tune_pca_fit_train_v = tune_pca.fit_transform(data.loc[:, columns_to_pca])\n",
    "        plt.plot(tune_pca.explained_variance_ratio_.cumsum())\n",
    "        plt.xlabel('Number of components')\n",
    "        plt.ylabel('Variance percentage captured')\n",
    "        plt.title('Principle Component Analysis')\n",
    "        plt.savefig('pca.jpg', bbox_inches='tight')\n",
    "        plt.show()\n",
    "\n",
    "    pca = PCA(n_components = principal_components)\n",
    "    pca_fit_train_v = pca.fit_transform(data.loc[:, columns_to_pca])\n",
    "    \n",
    "    column_names = [name + '_']*principal_components\n",
    "    for i in range(principal_components):\n",
    "        column_names[i] = column_names[i]+str(i+1)\n",
    "\n",
    "    new_pca_columns = pd.DataFrame(data = pca_fit_train_v)\n",
    "    new_pca_columns.columns = column_names\n",
    "    \n",
    "    data = data.drop(columns = columns_to_pca)    \n",
    "    data[column_names] = new_pca_columns.values\n",
    "    \n",
    "    return data, column_names"
   ]
  },
  {
   "cell_type": "code",
   "execution_count": 17,
   "metadata": {
    "execution": {
     "iopub.execute_input": "2020-12-20T11:41:29.827804Z",
     "iopub.status.busy": "2020-12-20T11:41:29.827051Z",
     "iopub.status.idle": "2020-12-20T11:41:29.829275Z",
     "shell.execute_reply": "2020-12-20T11:41:29.829770Z"
    },
    "hidden": true,
    "papermill": {
     "duration": 0.058454,
     "end_time": "2020-12-20T11:41:29.829872",
     "exception": false,
     "start_time": "2020-12-20T11:41:29.771418",
     "status": "completed"
    },
    "tags": []
   },
   "outputs": [],
   "source": [
    "def reduce_columns(data, columns_to_reduce, principal_components, name, method = 'pca', threshold = 0.9, plot = False, disp = False):\n",
    "    cat_cols, columns_to_reduce = cat_and_num_colNames(data[columns_to_reduce])\n",
    "    del cat_cols\n",
    "    \n",
    "    if method=='uncorrelated':\n",
    "        data, relevant_columns = uncorr_columns(data, columns_to_reduce, threshold)\n",
    "        if(disp):\n",
    "            display(data[required_columns])\n",
    "        \n",
    "    elif method=='pca':\n",
    "        data, relevant_columns = pca_columns(data, columns_to_reduce, principal_components, name, plot)\n",
    "        if(disp):\n",
    "            display(data[relevant_columns])\n",
    "    \n",
    "    return data"
   ]
  },
  {
   "cell_type": "markdown",
   "metadata": {
    "hidden": true,
    "papermill": {
     "duration": 0.047291,
     "end_time": "2020-12-20T11:41:29.923920",
     "exception": false,
     "start_time": "2020-12-20T11:41:29.876629",
     "status": "completed"
    },
    "tags": []
   },
   "source": [
    "V Columns"
   ]
  },
  {
   "cell_type": "code",
   "execution_count": 18,
   "metadata": {
    "execution": {
     "iopub.execute_input": "2020-12-20T11:41:30.025399Z",
     "iopub.status.busy": "2020-12-20T11:41:30.024809Z",
     "iopub.status.idle": "2020-12-20T11:41:30.029371Z",
     "shell.execute_reply": "2020-12-20T11:41:30.028655Z"
    },
    "hidden": true,
    "papermill": {
     "duration": 0.058411,
     "end_time": "2020-12-20T11:41:30.029483",
     "exception": false,
     "start_time": "2020-12-20T11:41:29.971072",
     "status": "completed"
    },
    "tags": []
   },
   "outputs": [
    {
     "name": "stdout",
     "output_type": "stream",
     "text": [
      "CPU times: user 2 µs, sys: 1e+03 ns, total: 3 µs\n",
      "Wall time: 6.44 µs\n"
     ]
    }
   ],
   "source": [
    "%%time\n",
    "# xtrain = reduce_columns(xtrain, xtrain.loc[:, 'V1':'V339'].columns, 45, 'V', plot=True, disp = False, method = 'pca', threshold = 0.95)\n",
    "# test = reduce_columns(test, test.loc[:, 'V1':'V339'].columns, 45, 'V', method = 'uncorrelated', threshold = 0.95)"
   ]
  },
  {
   "cell_type": "markdown",
   "metadata": {
    "hidden": true,
    "papermill": {
     "duration": 0.047212,
     "end_time": "2020-12-20T11:41:30.124780",
     "exception": false,
     "start_time": "2020-12-20T11:41:30.077568",
     "status": "completed"
    },
    "tags": []
   },
   "source": [
    "ID Columns"
   ]
  },
  {
   "cell_type": "code",
   "execution_count": 20,
   "metadata": {
    "execution": {
     "iopub.execute_input": "2020-12-20T11:41:30.327922Z",
     "iopub.status.busy": "2020-12-20T11:41:30.327202Z",
     "iopub.status.idle": "2020-12-20T11:41:30.333195Z",
     "shell.execute_reply": "2020-12-20T11:41:30.332424Z"
    },
    "hidden": true,
    "papermill": {
     "duration": 0.058177,
     "end_time": "2020-12-20T11:41:30.333282",
     "exception": false,
     "start_time": "2020-12-20T11:41:30.275105",
     "status": "completed"
    },
    "tags": []
   },
   "outputs": [
    {
     "name": "stdout",
     "output_type": "stream",
     "text": [
      "CPU times: user 1e+03 ns, sys: 1 µs, total: 2 µs\n",
      "Wall time: 6.2 µs\n"
     ]
    }
   ],
   "source": [
    "%%time\n",
    "# xtrain = reduce_columns(xtrain, xtrain.loc[:, 'id_01':'id_32'].columns, 9, 'ID', plot=True)\n",
    "# test = reduce_columns(test, test.loc[:, 'id_01':'id_32'].columns, 9, 'ID')"
   ]
  },
  {
   "cell_type": "markdown",
   "metadata": {
    "heading_collapsed": true,
    "papermill": {
     "duration": 0.049259,
     "end_time": "2020-12-20T11:41:30.430146",
     "exception": false,
     "start_time": "2020-12-20T11:41:30.380887",
     "status": "completed"
    },
    "tags": []
   },
   "source": [
    "# Feature Generation"
   ]
  },
  {
   "cell_type": "markdown",
   "metadata": {
    "hidden": true,
    "papermill": {
     "duration": 0.048242,
     "end_time": "2020-12-20T11:41:30.526259",
     "exception": false,
     "start_time": "2020-12-20T11:41:30.478017",
     "status": "completed"
    },
    "tags": []
   },
   "source": [
    "Card columns\n",
    "    \n",
    "    Add explanation here"
   ]
  },
  {
   "cell_type": "code",
   "execution_count": 21,
   "metadata": {
    "execution": {
     "iopub.execute_input": "2020-12-20T11:41:30.629613Z",
     "iopub.status.busy": "2020-12-20T11:41:30.629092Z",
     "iopub.status.idle": "2020-12-20T11:41:31.434332Z",
     "shell.execute_reply": "2020-12-20T11:41:31.433857Z"
    },
    "hidden": true,
    "papermill": {
     "duration": 0.859945,
     "end_time": "2020-12-20T11:41:31.434442",
     "exception": false,
     "start_time": "2020-12-20T11:41:30.574497",
     "status": "completed"
    },
    "tags": []
   },
   "outputs": [],
   "source": [
    "card_cols = [col for col in xtrain if col.startswith('card')]\n",
    "for col in card_cols:\n",
    "    xtrain[str(col) + str(\"_full\")] = xtrain[col].map(pd.concat([xtrain[col], test[col]], ignore_index = True).value_counts(dropna = False))\n",
    "    test[str(col) + str(\"_full\")] = test[col].map(pd.concat([xtrain[col], test[col]], ignore_index = True).value_counts(dropna = False))\n",
    "    "
   ]
  },
  {
   "cell_type": "code",
   "execution_count": 22,
   "metadata": {
    "execution": {
     "iopub.execute_input": "2020-12-20T11:41:31.538617Z",
     "iopub.status.busy": "2020-12-20T11:41:31.537612Z",
     "iopub.status.idle": "2020-12-20T11:41:31.800825Z",
     "shell.execute_reply": "2020-12-20T11:41:31.799714Z"
    },
    "hidden": true,
    "papermill": {
     "duration": 0.317548,
     "end_time": "2020-12-20T11:41:31.800944",
     "exception": false,
     "start_time": "2020-12-20T11:41:31.483396",
     "status": "completed"
    },
    "tags": []
   },
   "outputs": [],
   "source": [
    "for col in card_cols:\n",
    "    xtrain[str(\"TransactionAmt_mean_\") + str(col)] = xtrain['TransactionAmt'] / xtrain.groupby([col])['TransactionAmt'].transform('mean')\n",
    "    test[str(\"TransactionAmt_mean_\") + str(col)] = test['TransactionAmt'] / test.groupby([col])['TransactionAmt'].transform('mean')"
   ]
  },
  {
   "cell_type": "markdown",
   "metadata": {
    "heading_collapsed": true,
    "hidden": true,
    "papermill": {
     "duration": 0.080634,
     "end_time": "2020-12-20T11:41:31.930314",
     "exception": false,
     "start_time": "2020-12-20T11:41:31.849680",
     "status": "completed"
    },
    "tags": []
   },
   "source": [
    "### Unique Card/User Identification"
   ]
  },
  {
   "cell_type": "code",
   "execution_count": 23,
   "metadata": {
    "execution": {
     "iopub.execute_input": "2020-12-20T11:41:32.170949Z",
     "iopub.status.busy": "2020-12-20T11:41:32.170155Z",
     "iopub.status.idle": "2020-12-20T11:41:32.176029Z",
     "shell.execute_reply": "2020-12-20T11:41:32.176756Z"
    },
    "hidden": true,
    "papermill": {
     "duration": 0.105174,
     "end_time": "2020-12-20T11:41:32.176942",
     "exception": false,
     "start_time": "2020-12-20T11:41:32.071768",
     "status": "completed"
    },
    "tags": []
   },
   "outputs": [],
   "source": [
    "xtrain['reference_day'] = np.floor(xtrain['TransactionDT']/(3600*24)) + 650\n",
    "test['reference_day'] = np.floor(test['TransactionDT']/(3600*24)) + 650"
   ]
  },
  {
   "cell_type": "code",
   "execution_count": 24,
   "metadata": {
    "execution": {
     "iopub.execute_input": "2020-12-20T11:41:32.372459Z",
     "iopub.status.busy": "2020-12-20T11:41:32.371495Z",
     "iopub.status.idle": "2020-12-20T11:41:32.373967Z",
     "shell.execute_reply": "2020-12-20T11:41:32.374852Z"
    },
    "hidden": true,
    "papermill": {
     "duration": 0.112347,
     "end_time": "2020-12-20T11:41:32.375040",
     "exception": false,
     "start_time": "2020-12-20T11:41:32.262693",
     "status": "completed"
    },
    "tags": []
   },
   "outputs": [],
   "source": [
    "xtrain['First_Credit_Trans'] = xtrain['reference_day'] - xtrain['D1']\n",
    "test['First_Credit_Trans'] = test['reference_day'] - test['D1']"
   ]
  },
  {
   "cell_type": "code",
   "execution_count": 25,
   "metadata": {
    "execution": {
     "iopub.execute_input": "2020-12-20T11:41:32.553195Z",
     "iopub.status.busy": "2020-12-20T11:41:32.551768Z",
     "iopub.status.idle": "2020-12-20T11:41:32.554048Z",
     "shell.execute_reply": "2020-12-20T11:41:32.552332Z"
    },
    "hidden": true,
    "papermill": {
     "duration": 0.092858,
     "end_time": "2020-12-20T11:41:32.554206",
     "exception": false,
     "start_time": "2020-12-20T11:41:32.461348",
     "status": "completed"
    },
    "tags": []
   },
   "outputs": [],
   "source": [
    "# userid_cols = ['card1','card2','card3', 'card4','card5','card6','addr1','addr2','First_Credit_Trans','P_emaildomain']\n",
    "userid_cols = ['First_Credit_Trans', 'card1', 'addr1']"
   ]
  },
  {
   "cell_type": "code",
   "execution_count": 26,
   "metadata": {
    "execution": {
     "iopub.execute_input": "2020-12-20T11:41:32.758602Z",
     "iopub.status.busy": "2020-12-20T11:41:32.757429Z",
     "iopub.status.idle": "2020-12-20T11:41:35.964842Z",
     "shell.execute_reply": "2020-12-20T11:41:35.966351Z"
    },
    "hidden": true,
    "papermill": {
     "duration": 3.321012,
     "end_time": "2020-12-20T11:41:35.966532",
     "exception": false,
     "start_time": "2020-12-20T11:41:32.645520",
     "status": "completed"
    },
    "tags": []
   },
   "outputs": [],
   "source": [
    "xtrain['userid'] = xtrain[userid_cols[0]]\n",
    "for i in range(1, len(userid_cols)):\n",
    "    xtrain['userid'] = xtrain['userid'].astype(str) + '_' + xtrain[userid_cols[i]].astype(str)\n",
    "\n",
    "test['userid'] = test[userid_cols[0]]\n",
    "for i in range(1, len(userid_cols)):\n",
    "    test['userid'] = test['userid'].astype(str) + '_' + xtrain[userid_cols[i]].astype(str)"
   ]
  },
  {
   "cell_type": "code",
   "execution_count": 27,
   "metadata": {
    "execution": {
     "iopub.execute_input": "2020-12-20T11:41:36.137953Z",
     "iopub.status.busy": "2020-12-20T11:41:36.137181Z",
     "iopub.status.idle": "2020-12-20T11:41:37.450258Z",
     "shell.execute_reply": "2020-12-20T11:41:37.448868Z"
    },
    "hidden": true,
    "papermill": {
     "duration": 1.404108,
     "end_time": "2020-12-20T11:41:37.450378",
     "exception": false,
     "start_time": "2020-12-20T11:41:36.046270",
     "status": "completed"
    },
    "tags": []
   },
   "outputs": [],
   "source": [
    "xtrain['isFraud'] = ytrain\n",
    "xtrain['isFraud'] = xtrain['isFraud'].apply(pd.to_numeric)"
   ]
  },
  {
   "cell_type": "code",
   "execution_count": 28,
   "metadata": {
    "execution": {
     "iopub.execute_input": "2020-12-20T11:41:37.745401Z",
     "iopub.status.busy": "2020-12-20T11:41:37.653014Z",
     "iopub.status.idle": "2020-12-20T11:41:37.747975Z",
     "shell.execute_reply": "2020-12-20T11:41:37.748623Z"
    },
    "hidden": true,
    "papermill": {
     "duration": 0.248964,
     "end_time": "2020-12-20T11:41:37.748792",
     "exception": false,
     "start_time": "2020-12-20T11:41:37.499828",
     "status": "completed"
    },
    "tags": []
   },
   "outputs": [],
   "source": [
    "unique_cards_train = set(xtrain['userid'])\n",
    "unique_cards_test = set(test['userid'])\n",
    "common_cards = unique_cards_train.intersection(unique_cards_test)"
   ]
  },
  {
   "cell_type": "code",
   "execution_count": 29,
   "metadata": {
    "execution": {
     "iopub.execute_input": "2020-12-20T11:41:37.940467Z",
     "iopub.status.busy": "2020-12-20T11:41:37.914830Z",
     "iopub.status.idle": "2020-12-20T11:41:37.987787Z",
     "shell.execute_reply": "2020-12-20T11:41:37.988219Z"
    },
    "hidden": true,
    "papermill": {
     "duration": 0.152357,
     "end_time": "2020-12-20T11:41:37.988334",
     "exception": false,
     "start_time": "2020-12-20T11:41:37.835977",
     "status": "completed"
    },
    "tags": []
   },
   "outputs": [
    {
     "name": "stdout",
     "output_type": "stream",
     "text": [
      "60974\n"
     ]
    },
    {
     "data": {
      "text/plain": [
       "0.25812815389304705"
      ]
     },
     "execution_count": 29,
     "metadata": {},
     "output_type": "execute_result"
    }
   ],
   "source": [
    "total_known_users = 0\n",
    "for user in test['userid']:\n",
    "    if user in common_cards:\n",
    "        total_known_users += 1\n",
    "print(total_known_users)\n",
    "total_known_users/len(test)"
   ]
  },
  {
   "cell_type": "code",
   "execution_count": 30,
   "metadata": {
    "execution": {
     "iopub.execute_input": "2020-12-20T11:41:38.093783Z",
     "iopub.status.busy": "2020-12-20T11:41:38.093152Z",
     "iopub.status.idle": "2020-12-20T11:41:38.100399Z",
     "shell.execute_reply": "2020-12-20T11:41:38.099952Z"
    },
    "hidden": true,
    "papermill": {
     "duration": 0.061659,
     "end_time": "2020-12-20T11:41:38.100483",
     "exception": false,
     "start_time": "2020-12-20T11:41:38.038824",
     "status": "completed"
    },
    "tags": []
   },
   "outputs": [
    {
     "name": "stdout",
     "output_type": "stream",
     "text": [
      "354324\n"
     ]
    },
    {
     "data": {
      "text/plain": [
       "160677"
      ]
     },
     "execution_count": 30,
     "metadata": {},
     "output_type": "execute_result"
    }
   ],
   "source": [
    "print(len(xtrain))\n",
    "len(unique_cards_train)"
   ]
  },
  {
   "cell_type": "code",
   "execution_count": 31,
   "metadata": {
    "execution": {
     "iopub.execute_input": "2020-12-20T11:41:38.206450Z",
     "iopub.status.busy": "2020-12-20T11:41:38.205750Z",
     "iopub.status.idle": "2020-12-20T11:41:38.210513Z",
     "shell.execute_reply": "2020-12-20T11:41:38.210881Z"
    },
    "hidden": true,
    "papermill": {
     "duration": 0.059431,
     "end_time": "2020-12-20T11:41:38.210983",
     "exception": false,
     "start_time": "2020-12-20T11:41:38.151552",
     "status": "completed"
    },
    "tags": []
   },
   "outputs": [
    {
     "name": "stdout",
     "output_type": "stream",
     "text": [
      "236216\n"
     ]
    },
    {
     "data": {
      "text/plain": [
       "187602"
      ]
     },
     "execution_count": 31,
     "metadata": {},
     "output_type": "execute_result"
    }
   ],
   "source": [
    "print(len(test))\n",
    "len(unique_cards_test)"
   ]
  },
  {
   "cell_type": "code",
   "execution_count": 32,
   "metadata": {
    "execution": {
     "iopub.execute_input": "2020-12-20T11:41:38.316846Z",
     "iopub.status.busy": "2020-12-20T11:41:38.316338Z",
     "iopub.status.idle": "2020-12-20T11:41:38.321845Z",
     "shell.execute_reply": "2020-12-20T11:41:38.321422Z"
    },
    "hidden": true,
    "papermill": {
     "duration": 0.059549,
     "end_time": "2020-12-20T11:41:38.321933",
     "exception": false,
     "start_time": "2020-12-20T11:41:38.262384",
     "status": "completed"
    },
    "tags": []
   },
   "outputs": [
    {
     "data": {
      "text/plain": [
       "29643"
      ]
     },
     "execution_count": 32,
     "metadata": {},
     "output_type": "execute_result"
    }
   ],
   "source": [
    "len(common_cards)"
   ]
  },
  {
   "cell_type": "code",
   "execution_count": 33,
   "metadata": {
    "execution": {
     "iopub.execute_input": "2020-12-20T11:41:38.429545Z",
     "iopub.status.busy": "2020-12-20T11:41:38.428647Z",
     "iopub.status.idle": "2020-12-20T11:41:38.437480Z",
     "shell.execute_reply": "2020-12-20T11:41:38.437053Z"
    },
    "hidden": true,
    "papermill": {
     "duration": 0.064353,
     "end_time": "2020-12-20T11:41:38.437578",
     "exception": false,
     "start_time": "2020-12-20T11:41:38.373225",
     "status": "completed"
    },
    "tags": []
   },
   "outputs": [],
   "source": [
    "user_info_train = pd.DataFrame(xtrain['userid'])\n",
    "user_info_test = pd.DataFrame(test['userid'])"
   ]
  },
  {
   "cell_type": "code",
   "execution_count": 34,
   "metadata": {
    "execution": {
     "iopub.execute_input": "2020-12-20T11:41:38.546200Z",
     "iopub.status.busy": "2020-12-20T11:41:38.544402Z",
     "iopub.status.idle": "2020-12-20T11:41:38.546793Z",
     "shell.execute_reply": "2020-12-20T11:41:38.547244Z"
    },
    "hidden": true,
    "papermill": {
     "duration": 0.057915,
     "end_time": "2020-12-20T11:41:38.547348",
     "exception": false,
     "start_time": "2020-12-20T11:41:38.489433",
     "status": "completed"
    },
    "tags": []
   },
   "outputs": [],
   "source": [
    "# xtrain['Transaction_DoW'] = np.floor((xtrain['TransactionDT']/(60*60*24)-1)%7)\n",
    "# test['Transaction_DoW'] = np.floor((test['TransactionDT']/(60*60*24) - 1) % 7)\n",
    "\n",
    "# xtrain['Transaction_hour'] = np.floor(xtrain['TransactionDT']/(60*60))%24\n",
    "# test['Transaction_hour'] = np.floor(test['TransactionDT']/(60*60))%24"
   ]
  },
  {
   "cell_type": "code",
   "execution_count": 35,
   "metadata": {
    "execution": {
     "iopub.execute_input": "2020-12-20T11:41:38.655253Z",
     "iopub.status.busy": "2020-12-20T11:41:38.654681Z",
     "iopub.status.idle": "2020-12-20T11:41:38.658384Z",
     "shell.execute_reply": "2020-12-20T11:41:38.657901Z"
    },
    "hidden": true,
    "papermill": {
     "duration": 0.05982,
     "end_time": "2020-12-20T11:41:38.658471",
     "exception": false,
     "start_time": "2020-12-20T11:41:38.598651",
     "status": "completed"
    },
    "tags": []
   },
   "outputs": [],
   "source": [
    "# for i in xtrain.loc[:, 'D1':'D15'].columns:\n",
    "#     xtrain[i+'_new'] = xtrain['reference_day'] - xtrain[i]\n",
    "#     test[i+'_new'] = test['reference_day'] - test[i]"
   ]
  },
  {
   "cell_type": "code",
   "execution_count": 36,
   "metadata": {
    "execution": {
     "iopub.execute_input": "2020-12-20T11:41:38.767364Z",
     "iopub.status.busy": "2020-12-20T11:41:38.766032Z",
     "iopub.status.idle": "2020-12-20T11:41:38.768500Z",
     "shell.execute_reply": "2020-12-20T11:41:38.768967Z"
    },
    "hidden": true,
    "papermill": {
     "duration": 0.058539,
     "end_time": "2020-12-20T11:41:38.769090",
     "exception": false,
     "start_time": "2020-12-20T11:41:38.710551",
     "status": "completed"
    },
    "tags": []
   },
   "outputs": [],
   "source": [
    "# def encode_AG(main_columns, userids, aggregations=['mean'], train_df=xtrain, test_df=test, fillna=True, usena=False):\n",
    "#     for main_column in main_columns:  \n",
    "#         for col in userids:\n",
    "#             for agg_type in aggregations:\n",
    "#                 new_col_name = main_column+'_'+col+'_'+agg_type\n",
    "#                 temp_df = pd.concat([train_df[[col, main_column]], test_df[[col,main_column]]])\n",
    "#                 if usena: temp_df.loc[temp_df[main_column]==-9999,main_column] = np.nan\n",
    "#                 temp_df = temp_df.groupby([col])[main_column].agg([agg_type]).reset_index().rename(\n",
    "#                                                         columns={agg_type: new_col_name})\n",
    "\n",
    "#                 temp_df.index = list(temp_df[col])\n",
    "#                 temp_df = temp_df[new_col_name].to_dict()   \n",
    "\n",
    "#                 train_df[new_col_name] = train_df[col].map(temp_df).astype('float32')\n",
    "#                 test_df[new_col_name]  = test_df[col].map(temp_df).astype('float32')\n",
    "                \n",
    "#                 if fillna:\n",
    "#                     train_df[new_col_name].fillna(-9999,inplace=True)\n",
    "#                     test_df[new_col_name].fillna(-9999,inplace=True)\n",
    "                \n",
    "#                 print(\"'\"+new_col_name+\"'\",', ',end='')\n",
    "\n",
    "# def encode_AG2(main_columns, userids, train_df=xtrain, test_df=test):\n",
    "#     for main_column in main_columns:  \n",
    "#         for col in userids:\n",
    "#             comb = pd.concat([train_df[[col]+[main_column]],test_df[[col]+[main_column]]],axis=0)\n",
    "#             mp = comb.groupby(col)[main_column].agg(['nunique'])['nunique'].to_dict()\n",
    "#             train_df[col+'_'+main_column+'_ct'] = train_df[col].map(mp).astype('float32')\n",
    "#             test_df[col+'_'+main_column+'_ct'] = test_df[col].map(mp).astype('float32')\n",
    "#             print(col+'_'+main_column+'_ct, ',end='')"
   ]
  },
  {
   "cell_type": "code",
   "execution_count": 37,
   "metadata": {
    "execution": {
     "iopub.execute_input": "2020-12-20T11:41:38.882244Z",
     "iopub.status.busy": "2020-12-20T11:41:38.881382Z",
     "iopub.status.idle": "2020-12-20T11:41:38.883522Z",
     "shell.execute_reply": "2020-12-20T11:41:38.883930Z"
    },
    "hidden": true,
    "papermill": {
     "duration": 0.063266,
     "end_time": "2020-12-20T11:41:38.884025",
     "exception": false,
     "start_time": "2020-12-20T11:41:38.820759",
     "status": "completed"
    },
    "tags": []
   },
   "outputs": [],
   "source": [
    "# encode_AG(['D4_new','D10_new','D15_new'],['userid'],['mean','std'])\n",
    "# encode_AG(['TransactionAmt','dist1'],['userid'],['mean','std'])\n",
    "# encode_AG2(['C13'], ['userid'])"
   ]
  },
  {
   "cell_type": "code",
   "execution_count": 38,
   "metadata": {
    "execution": {
     "iopub.execute_input": "2020-12-20T11:41:38.998183Z",
     "iopub.status.busy": "2020-12-20T11:41:38.997464Z",
     "iopub.status.idle": "2020-12-20T11:41:39.000368Z",
     "shell.execute_reply": "2020-12-20T11:41:38.999888Z"
    },
    "hidden": true,
    "papermill": {
     "duration": 0.062158,
     "end_time": "2020-12-20T11:41:39.000456",
     "exception": false,
     "start_time": "2020-12-20T11:41:38.938298",
     "status": "completed"
    },
    "tags": []
   },
   "outputs": [],
   "source": [
    "# encode_AG(['TransactionAmt','D4','D9','D10','D15'],['userid'],['mean','std'],fillna=True,usena=True)\n",
    "# encode_AG(['C'+str(x) for x in range(1,15) if x!=3],['userid'],['mean'],xtrain,test,fillna=True,usena=True)\n",
    "# # AGGREGATE\n",
    "# encode_AG2(['P_emaildomain','dist1','id_02'], ['userid'], train_df=xtrain, test_df=test)\n",
    "# encode_AG(['C14'],['userid'],['std'],fillna=True,usena=True)\n",
    "# encode_AG2(['C13'], ['userid'], train_df=xtrain, test_df=test) \n",
    "# encode_AG2(['V' + str(x) for x in range(1,14)], ['userid'], train_df=xtrain, test_df=test)\n"
   ]
  },
  {
   "cell_type": "code",
   "execution_count": 39,
   "metadata": {
    "execution": {
     "iopub.execute_input": "2020-12-20T11:41:39.113032Z",
     "iopub.status.busy": "2020-12-20T11:41:39.111811Z",
     "iopub.status.idle": "2020-12-20T11:41:41.402203Z",
     "shell.execute_reply": "2020-12-20T11:41:41.401714Z"
    },
    "hidden": true,
    "papermill": {
     "duration": 2.349893,
     "end_time": "2020-12-20T11:41:41.402312",
     "exception": false,
     "start_time": "2020-12-20T11:41:39.052419",
     "status": "completed"
    },
    "tags": []
   },
   "outputs": [],
   "source": [
    "dropCol(xtrain, ['isFraud', 'TransactionDT', 'userid', 'TransactionID'])\n",
    "dropCol(test, ['isFraud', 'TransactionDT', 'userid', 'TransactionID'])"
   ]
  },
  {
   "cell_type": "markdown",
   "metadata": {
    "heading_collapsed": true,
    "hidden": true,
    "papermill": {
     "duration": 0.053698,
     "end_time": "2020-12-20T11:41:41.510815",
     "exception": false,
     "start_time": "2020-12-20T11:41:41.457117",
     "status": "completed"
    },
    "tags": []
   },
   "source": [
    "### Encoding"
   ]
  },
  {
   "cell_type": "code",
   "execution_count": 40,
   "metadata": {
    "execution": {
     "iopub.execute_input": "2020-12-20T11:41:41.732370Z",
     "iopub.status.busy": "2020-12-20T11:41:41.711303Z",
     "iopub.status.idle": "2020-12-20T11:41:43.097612Z",
     "shell.execute_reply": "2020-12-20T11:41:43.096723Z"
    },
    "hidden": true,
    "papermill": {
     "duration": 1.534498,
     "end_time": "2020-12-20T11:41:43.097729",
     "exception": false,
     "start_time": "2020-12-20T11:41:41.563231",
     "status": "completed"
    },
    "tags": []
   },
   "outputs": [],
   "source": [
    "cat_cols, num_cols = cat_and_num_colNames(xtrain)\n",
    "one_hot_encode_cols = []\n",
    "freq_encode_cols = []\n",
    "label_encode_cols = []\n",
    "for col in cat_cols:\n",
    "    len_uniq = xtrain[col].nunique()\n",
    "    if len_uniq > 1000:\n",
    "        freq_encode_cols.append(col)\n",
    "    else:\n",
    "        label_encode_cols.append(col)"
   ]
  },
  {
   "cell_type": "code",
   "execution_count": 41,
   "metadata": {
    "execution": {
     "iopub.execute_input": "2020-12-20T11:41:43.208637Z",
     "iopub.status.busy": "2020-12-20T11:41:43.207855Z",
     "iopub.status.idle": "2020-12-20T11:41:58.727538Z",
     "shell.execute_reply": "2020-12-20T11:41:58.727971Z"
    },
    "hidden": true,
    "papermill": {
     "duration": 15.577133,
     "end_time": "2020-12-20T11:41:58.728121",
     "exception": false,
     "start_time": "2020-12-20T11:41:43.150988",
     "status": "completed"
    },
    "tags": []
   },
   "outputs": [
    {
     "name": "stdout",
     "output_type": "stream",
     "text": [
      "CPU times: user 14.1 s, sys: 1.33 s, total: 15.4 s\n",
      "Wall time: 15.5 s\n"
     ]
    }
   ],
   "source": [
    "%%time\n",
    "xtrain, test = labelEncoder(xtrain, test, label_encode_cols)\n",
    "xtrain, test = frequencyEncoder(xtrain, test, freq_encode_cols)\n",
    "xtrain, test = labelEncoder(xtrain, test, one_hot_encode_cols)"
   ]
  },
  {
   "cell_type": "markdown",
   "metadata": {
    "heading_collapsed": true,
    "papermill": {
     "duration": 0.052795,
     "end_time": "2020-12-20T11:41:58.834461",
     "exception": false,
     "start_time": "2020-12-20T11:41:58.781666",
     "status": "completed"
    },
    "tags": []
   },
   "source": [
    "# Hyper parameter tuning"
   ]
  },
  {
   "cell_type": "markdown",
   "metadata": {
    "heading_collapsed": true,
    "hidden": true,
    "papermill": {
     "duration": 0.054385,
     "end_time": "2020-12-20T11:41:58.942363",
     "exception": false,
     "start_time": "2020-12-20T11:41:58.887978",
     "status": "completed"
    },
    "tags": []
   },
   "source": [
    "### XGBoost Hyperparameter tuning : **Bayesian Optimization**\n",
    "    BayesianOptimization library used for tuning\n",
    "    Objective function is set based on the competition evaluation scheme.\n",
    "    The domain space of each of the parameters is set large initially and then fine tuned based on model performance."
   ]
  },
  {
   "cell_type": "code",
   "execution_count": 42,
   "metadata": {
    "_cell_guid": "79c7e3d0-c299-4dcb-8224-4455121ee9b0",
    "_uuid": "d629ff2d2480ee46fbb7e2d37f6b5fab8052498a",
    "execution": {
     "iopub.execute_input": "2020-12-20T11:41:59.058109Z",
     "iopub.status.busy": "2020-12-20T11:41:59.057542Z",
     "iopub.status.idle": "2020-12-20T12:46:24.102756Z",
     "shell.execute_reply": "2020-12-20T12:46:24.103506Z"
    },
    "hidden": true,
    "papermill": {
     "duration": 3865.10785,
     "end_time": "2020-12-20T12:46:24.103651",
     "exception": false,
     "start_time": "2020-12-20T11:41:58.995801",
     "status": "completed"
    },
    "tags": []
   },
   "outputs": [
    {
     "name": "stdout",
     "output_type": "stream",
     "text": [
      "|   iter    |  target   | baggin... | colsam... |    eta    | featur... |   gamma   | max_depth | min_ch... | min_ch... | num_le... | reg_alpha | reg_la... | scale_... | subsample |\n",
      "-------------------------------------------------------------------------------------------------------------------------------------------------------------------------------------\n",
      "| \u001b[0m 1       \u001b[0m | \u001b[0m 0.8399  \u001b[0m | \u001b[0m 0.7641  \u001b[0m | \u001b[0m 0.913   \u001b[0m | \u001b[0m 0.06681 \u001b[0m | \u001b[0m 0.4921  \u001b[0m | \u001b[0m 0.005729\u001b[0m | \u001b[0m 3.959   \u001b[0m | \u001b[0m 137.5   \u001b[0m | \u001b[0m 9.982   \u001b[0m | \u001b[0m 193.9   \u001b[0m | \u001b[0m 0.2745  \u001b[0m | \u001b[0m 0.1458  \u001b[0m | \u001b[0m 8.493   \u001b[0m | \u001b[0m 0.5324  \u001b[0m |\n",
      "| \u001b[95m 2       \u001b[0m | \u001b[95m 0.886   \u001b[0m | \u001b[95m 0.3377  \u001b[0m | \u001b[95m 0.8017  \u001b[0m | \u001b[95m 0.09182 \u001b[0m | \u001b[95m 0.5191  \u001b[0m | \u001b[95m 0.003867\u001b[0m | \u001b[95m 10.42   \u001b[0m | \u001b[95m 197.3   \u001b[0m | \u001b[95m 2.588   \u001b[0m | \u001b[95m 94.97   \u001b[0m | \u001b[95m 0.2606  \u001b[0m | \u001b[95m 0.08    \u001b[0m | \u001b[95m 16.38   \u001b[0m | \u001b[95m 0.1221  \u001b[0m |\n",
      "| \u001b[95m 3       \u001b[0m | \u001b[95m 0.8972  \u001b[0m | \u001b[95m 0.7828  \u001b[0m | \u001b[95m 0.6182  \u001b[0m | \u001b[95m 0.0168  \u001b[0m | \u001b[95m 0.7034  \u001b[0m | \u001b[95m 0.009269\u001b[0m | \u001b[95m 11.58   \u001b[0m | \u001b[95m 140.2   \u001b[0m | \u001b[95m 6.334   \u001b[0m | \u001b[95m 22.76   \u001b[0m | \u001b[95m 0.2629  \u001b[0m | \u001b[95m 0.04415 \u001b[0m | \u001b[95m 7.486   \u001b[0m | \u001b[95m 0.8204  \u001b[0m |\n",
      "| \u001b[0m 4       \u001b[0m | \u001b[0m 0.883   \u001b[0m | \u001b[0m 0.4553  \u001b[0m | \u001b[0m 0.1994  \u001b[0m | \u001b[0m 0.09568 \u001b[0m | \u001b[0m 0.335   \u001b[0m | \u001b[0m 0.001232\u001b[0m | \u001b[0m 10.63   \u001b[0m | \u001b[0m 154.7   \u001b[0m | \u001b[0m 6.706   \u001b[0m | \u001b[0m 248.6   \u001b[0m | \u001b[0m 0.09821 \u001b[0m | \u001b[0m 0.1828  \u001b[0m | \u001b[0m 5.556   \u001b[0m | \u001b[0m 0.1903  \u001b[0m |\n",
      "| \u001b[0m 5       \u001b[0m | \u001b[0m 0.8883  \u001b[0m | \u001b[0m 0.5822  \u001b[0m | \u001b[0m 0.7078  \u001b[0m | \u001b[0m 0.07298 \u001b[0m | \u001b[0m 0.5531  \u001b[0m | \u001b[0m 0.00976 \u001b[0m | \u001b[0m 10.93   \u001b[0m | \u001b[0m 199.6   \u001b[0m | \u001b[0m 4.478   \u001b[0m | \u001b[0m 158.0   \u001b[0m | \u001b[0m 0.02881 \u001b[0m | \u001b[0m 0.1381  \u001b[0m | \u001b[0m 7.42    \u001b[0m | \u001b[0m 0.2216  \u001b[0m |\n",
      "| \u001b[0m 6       \u001b[0m | \u001b[0m 0.8878  \u001b[0m | \u001b[0m 0.6228  \u001b[0m | \u001b[0m 0.9524  \u001b[0m | \u001b[0m 0.01128 \u001b[0m | \u001b[0m 0.3107  \u001b[0m | \u001b[0m 0.0     \u001b[0m | \u001b[0m 12.62   \u001b[0m | \u001b[0m 199.7   \u001b[0m | \u001b[0m 2.257   \u001b[0m | \u001b[0m 156.0   \u001b[0m | \u001b[0m 0.1346  \u001b[0m | \u001b[0m 0.1166  \u001b[0m | \u001b[0m 7.245   \u001b[0m | \u001b[0m 0.8901  \u001b[0m |\n",
      "| \u001b[0m 7       \u001b[0m | \u001b[0m 0.8611  \u001b[0m | \u001b[0m 0.5565  \u001b[0m | \u001b[0m 0.3115  \u001b[0m | \u001b[0m 0.0471  \u001b[0m | \u001b[0m 0.3843  \u001b[0m | \u001b[0m 0.0     \u001b[0m | \u001b[0m 5.813   \u001b[0m | \u001b[0m 185.2   \u001b[0m | \u001b[0m 5.356   \u001b[0m | \u001b[0m 22.51   \u001b[0m | \u001b[0m 0.09242 \u001b[0m | \u001b[0m 0.0458  \u001b[0m | \u001b[0m 9.987   \u001b[0m | \u001b[0m 0.6111  \u001b[0m |\n",
      "| \u001b[0m 8       \u001b[0m | \u001b[0m 0.8966  \u001b[0m | \u001b[0m 0.425   \u001b[0m | \u001b[0m 0.6129  \u001b[0m | \u001b[0m 0.06397 \u001b[0m | \u001b[0m 0.4386  \u001b[0m | \u001b[0m 0.0     \u001b[0m | \u001b[0m 12.76   \u001b[0m | \u001b[0m 111.9   \u001b[0m | \u001b[0m 6.268   \u001b[0m | \u001b[0m 27.32   \u001b[0m | \u001b[0m 0.1075  \u001b[0m | \u001b[0m 0.06901 \u001b[0m | \u001b[0m 11.1    \u001b[0m | \u001b[0m 0.2785  \u001b[0m |\n",
      "| \u001b[0m 9       \u001b[0m | \u001b[0m 0.8931  \u001b[0m | \u001b[0m 0.5941  \u001b[0m | \u001b[0m 0.358   \u001b[0m | \u001b[0m 0.09499 \u001b[0m | \u001b[0m 0.3397  \u001b[0m | \u001b[0m 0.0     \u001b[0m | \u001b[0m 12.39   \u001b[0m | \u001b[0m 124.9   \u001b[0m | \u001b[0m 3.364   \u001b[0m | \u001b[0m 64.74   \u001b[0m | \u001b[0m 0.1849  \u001b[0m | \u001b[0m 0.09975 \u001b[0m | \u001b[0m 2.141   \u001b[0m | \u001b[0m 0.7063  \u001b[0m |\n",
      "| \u001b[0m 10      \u001b[0m | \u001b[0m 0.8756  \u001b[0m | \u001b[0m 0.5143  \u001b[0m | \u001b[0m 0.392   \u001b[0m | \u001b[0m 0.06394 \u001b[0m | \u001b[0m 0.6054  \u001b[0m | \u001b[0m 0.0     \u001b[0m | \u001b[0m 6.836   \u001b[0m | \u001b[0m 249.7   \u001b[0m | \u001b[0m 6.615   \u001b[0m | \u001b[0m 173.6   \u001b[0m | \u001b[0m 0.1539  \u001b[0m | \u001b[0m 0.1458  \u001b[0m | \u001b[0m 16.83   \u001b[0m | \u001b[0m 0.5075  \u001b[0m |\n",
      "| \u001b[0m 11      \u001b[0m | \u001b[0m 0.8943  \u001b[0m | \u001b[0m 0.7353  \u001b[0m | \u001b[0m 0.8576  \u001b[0m | \u001b[0m 0.06816 \u001b[0m | \u001b[0m 0.5922  \u001b[0m | \u001b[0m 0.0     \u001b[0m | \u001b[0m 9.768   \u001b[0m | \u001b[0m 101.1   \u001b[0m | \u001b[0m 6.098   \u001b[0m | \u001b[0m 97.23   \u001b[0m | \u001b[0m 0.01955 \u001b[0m | \u001b[0m 0.2085  \u001b[0m | \u001b[0m 19.63   \u001b[0m | \u001b[0m 0.816   \u001b[0m |\n",
      "| \u001b[0m 12      \u001b[0m | \u001b[0m 0.8467  \u001b[0m | \u001b[0m 0.7627  \u001b[0m | \u001b[0m 0.6587  \u001b[0m | \u001b[0m 0.03338 \u001b[0m | \u001b[0m 0.4861  \u001b[0m | \u001b[0m 0.0     \u001b[0m | \u001b[0m 4.289   \u001b[0m | \u001b[0m 143.0   \u001b[0m | \u001b[0m 9.868   \u001b[0m | \u001b[0m 99.77   \u001b[0m | \u001b[0m 0.1751  \u001b[0m | \u001b[0m 0.05543 \u001b[0m | \u001b[0m 18.04   \u001b[0m | \u001b[0m 0.5008  \u001b[0m |\n",
      "| \u001b[95m 13      \u001b[0m | \u001b[95m 0.9036  \u001b[0m | \u001b[95m 0.5396  \u001b[0m | \u001b[95m 0.2786  \u001b[0m | \u001b[95m 0.02259 \u001b[0m | \u001b[95m 0.6205  \u001b[0m | \u001b[95m 0.0     \u001b[0m | \u001b[95m 12.78   \u001b[0m | \u001b[95m 100.2   \u001b[0m | \u001b[95m 9.803   \u001b[0m | \u001b[95m 64.55   \u001b[0m | \u001b[95m 0.2429  \u001b[0m | \u001b[95m 0.2476  \u001b[0m | \u001b[95m 16.37   \u001b[0m | \u001b[95m 0.6931  \u001b[0m |\n",
      "| \u001b[95m 14      \u001b[0m | \u001b[95m 0.9038  \u001b[0m | \u001b[95m 0.3484  \u001b[0m | \u001b[95m 0.4342  \u001b[0m | \u001b[95m 0.0611  \u001b[0m | \u001b[95m 0.6918  \u001b[0m | \u001b[95m 0.0     \u001b[0m | \u001b[95m 12.76   \u001b[0m | \u001b[95m 245.1   \u001b[0m | \u001b[95m 4.854   \u001b[0m | \u001b[95m 98.95   \u001b[0m | \u001b[95m 0.05923 \u001b[0m | \u001b[95m 0.09885 \u001b[0m | \u001b[95m 8.864   \u001b[0m | \u001b[95m 0.5683  \u001b[0m |\n",
      "| \u001b[95m 15      \u001b[0m | \u001b[95m 0.9065  \u001b[0m | \u001b[95m 0.4223  \u001b[0m | \u001b[95m 0.9677  \u001b[0m | \u001b[95m 0.09996 \u001b[0m | \u001b[95m 0.7672  \u001b[0m | \u001b[95m 0.0     \u001b[0m | \u001b[95m 12.82   \u001b[0m | \u001b[95m 249.6   \u001b[0m | \u001b[95m 4.977   \u001b[0m | \u001b[95m 66.0    \u001b[0m | \u001b[95m 0.07744 \u001b[0m | \u001b[95m 0.2707  \u001b[0m | \u001b[95m 13.95   \u001b[0m | \u001b[95m 0.5594  \u001b[0m |\n",
      "=====================================================================================================================================================================================\n",
      "CPU times: user 1h 55min 18s, sys: 1min 46s, total: 1h 57min 5s\n",
      "Wall time: 1h 4min 24s\n"
     ]
    }
   ],
   "source": [
    "%%time\n",
    "def bayes_parameter_opt_xgb(X, y, init_round=15, opt_round=25, n_folds=3, random_seed=6, output_process=False):\n",
    "    # prepare data\n",
    "    train_data = xgb.DMatrix(data=X, label=y)\n",
    "    # parameters\n",
    "    def xgb_objective(eta, min_child_weight, max_depth, gamma, subsample, colsample_bytree, scale_pos_weight, num_leaves, reg_alpha, reg_lambda, min_child_samples, \n",
    "                          feature_fraction, bagging_fraction):\n",
    "        params = {}\n",
    "        \n",
    "        params['objective'] = 'binary:logistic'\n",
    "        \n",
    "        params['eval_metric'] = 'auc'\n",
    "        params['eta'] = eta\n",
    "        params[\"min_child_weight\"] = int(round(min_child_weight))\n",
    "        params['max_depth'] = int(max_depth)\n",
    "        params['gamma'] = gamma\n",
    "        params['subsample'] = subsample\n",
    "        params['colsample_bytree'] = colsample_bytree       \n",
    "        params['scale_pos_weight'] = scale_pos_weight\n",
    "        params['max_leaves'] = int(num_leaves)\n",
    "        params['alpha'] = reg_alpha # alpha is alias for reg_alpha\n",
    "        params['lambda'] = reg_lambda # lamda is alias for reg_lamda ( l2 regularization)\n",
    "        cv_result = xgb.cv(params, train_data, nfold=n_folds, seed=random_seed, stratified=False, verbose_eval = 0, metrics=['auc'], early_stopping_rounds = 200)\n",
    "        return max(cv_result['test-auc-mean'])\n",
    "    xgbBO = BayesianOptimization(xgb_objective, {\n",
    "                    'eta': (0.01, 0.1),\n",
    "                    'min_child_weight': (1, 10),\n",
    "                    'max_depth': (3, 13),\n",
    "                    'gamma': (0.01, 0.),\n",
    "                    'subsample': (0.1, 0.9),\n",
    "                    'colsample_bytree': (0.1, 1.0),\n",
    "                    'scale_pos_weight' : (1, 20),\n",
    "                    'num_leaves' : (20, 250),\n",
    "                    'reg_alpha' : (0.01, 0.3),\n",
    "                    'reg_lambda' : (0.01, 0.3),\n",
    "                    'min_child_samples' : (100, 250),\n",
    "                    'feature_fraction' : (0.3, 0.8),\n",
    "                    'bagging_fraction' : (0.3, 0.8),\n",
    "                })\n",
    "    xgbBO.maximize(init_points=init_round, n_iter=opt_round)\n",
    "    model_auc=[]\n",
    "    for model in range(len(xgbBO.res)):\n",
    "        model_auc.append(xgbBO.res[model]['target'])\n",
    "    return xgbBO.res[pd.Series(model_auc).idxmax()]['target'],xgbBO.res[pd.Series(model_auc).idxmax()]['params']\n",
    "opt_params = bayes_parameter_opt_xgb(xtrain, ytrain, init_round = 5, opt_round = 10, n_folds = 5, random_seed=6)"
   ]
  },
  {
   "cell_type": "markdown",
   "metadata": {
    "heading_collapsed": true,
    "hidden": true,
    "papermill": {
     "duration": 0.061943,
     "end_time": "2020-12-20T12:46:24.225505",
     "exception": false,
     "start_time": "2020-12-20T12:46:24.163562",
     "status": "completed"
    },
    "tags": []
   },
   "source": [
    "### Catboost Hyperparameter tuning\n",
    "    Running optuna (Bayesian Optimization based library) to obtain optimal set of hyperparameters and visualize the study/hyperparameter tuning"
   ]
  },
  {
   "cell_type": "code",
   "execution_count": 43,
   "metadata": {
    "execution": {
     "iopub.execute_input": "2020-12-20T12:46:24.363524Z",
     "iopub.status.busy": "2020-12-20T12:46:24.362929Z",
     "iopub.status.idle": "2020-12-20T13:39:27.938663Z",
     "shell.execute_reply": "2020-12-20T13:39:27.939322Z"
    },
    "hidden": true,
    "papermill": {
     "duration": 3183.64744,
     "end_time": "2020-12-20T13:39:27.939470",
     "exception": false,
     "start_time": "2020-12-20T12:46:24.292030",
     "status": "completed"
    },
    "tags": []
   },
   "outputs": [
    {
     "name": "stderr",
     "output_type": "stream",
     "text": [
      "\u001b[32m[I 2020-12-20 12:46:24,361]\u001b[0m A new study created in memory with name: no-name-943d029a-a92e-45f2-8307-cfd3a5cfada8\u001b[0m\n",
      "/opt/conda/lib/python3.7/site-packages/optuna/distributions.py:554: UserWarning: The distribution is specified by [0.01, 1] and q=0.02, but the range is not divisible by `q`. It will be replaced by [0.01, 0.99].\n",
      "  low=low, old_high=old_high, high=high, step=q\n"
     ]
    },
    {
     "name": "stdout",
     "output_type": "stream",
     "text": [
      "{'learning_rate': 0.15000000000000002, 'depth': 6, 'bagging_temperature': 8, 'iterations': 852, 'random_strength': 8.625085839931027e-08, 'border_count': 56, 'l2_leaf_reg': 25, 'scale_pos_weight': 0.99}\n"
     ]
    },
    {
     "name": "stderr",
     "output_type": "stream",
     "text": [
      "\u001b[32m[I 2020-12-20 12:52:50,179]\u001b[0m Trial 0 finished with value: 0.8915787585644163 and parameters: {'learning_rate': 0.15000000000000002, 'depth': 6, 'bagging_temperature': 8, 'iterations': 852, 'random_strength': 8.625085839931027e-08, 'border_count': 56, 'l2_leaf_reg': 25, 'scale_pos_weight': 0.99}. Best is trial 0 with value: 0.8915787585644163.\u001b[0m\n",
      "/opt/conda/lib/python3.7/site-packages/optuna/distributions.py:554: UserWarning: The distribution is specified by [0.01, 1] and q=0.02, but the range is not divisible by `q`. It will be replaced by [0.01, 0.99].\n",
      "  low=low, old_high=old_high, high=high, step=q\n"
     ]
    },
    {
     "name": "stdout",
     "output_type": "stream",
     "text": [
      "{'learning_rate': 0.325, 'depth': 4, 'bagging_temperature': 9, 'iterations': 730, 'random_strength': 8.326562041972122e-08, 'border_count': 75, 'l2_leaf_reg': 5, 'scale_pos_weight': 0.77}\n"
     ]
    },
    {
     "name": "stderr",
     "output_type": "stream",
     "text": [
      "\u001b[32m[I 2020-12-20 12:57:43,778]\u001b[0m Trial 1 finished with value: 0.8795991568092087 and parameters: {'learning_rate': 0.325, 'depth': 4, 'bagging_temperature': 9, 'iterations': 730, 'random_strength': 8.326562041972122e-08, 'border_count': 75, 'l2_leaf_reg': 5, 'scale_pos_weight': 0.77}. Best is trial 0 with value: 0.8915787585644163.\u001b[0m\n",
      "/opt/conda/lib/python3.7/site-packages/optuna/distributions.py:554: UserWarning: The distribution is specified by [0.01, 1] and q=0.02, but the range is not divisible by `q`. It will be replaced by [0.01, 0.99].\n",
      "  low=low, old_high=old_high, high=high, step=q\n"
     ]
    },
    {
     "name": "stdout",
     "output_type": "stream",
     "text": [
      "{'learning_rate': 0.45, 'depth': 7, 'bagging_temperature': 9, 'iterations': 947, 'random_strength': 2.9467105678831915e-06, 'border_count': 29, 'l2_leaf_reg': 3, 'scale_pos_weight': 0.17}\n"
     ]
    },
    {
     "name": "stderr",
     "output_type": "stream",
     "text": [
      "\u001b[32m[I 2020-12-20 13:03:25,350]\u001b[0m Trial 2 finished with value: 0.8892518015589139 and parameters: {'learning_rate': 0.45, 'depth': 7, 'bagging_temperature': 9, 'iterations': 947, 'random_strength': 2.9467105678831915e-06, 'border_count': 29, 'l2_leaf_reg': 3, 'scale_pos_weight': 0.17}. Best is trial 0 with value: 0.8915787585644163.\u001b[0m\n",
      "/opt/conda/lib/python3.7/site-packages/optuna/distributions.py:554: UserWarning: The distribution is specified by [0.01, 1] and q=0.02, but the range is not divisible by `q`. It will be replaced by [0.01, 0.99].\n",
      "  low=low, old_high=old_high, high=high, step=q\n"
     ]
    },
    {
     "name": "stdout",
     "output_type": "stream",
     "text": [
      "{'learning_rate': 0.25, 'depth': 7, 'bagging_temperature': 10, 'iterations': 316, 'random_strength': 0.002325256458645393, 'border_count': 211, 'l2_leaf_reg': 29, 'scale_pos_weight': 0.39}\n"
     ]
    },
    {
     "name": "stderr",
     "output_type": "stream",
     "text": [
      "\u001b[32m[I 2020-12-20 13:08:04,256]\u001b[0m Trial 3 finished with value: 0.8704659217492147 and parameters: {'learning_rate': 0.25, 'depth': 7, 'bagging_temperature': 10, 'iterations': 316, 'random_strength': 0.002325256458645393, 'border_count': 211, 'l2_leaf_reg': 29, 'scale_pos_weight': 0.39}. Best is trial 0 with value: 0.8915787585644163.\u001b[0m\n",
      "/opt/conda/lib/python3.7/site-packages/optuna/distributions.py:554: UserWarning: The distribution is specified by [0.01, 1] and q=0.02, but the range is not divisible by `q`. It will be replaced by [0.01, 0.99].\n",
      "  low=low, old_high=old_high, high=high, step=q\n"
     ]
    },
    {
     "name": "stdout",
     "output_type": "stream",
     "text": [
      "{'learning_rate': 0.35000000000000003, 'depth': 7, 'bagging_temperature': 9, 'iterations': 951, 'random_strength': 7.511074028265633e-06, 'border_count': 68, 'l2_leaf_reg': 28, 'scale_pos_weight': 0.09}\n"
     ]
    },
    {
     "name": "stderr",
     "output_type": "stream",
     "text": [
      "\u001b[32m[I 2020-12-20 13:13:53,804]\u001b[0m Trial 4 finished with value: 0.8904073484250962 and parameters: {'learning_rate': 0.35000000000000003, 'depth': 7, 'bagging_temperature': 9, 'iterations': 951, 'random_strength': 7.511074028265633e-06, 'border_count': 68, 'l2_leaf_reg': 28, 'scale_pos_weight': 0.09}. Best is trial 0 with value: 0.8915787585644163.\u001b[0m\n",
      "/opt/conda/lib/python3.7/site-packages/optuna/distributions.py:554: UserWarning: The distribution is specified by [0.01, 1] and q=0.02, but the range is not divisible by `q`. It will be replaced by [0.01, 0.99].\n",
      "  low=low, old_high=old_high, high=high, step=q\n"
     ]
    },
    {
     "name": "stdout",
     "output_type": "stream",
     "text": [
      "{'learning_rate': 0.4, 'depth': 3, 'bagging_temperature': 7, 'iterations': 600, 'random_strength': 2.4378103210191986e-05, 'border_count': 211, 'l2_leaf_reg': 29, 'scale_pos_weight': 0.59}\n"
     ]
    },
    {
     "name": "stderr",
     "output_type": "stream",
     "text": [
      "\u001b[32m[I 2020-12-20 13:18:33,741]\u001b[0m Trial 5 finished with value: 0.8714798206778752 and parameters: {'learning_rate': 0.4, 'depth': 3, 'bagging_temperature': 7, 'iterations': 600, 'random_strength': 2.4378103210191986e-05, 'border_count': 211, 'l2_leaf_reg': 29, 'scale_pos_weight': 0.59}. Best is trial 0 with value: 0.8915787585644163.\u001b[0m\n",
      "/opt/conda/lib/python3.7/site-packages/optuna/distributions.py:554: UserWarning: The distribution is specified by [0.01, 1] and q=0.02, but the range is not divisible by `q`. It will be replaced by [0.01, 0.99].\n",
      "  low=low, old_high=old_high, high=high, step=q\n"
     ]
    },
    {
     "name": "stdout",
     "output_type": "stream",
     "text": [
      "{'learning_rate': 0.125, 'depth': 8, 'bagging_temperature': 8, 'iterations': 670, 'random_strength': 3.0360979883828208e-09, 'border_count': 204, 'l2_leaf_reg': 7, 'scale_pos_weight': 0.09}\n"
     ]
    },
    {
     "name": "stderr",
     "output_type": "stream",
     "text": [
      "\u001b[32m[I 2020-12-20 13:24:22,430]\u001b[0m Trial 6 finished with value: 0.8768555487342173 and parameters: {'learning_rate': 0.125, 'depth': 8, 'bagging_temperature': 8, 'iterations': 670, 'random_strength': 3.0360979883828208e-09, 'border_count': 204, 'l2_leaf_reg': 7, 'scale_pos_weight': 0.09}. Best is trial 0 with value: 0.8915787585644163.\u001b[0m\n",
      "/opt/conda/lib/python3.7/site-packages/optuna/distributions.py:554: UserWarning: The distribution is specified by [0.01, 1] and q=0.02, but the range is not divisible by `q`. It will be replaced by [0.01, 0.99].\n",
      "  low=low, old_high=old_high, high=high, step=q\n"
     ]
    },
    {
     "name": "stdout",
     "output_type": "stream",
     "text": [
      "{'learning_rate': 0.47500000000000003, 'depth': 4, 'bagging_temperature': 10, 'iterations': 897, 'random_strength': 0.259636675790486, 'border_count': 227, 'l2_leaf_reg': 22, 'scale_pos_weight': 0.45}\n"
     ]
    },
    {
     "name": "stderr",
     "output_type": "stream",
     "text": [
      "\u001b[32m[I 2020-12-20 13:29:36,271]\u001b[0m Trial 7 finished with value: 0.8795515290914647 and parameters: {'learning_rate': 0.47500000000000003, 'depth': 4, 'bagging_temperature': 10, 'iterations': 897, 'random_strength': 0.259636675790486, 'border_count': 227, 'l2_leaf_reg': 22, 'scale_pos_weight': 0.45}. Best is trial 0 with value: 0.8915787585644163.\u001b[0m\n",
      "/opt/conda/lib/python3.7/site-packages/optuna/distributions.py:554: UserWarning: The distribution is specified by [0.01, 1] and q=0.02, but the range is not divisible by `q`. It will be replaced by [0.01, 0.99].\n",
      "  low=low, old_high=old_high, high=high, step=q\n"
     ]
    },
    {
     "name": "stdout",
     "output_type": "stream",
     "text": [
      "{'learning_rate': 0.22500000000000003, 'depth': 4, 'bagging_temperature': 7, 'iterations': 510, 'random_strength': 0.0013213755611757047, 'border_count': 154, 'l2_leaf_reg': 17, 'scale_pos_weight': 0.33}\n"
     ]
    },
    {
     "name": "stderr",
     "output_type": "stream",
     "text": [
      "\u001b[32m[I 2020-12-20 13:34:16,387]\u001b[0m Trial 8 finished with value: 0.872875690581569 and parameters: {'learning_rate': 0.22500000000000003, 'depth': 4, 'bagging_temperature': 7, 'iterations': 510, 'random_strength': 0.0013213755611757047, 'border_count': 154, 'l2_leaf_reg': 17, 'scale_pos_weight': 0.33}. Best is trial 0 with value: 0.8915787585644163.\u001b[0m\n",
      "/opt/conda/lib/python3.7/site-packages/optuna/distributions.py:554: UserWarning: The distribution is specified by [0.01, 1] and q=0.02, but the range is not divisible by `q`. It will be replaced by [0.01, 0.99].\n",
      "  low=low, old_high=old_high, high=high, step=q\n"
     ]
    },
    {
     "name": "stdout",
     "output_type": "stream",
     "text": [
      "{'learning_rate': 0.4, 'depth': 6, 'bagging_temperature': 6, 'iterations': 645, 'random_strength': 0.6853555879648899, 'border_count': 173, 'l2_leaf_reg': 7, 'scale_pos_weight': 0.61}\n"
     ]
    },
    {
     "name": "stderr",
     "output_type": "stream",
     "text": [
      "\u001b[32m[I 2020-12-20 13:39:25,347]\u001b[0m Trial 9 finished with value: 0.8875868500139648 and parameters: {'learning_rate': 0.4, 'depth': 6, 'bagging_temperature': 6, 'iterations': 645, 'random_strength': 0.6853555879648899, 'border_count': 173, 'l2_leaf_reg': 7, 'scale_pos_weight': 0.61}. Best is trial 0 with value: 0.8915787585644163.\u001b[0m\n"
     ]
    },
    {
     "name": "stdout",
     "output_type": "stream",
     "text": [
      "Best trial: score 0.8915787585644163,\n",
      "params {'learning_rate': 0.15000000000000002, 'depth': 6, 'bagging_temperature': 8, 'iterations': 852, 'random_strength': 8.625085839931027e-08, 'border_count': 56, 'l2_leaf_reg': 25, 'scale_pos_weight': 0.99}\n"
     ]
    },
    {
     "data": {
      "text/html": [
       "<div>\n",
       "<style scoped>\n",
       "    .dataframe tbody tr th:only-of-type {\n",
       "        vertical-align: middle;\n",
       "    }\n",
       "\n",
       "    .dataframe tbody tr th {\n",
       "        vertical-align: top;\n",
       "    }\n",
       "\n",
       "    .dataframe thead th {\n",
       "        text-align: right;\n",
       "    }\n",
       "</style>\n",
       "<table border=\"1\" class=\"dataframe\">\n",
       "  <thead>\n",
       "    <tr style=\"text-align: right;\">\n",
       "      <th></th>\n",
       "      <th>number</th>\n",
       "      <th>value</th>\n",
       "      <th>datetime_start</th>\n",
       "      <th>datetime_complete</th>\n",
       "      <th>duration</th>\n",
       "      <th>params_bagging_temperature</th>\n",
       "      <th>params_border_count</th>\n",
       "      <th>params_depth</th>\n",
       "      <th>params_iterations</th>\n",
       "      <th>params_l2_leaf_reg</th>\n",
       "      <th>params_learning_rate</th>\n",
       "      <th>params_random_strength</th>\n",
       "      <th>params_scale_pos_weight</th>\n",
       "      <th>state</th>\n",
       "    </tr>\n",
       "  </thead>\n",
       "  <tbody>\n",
       "    <tr>\n",
       "      <th>0</th>\n",
       "      <td>0</td>\n",
       "      <td>0.891579</td>\n",
       "      <td>2020-12-20 12:46:24.364706</td>\n",
       "      <td>2020-12-20 12:52:50.178727</td>\n",
       "      <td>0 days 00:06:25.814021</td>\n",
       "      <td>8</td>\n",
       "      <td>56</td>\n",
       "      <td>6</td>\n",
       "      <td>852</td>\n",
       "      <td>25</td>\n",
       "      <td>0.150</td>\n",
       "      <td>8.625086e-08</td>\n",
       "      <td>0.99</td>\n",
       "      <td>COMPLETE</td>\n",
       "    </tr>\n",
       "    <tr>\n",
       "      <th>1</th>\n",
       "      <td>1</td>\n",
       "      <td>0.879599</td>\n",
       "      <td>2020-12-20 12:52:50.188165</td>\n",
       "      <td>2020-12-20 12:57:43.777561</td>\n",
       "      <td>0 days 00:04:53.589396</td>\n",
       "      <td>9</td>\n",
       "      <td>75</td>\n",
       "      <td>4</td>\n",
       "      <td>730</td>\n",
       "      <td>5</td>\n",
       "      <td>0.325</td>\n",
       "      <td>8.326562e-08</td>\n",
       "      <td>0.77</td>\n",
       "      <td>COMPLETE</td>\n",
       "    </tr>\n",
       "    <tr>\n",
       "      <th>2</th>\n",
       "      <td>2</td>\n",
       "      <td>0.889252</td>\n",
       "      <td>2020-12-20 12:57:43.779013</td>\n",
       "      <td>2020-12-20 13:03:25.350379</td>\n",
       "      <td>0 days 00:05:41.571366</td>\n",
       "      <td>9</td>\n",
       "      <td>29</td>\n",
       "      <td>7</td>\n",
       "      <td>947</td>\n",
       "      <td>3</td>\n",
       "      <td>0.450</td>\n",
       "      <td>2.946711e-06</td>\n",
       "      <td>0.17</td>\n",
       "      <td>COMPLETE</td>\n",
       "    </tr>\n",
       "    <tr>\n",
       "      <th>3</th>\n",
       "      <td>3</td>\n",
       "      <td>0.870466</td>\n",
       "      <td>2020-12-20 13:03:25.351921</td>\n",
       "      <td>2020-12-20 13:08:04.255906</td>\n",
       "      <td>0 days 00:04:38.903985</td>\n",
       "      <td>10</td>\n",
       "      <td>211</td>\n",
       "      <td>7</td>\n",
       "      <td>316</td>\n",
       "      <td>29</td>\n",
       "      <td>0.250</td>\n",
       "      <td>2.325256e-03</td>\n",
       "      <td>0.39</td>\n",
       "      <td>COMPLETE</td>\n",
       "    </tr>\n",
       "    <tr>\n",
       "      <th>4</th>\n",
       "      <td>4</td>\n",
       "      <td>0.890407</td>\n",
       "      <td>2020-12-20 13:08:04.257483</td>\n",
       "      <td>2020-12-20 13:13:53.803722</td>\n",
       "      <td>0 days 00:05:49.546239</td>\n",
       "      <td>9</td>\n",
       "      <td>68</td>\n",
       "      <td>7</td>\n",
       "      <td>951</td>\n",
       "      <td>28</td>\n",
       "      <td>0.350</td>\n",
       "      <td>7.511074e-06</td>\n",
       "      <td>0.09</td>\n",
       "      <td>COMPLETE</td>\n",
       "    </tr>\n",
       "  </tbody>\n",
       "</table>\n",
       "</div>"
      ],
      "text/plain": [
       "   number     value             datetime_start          datetime_complete  \\\n",
       "0       0  0.891579 2020-12-20 12:46:24.364706 2020-12-20 12:52:50.178727   \n",
       "1       1  0.879599 2020-12-20 12:52:50.188165 2020-12-20 12:57:43.777561   \n",
       "2       2  0.889252 2020-12-20 12:57:43.779013 2020-12-20 13:03:25.350379   \n",
       "3       3  0.870466 2020-12-20 13:03:25.351921 2020-12-20 13:08:04.255906   \n",
       "4       4  0.890407 2020-12-20 13:08:04.257483 2020-12-20 13:13:53.803722   \n",
       "\n",
       "                duration  params_bagging_temperature  params_border_count  \\\n",
       "0 0 days 00:06:25.814021                           8                   56   \n",
       "1 0 days 00:04:53.589396                           9                   75   \n",
       "2 0 days 00:05:41.571366                           9                   29   \n",
       "3 0 days 00:04:38.903985                          10                  211   \n",
       "4 0 days 00:05:49.546239                           9                   68   \n",
       "\n",
       "   params_depth  params_iterations  params_l2_leaf_reg  params_learning_rate  \\\n",
       "0             6                852                  25                 0.150   \n",
       "1             4                730                   5                 0.325   \n",
       "2             7                947                   3                 0.450   \n",
       "3             7                316                  29                 0.250   \n",
       "4             7                951                  28                 0.350   \n",
       "\n",
       "   params_random_strength  params_scale_pos_weight     state  \n",
       "0            8.625086e-08                     0.99  COMPLETE  \n",
       "1            8.326562e-08                     0.77  COMPLETE  \n",
       "2            2.946711e-06                     0.17  COMPLETE  \n",
       "3            2.325256e-03                     0.39  COMPLETE  \n",
       "4            7.511074e-06                     0.09  COMPLETE  "
      ]
     },
     "metadata": {},
     "output_type": "display_data"
    },
    {
     "name": "stdout",
     "output_type": "stream",
     "text": [
      "CPU times: user 56min 55s, sys: 5min 26s, total: 1h 2min 21s\n",
      "Wall time: 53min 3s\n"
     ]
    }
   ],
   "source": [
    "%%time\n",
    "def objective(trial: Trial, x_train, y_train) -> float:\n",
    "    \n",
    "    param = {\n",
    "            'learning_rate': trial.suggest_discrete_uniform('learning_rate', 0.05, 0.5, 0.025),\n",
    "            'depth': trial.suggest_int('depth', 3, 8),\n",
    "            'bagging_temperature': trial.suggest_int('bagging_temperature', 5, 10),\n",
    "            'iterations': trial.suggest_int('iterations', 300, 1000),\n",
    "            'random_strength': trial.suggest_loguniform('random_strength', 1e-9, 10),\n",
    "            'border_count': trial.suggest_int('border_count', 1, 255),\n",
    "            'l2_leaf_reg': trial.suggest_int('l2_leaf_reg', 2, 30),\n",
    "            'scale_pos_weight': trial.suggest_discrete_uniform('scale_pos_weight', 0.01, 1, 0.02),\n",
    "            }\n",
    "    \n",
    "    catboost_model = CatBoostClassifier(task_type = 'GPU', **param, thread_count = 2, verbose = False)\n",
    "    catboost_model.fit(x_train, y_train, cat_features = ['P_emaildomain', 'R_emaildomain', 'DeviceInfo', 'DeviceType'])\n",
    "    print(param)\n",
    "    \n",
    "    cv = cross_val_score(catboost_model, x_train, y_train, scoring=\"roc_auc\", cv = 5).mean()\n",
    "\n",
    "    return cv\n",
    "\n",
    "def optuna_catboost_gpu(x_train, y_train):\n",
    "    study = optuna.create_study(direction='maximize', sampler=TPESampler())\n",
    "    study.optimize(lambda trial : objective(trial, x_train, y_train), n_trials= 10)\n",
    "    \n",
    "#     joblib.dump(study, 'studyf.pkl')\n",
    "#     pickle.dump(study, 'study_f.pkl')\n",
    "    print('Best trial: score {},\\nparams {}'.format(study.best_trial.value,study.best_trial.params))\n",
    "    \n",
    "    hist = study.trials_dataframe()\n",
    "    display(hist.head())\n",
    "    \n",
    "    optuna.visualization.plot_optimization_history(study)\n",
    "    optuna.visualization.plot_slice(study)\n",
    "    optuna.visualization.plot_parallel_coordinate(study)\n",
    "    optuna.visualization.plot_contour(study)\n",
    "optuna_catboost_gpu(xtrain, ytrain)"
   ]
  },
  {
   "cell_type": "markdown",
   "metadata": {
    "heading_collapsed": true,
    "papermill": {
     "duration": 0.067358,
     "end_time": "2020-12-20T13:39:28.074813",
     "exception": false,
     "start_time": "2020-12-20T13:39:28.007455",
     "status": "completed"
    },
    "tags": []
   },
   "source": [
    "# Validation and Model Training"
   ]
  },
  {
   "cell_type": "markdown",
   "metadata": {
    "heading_collapsed": true,
    "hidden": true,
    "papermill": {
     "duration": 0.068075,
     "end_time": "2020-12-20T13:39:28.351061",
     "exception": false,
     "start_time": "2020-12-20T13:39:28.282986",
     "status": "completed"
    },
    "tags": []
   },
   "source": [
    "### XGBoost Training\n",
    "    The following two cells contains variable initializations, plot and validation code required to train XGBoost model. \n",
    "    The parameters are set based on the results obtained from the BayesianOptimization library."
   ]
  },
  {
   "cell_type": "code",
   "execution_count": 45,
   "metadata": {
    "execution": {
     "iopub.execute_input": "2020-12-20T13:39:28.507582Z",
     "iopub.status.busy": "2020-12-20T13:39:28.506702Z",
     "iopub.status.idle": "2020-12-20T13:39:28.655874Z",
     "shell.execute_reply": "2020-12-20T13:39:28.655344Z"
    },
    "hidden": true,
    "papermill": {
     "duration": 0.235048,
     "end_time": "2020-12-20T13:39:28.655983",
     "exception": false,
     "start_time": "2020-12-20T13:39:28.420935",
     "status": "completed"
    },
    "tags": []
   },
   "outputs": [],
   "source": [
    "oof_xgb = np.zeros(len(xtrain))\n",
    "xgb_main_features = []\n",
    "mean_fpr = np.linspace(0,1,100)\n",
    "cms= []\n",
    "tprs = []\n",
    "aucs = []\n",
    "y_real = []\n",
    "y_proba = []\n",
    "recalls = []\n",
    "roc_aucs = []\n",
    "f1_scores = []\n",
    "accuracies = []\n",
    "precisions = []\n",
    "predictions = np.zeros(len(test))\n",
    "feature_importance_df = pd.DataFrame()\n",
    "target = 'isFraud'\n",
    "train = xtrain.copy()\n",
    "train['isFraud'] = ytrain"
   ]
  },
  {
   "cell_type": "code",
   "execution_count": 46,
   "metadata": {
    "execution": {
     "iopub.execute_input": "2020-12-20T13:39:28.833448Z",
     "iopub.status.busy": "2020-12-20T13:39:28.821188Z",
     "iopub.status.idle": "2020-12-20T13:48:52.602608Z",
     "shell.execute_reply": "2020-12-20T13:48:52.602089Z"
    },
    "hidden": true,
    "papermill": {
     "duration": 563.876419,
     "end_time": "2020-12-20T13:48:52.602719",
     "exception": false,
     "start_time": "2020-12-20T13:39:28.726300",
     "status": "completed"
    },
    "tags": []
   },
   "outputs": [
    {
     "name": "stdout",
     "output_type": "stream",
     "text": [
      "ROC accuracy: 0.9655560834586064\n",
      "ROC accuracy: 0.9588435814277521\n",
      "ROC accuracy: 0.9629441914777117\n",
      "ROC accuracy: 0.9636242660403543\n",
      "ROC accuracy: 0.9628368795500521\n",
      "\n",
      "CV roc score        : 0.9628, std: 0.0022. \n",
      "CV accuracy score   : 0.9868, std: 0.0003. \n",
      "CV recall score     : 0.7029, std: 0.0075. \n",
      "CV precision score  : 0.9000, std: 0.0051. \n",
      "CV f1 score         : 0.7893, std: 0.0060.\n"
     ]
    },
    {
     "data": {
      "image/png": "[encoded data removed]",
      "text/plain": [
       "<Figure size 432x288 with 1 Axes>"
      ]
     },
     "metadata": {
      "needs_background": "light"
     },
     "output_type": "display_data"
    },
    {
     "data": {
      "image/png": "[encoded data removed]",
      "text/plain": [
       "<Figure size 432x288 with 1 Axes>"
      ]
     },
     "metadata": {
      "needs_background": "light"
     },
     "output_type": "display_data"
    },
    {
     "data": {
      "image/png": "[encoded data removed]",
      "text/plain": [
       "<Figure size 432x288 with 2 Axes>"
      ]
     },
     "metadata": {
      "needs_background": "light"
     },
     "output_type": "display_data"
    }
   ],
   "source": [
    "sample_submission = pd.read_csv('../input/frauddetect/sample_submission.csv')\n",
    "xgb_submission=sample_submission.copy()\n",
    "xgb_submission['isFraud'] = 0\n",
    "n_fold = 5\n",
    "i = 1\n",
    "folds = KFold(n_splits=n_fold,shuffle=True)\n",
    "for fold_n, (train_index, valid_index) in enumerate(folds.split(xtrain)):\n",
    "    xgbclf = xgb.XGBClassifier(\n",
    "        n_estimators=1000,\n",
    "        max_depth=9,\n",
    "        learning_rate=0.048,\n",
    "        subsample=0.85,\n",
    "        colsample_bytree=0.85,\n",
    "        scale_pos_weight = 10,\n",
    "        missing=-999,\n",
    "        tree_method='gpu_hist',\n",
    "        reg_alpha=0.15,\n",
    "        reg_lambda =0.85\n",
    "    )\n",
    "    \n",
    "    X_train_, X_valid = xtrain.iloc[train_index], xtrain.iloc[valid_index]\n",
    "    y_train_, y_valid = ytrain.iloc[train_index], ytrain.iloc[valid_index]\n",
    "    xgbclf.fit(X_train_,y_train_)\n",
    "    \n",
    "    pred=xgbclf.predict_proba(test)[:,1]\n",
    "    val=xgbclf.predict_proba(X_valid)[:,1]\n",
    "    oof_xgb[valid_index] = xgbclf.predict_proba(X_valid)[:, 1]\n",
    "    \n",
    "    \n",
    "    # Scores \n",
    "    roc_aucs.append(roc_auc_score(train.iloc[valid_index][target].values, oof_xgb[valid_index]))\n",
    "    accuracies.append(accuracy_score(train.iloc[valid_index][target].values, oof_xgb[valid_index].round()))\n",
    "    recalls.append(recall_score(train.iloc[valid_index][target].values, oof_xgb[valid_index].round()))\n",
    "    precisions.append(precision_score(train.iloc[valid_index][target].values ,oof_xgb[valid_index].round()))\n",
    "    f1_scores.append(f1_score(train.iloc[valid_index][target].values, oof_xgb[valid_index].round()))\n",
    "    \n",
    "    print('ROC accuracy: {}'.format(roc_auc_score(y_valid, val)))\n",
    "    del val,y_valid\n",
    "    xgb_submission['isFraud'] = xgb_submission['isFraud']+pred/n_fold\n",
    "    del pred\n",
    "    \n",
    "    \n",
    "    # Roc curve by folds\n",
    "    f = plt.figure(1)\n",
    "    fpr, tpr, t = roc_curve(train.iloc[valid_index][target].values, oof_xgb[valid_index])\n",
    "    tprs.append(np.interp(mean_fpr, fpr, tpr))\n",
    "    roc_auc = auc(fpr, tpr)\n",
    "    aucs.append(roc_auc)\n",
    "    plt.plot(fpr, tpr, lw=2, alpha=0.3, label='ROC fold %d (AUC = %0.4f)' % (i,roc_auc))\n",
    "    \n",
    "    \n",
    "    # Precion recall by folds\n",
    "    g = plt.figure(2)\n",
    "    precision, recall, _ = precision_recall_curve(train.iloc[valid_index][target].values, oof_xgb[valid_index])\n",
    "    y_real.append(train.iloc[valid_index][target].values)\n",
    "    y_proba.append(oof_xgb[valid_index])\n",
    "    plt.plot(recall, precision, lw=2, alpha=0.3, label='P|R fold %d' % (i))\n",
    "    i= i+1\n",
    "    \n",
    "    # Confusion matrix by folds\n",
    "    cms.append(confusion_matrix(train.iloc[valid_index][target].values, oof_xgb[valid_index].round()))\n",
    "    \n",
    "    # Features imp\n",
    "    feature_important = xgbclf.get_booster().get_score(importance_type='gain')\n",
    "    xgb_main_features.append(feature_important)\n",
    "    del X_train_,y_train_\n",
    "    del xgbclf, X_valid                                                                       \n",
    "    gc.collect()\n",
    "\n",
    "\n",
    "# Metrics\n",
    "print(\n",
    "        '\\nCV roc score        : {0:.4f}, std: {1:.4f}.'.format(np.mean(roc_aucs), np.std(roc_aucs)),\n",
    "        '\\nCV accuracy score   : {0:.4f}, std: {1:.4f}.'.format(np.mean(accuracies), np.std(accuracies)),\n",
    "        '\\nCV recall score     : {0:.4f}, std: {1:.4f}.'.format(np.mean(recalls), np.std(recalls)),\n",
    "        '\\nCV precision score  : {0:.4f}, std: {1:.4f}.'.format(np.mean(precisions), np.std(precisions)),\n",
    "        '\\nCV f1 score         : {0:.4f}, std: {1:.4f}.'.format(np.mean(f1_scores), np.std(f1_scores))\n",
    ")\n",
    "\n",
    "#ROC \n",
    "f = plt.figure(1)\n",
    "plt.plot([0,1],[0,1],linestyle = '--',lw = 2,color = 'grey')\n",
    "mean_tpr = np.mean(tprs, axis=0)\n",
    "mean_auc = auc(mean_fpr, mean_tpr)\n",
    "plt.plot(mean_fpr, mean_tpr, color='blue',\n",
    "         label=r'Mean ROC (AUC = %0.4f)' % (np.mean(roc_aucs)),lw=2, alpha=1)\n",
    "\n",
    "plt.xlabel('False Positive Rate')\n",
    "plt.ylabel('True Positive Rate')\n",
    "plt.title('XGB ROC curve by folds')\n",
    "plt.legend(loc=\"lower right\")\n",
    "plt.savefig('ROC_XGB.jpg', bbox_inches='tight')\n",
    "# PR plt\n",
    "g = plt.figure(2)\n",
    "plt.plot([0,1],[1,0],linestyle = '--',lw = 2,color = 'grey')\n",
    "y_real = np.concatenate(y_real)\n",
    "y_proba = np.concatenate(y_proba)\n",
    "precision, recall, _ = precision_recall_curve(y_real, y_proba)\n",
    "plt.plot(recall, precision, color='blue',\n",
    "         label=r'Mean P|R')\n",
    "plt.xlabel('Recall')\n",
    "plt.ylabel('Precision')\n",
    "plt.title('P|R curve by folds')\n",
    "plt.legend(loc=\"lower left\")\n",
    "plt.savefig('P_R_XGB.jpg', bbox_inches='tight')\n",
    "\n",
    "# Confusion maxtrix & metrics\n",
    "plt.rcParams[\"axes.grid\"] = False\n",
    "cm = np.average(cms, axis=0)\n",
    "class_names = [0,1]\n",
    "plt.figure()\n",
    "plot_confusion_matrix(cm, \n",
    "                      classes=class_names, \n",
    "                      title= 'XGB Confusion matrix [averaged/folds]')\n",
    "plt.savefig('CM_XGB.jpg', bbox_inches='tight')\n",
    "plt.show()"
   ]
  },
  {
   "cell_type": "markdown",
   "metadata": {
    "hidden": true,
    "papermill": {
     "duration": 0.072749,
     "end_time": "2020-12-20T13:48:52.749948",
     "exception": false,
     "start_time": "2020-12-20T13:48:52.677199",
     "status": "completed"
    },
    "tags": []
   },
   "source": [
    "Use get_scores function of XGBoost to understand what XGBoost thinks to be important features"
   ]
  },
  {
   "cell_type": "code",
   "execution_count": 47,
   "metadata": {
    "execution": {
     "iopub.execute_input": "2020-12-20T13:48:52.916122Z",
     "iopub.status.busy": "2020-12-20T13:48:52.913630Z",
     "iopub.status.idle": "2020-12-20T13:48:53.156850Z",
     "shell.execute_reply": "2020-12-20T13:48:53.157302Z"
    },
    "hidden": true,
    "papermill": {
     "duration": 0.334658,
     "end_time": "2020-12-20T13:48:53.157427",
     "exception": false,
     "start_time": "2020-12-20T13:48:52.822769",
     "status": "completed"
    },
    "tags": []
   },
   "outputs": [
    {
     "data": {
      "image/png": "[encoded data removed]",
      "text/plain": [
       "<Figure size 432x288 with 1 Axes>"
      ]
     },
     "metadata": {
      "needs_background": "light"
     },
     "output_type": "display_data"
    }
   ],
   "source": [
    "avg_main_features = xgb_main_features[0]\n",
    "i = 0\n",
    "for feature_dict in xgb_main_features:\n",
    "    if i > 0:\n",
    "        for feature in feature_dict:\n",
    "            if feature in avg_main_features:\n",
    "                avg_main_features[feature] += feature_dict[feature]\n",
    "    i += 1\n",
    "for feature in avg_main_features:\n",
    "    avg_main_features[feature] /= len(xgb_main_features)\n",
    "\n",
    "keys = list(avg_main_features.keys())\n",
    "values = list(avg_main_features.values())\n",
    "\n",
    "data = pd.DataFrame(data=values, index=keys, columns=[\"score\"]).sort_values(by = \"score\", ascending=True)\n",
    "data[0:10:].plot(kind='barh')\n",
    "plt.savefig('XGB_Feature_Imp.jpg', bbox_inches='tight')"
   ]
  },
  {
   "cell_type": "markdown",
   "metadata": {
    "heading_collapsed": true,
    "hidden": true,
    "papermill": {
     "duration": 0.085391,
     "end_time": "2020-12-20T13:48:53.316491",
     "exception": false,
     "start_time": "2020-12-20T13:48:53.231100",
     "status": "completed"
    },
    "tags": []
   },
   "source": [
    "### Catboost Training\n",
    "    The following 2 cells contains the required variables, plotting and K Fold Validation code required to train the CatBoost model. \n",
    "    The second code is slightly long as the nature of the prediction is captured in each fold.\n",
    "    The tuned_param variable is initialized based on the result obtained from hyperparameter optimization of optuna module."
   ]
  },
  {
   "cell_type": "code",
   "execution_count": 48,
   "metadata": {
    "execution": {
     "iopub.execute_input": "2020-12-20T13:48:53.474046Z",
     "iopub.status.busy": "2020-12-20T13:48:53.473216Z",
     "iopub.status.idle": "2020-12-20T13:48:53.629299Z",
     "shell.execute_reply": "2020-12-20T13:48:53.628776Z"
    },
    "hidden": true,
    "papermill": {
     "duration": 0.238873,
     "end_time": "2020-12-20T13:48:53.629406",
     "exception": false,
     "start_time": "2020-12-20T13:48:53.390533",
     "status": "completed"
    },
    "tags": []
   },
   "outputs": [],
   "source": [
    "oof_cat = np.zeros(len(xtrain))\n",
    "mean_fpr = np.linspace(0,1,100)\n",
    "cms= []\n",
    "tprs = []\n",
    "aucs = []\n",
    "y_real = []\n",
    "y_proba = []\n",
    "recalls = []\n",
    "roc_aucs = []\n",
    "f1_scores = []\n",
    "accuracies = []\n",
    "precisions = []\n",
    "feature_importance_df = pd.DataFrame()\n",
    "target = 'isFraud'\n",
    "\n",
    "tuned_param = {'learning_rate': 0.25, 'depth': 8, 'bagging_temperature': 10, 'iterations': 478, 'random_strength': 3.6637673491936444e-06, 'border_count': 12, 'l2_leaf_reg': 18, 'scale_pos_weight': 0.97}\n",
    "train = xtrain.copy()\n",
    "train['isFraud'] = ytrain\n"
   ]
  },
  {
   "cell_type": "code",
   "execution_count": 49,
   "metadata": {
    "execution": {
     "iopub.execute_input": "2020-12-20T13:48:53.813775Z",
     "iopub.status.busy": "2020-12-20T13:48:53.807886Z",
     "iopub.status.idle": "2020-12-20T13:58:20.739162Z",
     "shell.execute_reply": "2020-12-20T13:58:20.738372Z"
    },
    "hidden": true,
    "papermill": {
     "duration": 567.034705,
     "end_time": "2020-12-20T13:58:20.739301",
     "exception": false,
     "start_time": "2020-12-20T13:48:53.704596",
     "status": "completed"
    },
    "tags": []
   },
   "outputs": [
    {
     "name": "stdout",
     "output_type": "stream",
     "text": [
      "ROC accuracy: 0.8765260265685603\n",
      "ROC accuracy: 0.8675981317128515\n",
      "ROC accuracy: 0.8650971023720508\n",
      "ROC accuracy: 0.8852234008630148\n",
      "ROC accuracy: 0.8744612613883667\n",
      "\n",
      "CV roc score        : 0.8738, std: 0.0071. \n",
      "CV accuracy score   : 0.9737, std: 0.0003. \n",
      "CV recall score     : 0.3140, std: 0.0108. \n",
      "CV precision score  : 0.8360, std: 0.0171. \n",
      "CV f1 score         : 0.4563, std: 0.0105.\n"
     ]
    },
    {
     "data": {
      "image/png": "[encoded data removed]",
      "text/plain": [
       "<Figure size 432x288 with 1 Axes>"
      ]
     },
     "metadata": {
      "needs_background": "light"
     },
     "output_type": "display_data"
    },
    {
     "data": {
      "image/png": "[encoded data removed]",
      "text/plain": [
       "<Figure size 432x288 with 1 Axes>"
      ]
     },
     "metadata": {
      "needs_background": "light"
     },
     "output_type": "display_data"
    },
    {
     "data": {
      "image/png": "[encoded data removed]",
      "text/plain": [
       "<Figure size 432x288 with 2 Axes>"
      ]
     },
     "metadata": {
      "needs_background": "light"
     },
     "output_type": "display_data"
    }
   ],
   "source": [
    "sample_submission = pd.read_csv('../input/frauddetect/sample_submission.csv')\n",
    "catboost_submission=sample_submission.copy()\n",
    "catboost_submission['isFraud'] = 0\n",
    "n_fold = 5\n",
    "i = 1\n",
    "folds = KFold(n_splits=n_fold,shuffle=True)\n",
    "for fold_n, (train_index, valid_index) in enumerate(folds.split(xtrain)):\n",
    "    \n",
    "    tuned_model = CatBoostClassifier(task_type = 'GPU', **tuned_param, thread_count = 2, verbose=False)\n",
    "    \n",
    "    X_train_, X_valid = xtrain.iloc[train_index], xtrain.iloc[valid_index]\n",
    "    y_train_, y_valid = ytrain.iloc[train_index], ytrain.iloc[valid_index]\n",
    "    tuned_model.fit(X_train_,y_train_, cat_features = ['ProductCD', 'P_emaildomain', 'R_emaildomain', 'card4', 'card6', 'DeviceType'])\n",
    "    \n",
    "    pred = tuned_model.predict_proba(test)[:,1]\n",
    "    val = tuned_model.predict_proba(X_valid)[:,1]\n",
    "    oof_cat[valid_index] = tuned_model.predict_proba(X_valid)[:, 1]\n",
    "    \n",
    "    # Scores \n",
    "    roc_aucs.append(roc_auc_score(train.iloc[valid_index][target].values, oof_cat[valid_index]))\n",
    "    accuracies.append(accuracy_score(train.iloc[valid_index][target].values, oof_cat[valid_index].round()))\n",
    "    recalls.append(recall_score(train.iloc[valid_index][target].values, oof_cat[valid_index].round()))\n",
    "    precisions.append(precision_score(train.iloc[valid_index][target].values ,oof_cat[valid_index].round()))\n",
    "    f1_scores.append(f1_score(train.iloc[valid_index][target].values, oof_cat[valid_index].round()))\n",
    "    \n",
    "    print('ROC accuracy: {}'.format(roc_auc_score(y_valid, val)))\n",
    "    del val,y_valid\n",
    "    catboost_submission['isFraud'] = catboost_submission['isFraud']+pred/n_fold\n",
    "    del pred\n",
    "    \n",
    "    \n",
    "    # Roc curve by folds\n",
    "    f = plt.figure(1)\n",
    "    fpr, tpr, t = roc_curve(train.iloc[valid_index][target].values, oof_cat[valid_index])\n",
    "    tprs.append(np.interp(mean_fpr, fpr, tpr))\n",
    "    roc_auc = auc(fpr, tpr)\n",
    "    aucs.append(roc_auc)\n",
    "    plt.plot(fpr, tpr, lw=2, alpha=0.3, label='ROC fold %d (AUC = %0.4f)' % (i,roc_auc))\n",
    "    \n",
    "    \n",
    "    # Precion recall by folds\n",
    "    g = plt.figure(2)\n",
    "    precision, recall, _ = precision_recall_curve(train.iloc[valid_index][target].values, oof_cat[valid_index])\n",
    "    y_real.append(train.iloc[valid_index][target].values)\n",
    "    y_proba.append(oof_cat[valid_index])\n",
    "    plt.plot(recall, precision, lw=2, alpha=0.3, label='P|R fold %d' % (i))\n",
    "    i= i+1\n",
    "    \n",
    "    # Confusion matrix by folds\n",
    "    cms.append(confusion_matrix(train.iloc[valid_index][target].values, oof_cat[valid_index].round()))\n",
    "    \n",
    "    del X_train_,y_train_\n",
    "    del tuned_model, X_valid                                                                       \n",
    "    gc.collect()\n",
    "\n",
    "\n",
    "# Metrics\n",
    "print(\n",
    "        '\\nCV roc score        : {0:.4f}, std: {1:.4f}.'.format(np.mean(roc_aucs), np.std(roc_aucs)),\n",
    "        '\\nCV accuracy score   : {0:.4f}, std: {1:.4f}.'.format(np.mean(accuracies), np.std(accuracies)),\n",
    "        '\\nCV recall score     : {0:.4f}, std: {1:.4f}.'.format(np.mean(recalls), np.std(recalls)),\n",
    "        '\\nCV precision score  : {0:.4f}, std: {1:.4f}.'.format(np.mean(precisions), np.std(precisions)),\n",
    "        '\\nCV f1 score         : {0:.4f}, std: {1:.4f}.'.format(np.mean(f1_scores), np.std(f1_scores))\n",
    ")\n",
    "\n",
    "#ROC \n",
    "f = plt.figure(1)\n",
    "plt.plot([0,1],[0,1],linestyle = '--',lw = 2,color = 'grey')\n",
    "mean_tpr = np.mean(tprs, axis=0)\n",
    "mean_auc = auc(mean_fpr, mean_tpr)\n",
    "plt.plot(mean_fpr, mean_tpr, color='blue',\n",
    "         label=r'Mean ROC (AUC = %0.4f)' % (np.mean(roc_aucs)),lw=2, alpha=1)\n",
    "\n",
    "plt.xlabel('False Positive Rate')\n",
    "plt.ylabel('True Positive Rate')\n",
    "plt.title('CAT ROC curve by folds')\n",
    "plt.legend(loc=\"lower right\")\n",
    "plt.savefig('ROC_CAT.jpg', bbox_inches='tight')\n",
    "# PR plt\n",
    "g = plt.figure(2)\n",
    "plt.plot([0,1],[1,0],linestyle = '--',lw = 2,color = 'grey')\n",
    "y_real = np.concatenate(y_real)\n",
    "y_proba = np.concatenate(y_proba)\n",
    "precision, recall, _ = precision_recall_curve(y_real, y_proba)\n",
    "plt.plot(recall, precision, color='blue',\n",
    "         label=r'Mean P|R')\n",
    "plt.xlabel('Recall')\n",
    "plt.ylabel('Precision')\n",
    "plt.title('P|R curve by folds')\n",
    "plt.legend(loc=\"lower left\")\n",
    "plt.savefig('P_R_CAT.jpg', bbox_inches='tight')\n",
    "\n",
    "# Confusion maxtrix & metrics\n",
    "plt.rcParams[\"axes.grid\"] = False\n",
    "cm = np.average(cms, axis=0)\n",
    "class_names = [0,1]\n",
    "plt.figure()\n",
    "plot_confusion_matrix(cm, \n",
    "                      classes=class_names, \n",
    "                      title= 'CAT Confusion matrix [averaged/folds]')\n",
    "plt.savefig('CM_CAT.jpg', bbox_inches='tight')\n"
   ]
  },
  {
   "cell_type": "code",
   "execution_count": 50,
   "metadata": {
    "execution": {
     "iopub.execute_input": "2020-12-20T13:58:20.909563Z",
     "iopub.status.busy": "2020-12-20T13:58:20.908794Z",
     "iopub.status.idle": "2020-12-20T13:58:22.100644Z",
     "shell.execute_reply": "2020-12-20T13:58:22.100071Z"
    },
    "hidden": true,
    "papermill": {
     "duration": 1.279258,
     "end_time": "2020-12-20T13:58:22.100743",
     "exception": false,
     "start_time": "2020-12-20T13:58:20.821485",
     "status": "completed"
    },
    "tags": []
   },
   "outputs": [],
   "source": [
    "submission = pd.read_csv('../input/frauddetect/sample_submission.csv')\n",
    "submission['isFraud'] = catboost_submission['isFraud']\n",
    "submission.to_csv('cat_submission.csv', index=False)"
   ]
  },
  {
   "cell_type": "markdown",
   "metadata": {
    "heading_collapsed": true,
    "hidden": true,
    "papermill": {
     "duration": 0.078657,
     "end_time": "2020-12-20T13:58:22.294389",
     "exception": false,
     "start_time": "2020-12-20T13:58:22.215732",
     "status": "completed"
    },
    "tags": []
   },
   "source": [
    "### Ensemble\n",
    "        \n",
    "        Code to submit an ensemble of 2 models with respecitive weights. "
   ]
  },
  {
   "cell_type": "code",
   "execution_count": 51,
   "metadata": {
    "execution": {
     "iopub.execute_input": "2020-12-20T13:58:22.457877Z",
     "iopub.status.busy": "2020-12-20T13:58:22.456831Z",
     "iopub.status.idle": "2020-12-20T13:58:23.388345Z",
     "shell.execute_reply": "2020-12-20T13:58:23.387799Z"
    },
    "hidden": true,
    "papermill": {
     "duration": 1.015872,
     "end_time": "2020-12-20T13:58:23.388448",
     "exception": false,
     "start_time": "2020-12-20T13:58:22.372576",
     "status": "completed"
    },
    "tags": []
   },
   "outputs": [],
   "source": [
    "submission = pd.read_csv('../input/frauddetect/sample_submission.csv')\n",
    "submission['isFraud'] = 0.8*xgb_submission['isFraud'] + 0.2*catboost_submission['isFraud']\n",
    "submission.to_csv('ensemble_submit.csv', index=False)"
   ]
  },
  {
   "cell_type": "markdown",
   "metadata": {
    "heading_collapsed": true,
    "hidden": true,
    "papermill": {
     "duration": 0.077827,
     "end_time": "2020-12-20T13:58:23.545886",
     "exception": false,
     "start_time": "2020-12-20T13:58:23.468059",
     "status": "completed"
    },
    "tags": []
   },
   "source": [
    "### Post Processing\n",
    "    Commented because it is conceptual not applicable to the problem. The reason is explained in detail in the report.\n",
    "Code explanation:\n",
    "        \n",
    "    Find out the mean target values for each userid and then for userid's in test, update the prediction of the model with these mean values (along with some weight(higher weight for more importance on userid))"
   ]
  },
  {
   "cell_type": "code",
   "execution_count": 52,
   "metadata": {
    "execution": {
     "iopub.execute_input": "2020-12-20T13:58:23.707970Z",
     "iopub.status.busy": "2020-12-20T13:58:23.707422Z",
     "iopub.status.idle": "2020-12-20T13:58:23.711020Z",
     "shell.execute_reply": "2020-12-20T13:58:23.710610Z"
    },
    "hidden": true,
    "papermill": {
     "duration": 0.087272,
     "end_time": "2020-12-20T13:58:23.711140",
     "exception": false,
     "start_time": "2020-12-20T13:58:23.623868",
     "status": "completed"
    },
    "tags": []
   },
   "outputs": [],
   "source": [
    "# xtrain['is_train'] = 1\n",
    "# test['is_train'] = 0\n",
    "# xtrain['userid'] = user_info_train\n",
    "# test['userid'] = user_info_test\n",
    "# xtrain['isFraud'] = ytrain\n",
    "# test['isFraud'] = xgb_submission['isFraud']\n",
    "# total_data = pd.concat([xtrain, test], axis = 0)\n",
    "# total_data['known_fraud'] = total_data.groupby(['userid'])['isFraud'].shift(1)\n",
    "# test['NewF'] = test['userid'].map(total_data.groupby(\"userid\")['isFraud'].quantile(0.9))"
   ]
  },
  {
   "cell_type": "code",
   "execution_count": 53,
   "metadata": {
    "execution": {
     "iopub.execute_input": "2020-12-20T13:58:24.040816Z",
     "iopub.status.busy": "2020-12-20T13:58:24.039858Z",
     "iopub.status.idle": "2020-12-20T13:58:24.993069Z",
     "shell.execute_reply": "2020-12-20T13:58:24.992608Z"
    },
    "hidden": true,
    "papermill": {
     "duration": 1.044345,
     "end_time": "2020-12-20T13:58:24.993217",
     "exception": false,
     "start_time": "2020-12-20T13:58:23.948872",
     "status": "completed"
    },
    "tags": []
   },
   "outputs": [],
   "source": [
    "submission = pd.read_csv('../input/frauddetect/sample_submission.csv')\n",
    "submission['isFraud'] = xgb_submission['isFraud']\n",
    "submission.to_csv('xgb_prediction.csv', index=False)"
   ]
  }
 ],
 "metadata": {
  "kernelspec": {
   "display_name": "Python 3",
   "language": "python",
   "name": "python3"
  },
  "language_info": {
   "codemirror_mode": {
    "name": "ipython",
    "version": 3
   },
   "file_extension": ".py",
   "mimetype": "text/x-python",
   "name": "python",
   "nbconvert_exporter": "python",
   "pygments_lexer": "ipython3",
   "version": "3.7.6"
  },
  "papermill": {
   "duration": 8365.252368,
   "end_time": "2020-12-20T13:58:25.580402",
   "environment_variables": {},
   "exception": null,
   "input_path": "__notebook__.ipynb",
   "output_path": "__notebook__.ipynb",
   "parameters": {},
   "start_time": "2020-12-20T11:39:00.328034",
   "version": "2.1.0"
  }
 },
 "nbformat": 4,
 "nbformat_minor": 4
}
